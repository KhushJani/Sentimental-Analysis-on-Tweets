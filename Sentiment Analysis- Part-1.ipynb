{
 "cells": [
  {
   "cell_type": "markdown",
   "id": "44c70337",
   "metadata": {},
   "source": [
    "# 1. Load The Tweets Dataset "
   ]
  },
  {
   "cell_type": "code",
   "execution_count": 1,
   "id": "1c6d6b10",
   "metadata": {},
   "outputs": [],
   "source": [
    "import pandas as pd\n",
    "pd.set_option(\"display.max_colwidth\", 200)"
   ]
  },
  {
   "cell_type": "code",
   "execution_count": 2,
   "id": "8d002621",
   "metadata": {},
   "outputs": [
    {
     "data": {
      "text/html": [
       "<div>\n",
       "<style scoped>\n",
       "    .dataframe tbody tr th:only-of-type {\n",
       "        vertical-align: middle;\n",
       "    }\n",
       "\n",
       "    .dataframe tbody tr th {\n",
       "        vertical-align: top;\n",
       "    }\n",
       "\n",
       "    .dataframe thead th {\n",
       "        text-align: right;\n",
       "    }\n",
       "</style>\n",
       "<table border=\"1\" class=\"dataframe\">\n",
       "  <thead>\n",
       "    <tr style=\"text-align: right;\">\n",
       "      <th></th>\n",
       "      <th>id</th>\n",
       "      <th>label</th>\n",
       "      <th>tweet</th>\n",
       "    </tr>\n",
       "  </thead>\n",
       "  <tbody>\n",
       "    <tr>\n",
       "      <th>0</th>\n",
       "      <td>1</td>\n",
       "      <td>0</td>\n",
       "      <td>#fingerprint #Pregnancy Test https://goo.gl/h1MfQV #android #apps #beautiful #cute #health #igers #iphoneonly #iphonesia #iphone</td>\n",
       "    </tr>\n",
       "    <tr>\n",
       "      <th>1</th>\n",
       "      <td>2</td>\n",
       "      <td>0</td>\n",
       "      <td>Finally a transparant silicon case ^^ Thanks to my uncle :) #yay #Sony #Xperia #S #sonyexperias… http://instagram.com/p/YGEt5JC6JM/</td>\n",
       "    </tr>\n",
       "    <tr>\n",
       "      <th>2</th>\n",
       "      <td>3</td>\n",
       "      <td>0</td>\n",
       "      <td>We love this! Would you go? #talk #makememories #unplug #relax #iphone #smartphone #wifi #connect... http://fb.me/6N3LsUpCu</td>\n",
       "    </tr>\n",
       "    <tr>\n",
       "      <th>3</th>\n",
       "      <td>4</td>\n",
       "      <td>0</td>\n",
       "      <td>I'm wired I know I'm George I was made that way ;) #iphone #cute #daventry #home http://instagr.am/p/Li_5_ujS4k/</td>\n",
       "    </tr>\n",
       "    <tr>\n",
       "      <th>4</th>\n",
       "      <td>5</td>\n",
       "      <td>1</td>\n",
       "      <td>What amazing service! Apple won't even talk to me about a question I have unless I pay them $19.95 for their stupid support!</td>\n",
       "    </tr>\n",
       "  </tbody>\n",
       "</table>\n",
       "</div>"
      ],
      "text/plain": [
       "   id  label  \\\n",
       "0   1      0   \n",
       "1   2      0   \n",
       "2   3      0   \n",
       "3   4      0   \n",
       "4   5      1   \n",
       "\n",
       "                                                                                                                                 tweet  \n",
       "0     #fingerprint #Pregnancy Test https://goo.gl/h1MfQV #android #apps #beautiful #cute #health #igers #iphoneonly #iphonesia #iphone  \n",
       "1  Finally a transparant silicon case ^^ Thanks to my uncle :) #yay #Sony #Xperia #S #sonyexperias… http://instagram.com/p/YGEt5JC6JM/  \n",
       "2          We love this! Would you go? #talk #makememories #unplug #relax #iphone #smartphone #wifi #connect... http://fb.me/6N3LsUpCu  \n",
       "3                     I'm wired I know I'm George I was made that way ;) #iphone #cute #daventry #home http://instagr.am/p/Li_5_ujS4k/  \n",
       "4         What amazing service! Apple won't even talk to me about a question I have unless I pay them $19.95 for their stupid support!  "
      ]
     },
     "execution_count": 2,
     "metadata": {},
     "output_type": "execute_result"
    }
   ],
   "source": [
    "data = pd.read_csv('tweets.csv')\n",
    "data.head()"
   ]
  },
  {
   "cell_type": "code",
   "execution_count": 3,
   "id": "377d93bf",
   "metadata": {},
   "outputs": [],
   "source": [
    "# 0 refers to positive sentiment, 1 is negative sentiment"
   ]
  },
  {
   "cell_type": "code",
   "execution_count": 4,
   "id": "607aab79",
   "metadata": {},
   "outputs": [
    {
     "name": "stdout",
     "output_type": "stream",
     "text": [
      "<class 'pandas.core.frame.DataFrame'>\n",
      "RangeIndex: 7920 entries, 0 to 7919\n",
      "Data columns (total 3 columns):\n",
      " #   Column  Non-Null Count  Dtype \n",
      "---  ------  --------------  ----- \n",
      " 0   id      7920 non-null   int64 \n",
      " 1   label   7920 non-null   int64 \n",
      " 2   tweet   7920 non-null   object\n",
      "dtypes: int64(2), object(1)\n",
      "memory usage: 185.8+ KB\n"
     ]
    }
   ],
   "source": [
    "data.info()"
   ]
  },
  {
   "cell_type": "code",
   "execution_count": 5,
   "id": "25e83372",
   "metadata": {},
   "outputs": [
    {
     "data": {
      "text/plain": [
       "id       0\n",
       "label    0\n",
       "tweet    0\n",
       "dtype: int64"
      ]
     },
     "execution_count": 5,
     "metadata": {},
     "output_type": "execute_result"
    }
   ],
   "source": [
    "# check for missing values\n",
    "data.isnull().sum()"
   ]
  },
  {
   "cell_type": "code",
   "execution_count": 6,
   "id": "3a762be5",
   "metadata": {},
   "outputs": [
    {
     "data": {
      "text/html": [
       "<div>\n",
       "<style scoped>\n",
       "    .dataframe tbody tr th:only-of-type {\n",
       "        vertical-align: middle;\n",
       "    }\n",
       "\n",
       "    .dataframe tbody tr th {\n",
       "        vertical-align: top;\n",
       "    }\n",
       "\n",
       "    .dataframe thead th {\n",
       "        text-align: right;\n",
       "    }\n",
       "</style>\n",
       "<table border=\"1\" class=\"dataframe\">\n",
       "  <thead>\n",
       "    <tr style=\"text-align: right;\">\n",
       "      <th></th>\n",
       "      <th>id</th>\n",
       "      <th>label</th>\n",
       "      <th>tweet</th>\n",
       "    </tr>\n",
       "  </thead>\n",
       "  <tbody>\n",
       "    <tr>\n",
       "      <th>0</th>\n",
       "      <td>1</td>\n",
       "      <td>0</td>\n",
       "      <td>#fingerprint #Pregnancy Test https://goo.gl/h1MfQV #android #apps #beautiful #cute #health #igers #iphoneonly #iphonesia #iphone</td>\n",
       "    </tr>\n",
       "    <tr>\n",
       "      <th>1</th>\n",
       "      <td>2</td>\n",
       "      <td>0</td>\n",
       "      <td>Finally a transparant silicon case ^^ Thanks to my uncle :) #yay #Sony #Xperia #S #sonyexperias… http://instagram.com/p/YGEt5JC6JM/</td>\n",
       "    </tr>\n",
       "    <tr>\n",
       "      <th>2</th>\n",
       "      <td>3</td>\n",
       "      <td>0</td>\n",
       "      <td>We love this! Would you go? #talk #makememories #unplug #relax #iphone #smartphone #wifi #connect... http://fb.me/6N3LsUpCu</td>\n",
       "    </tr>\n",
       "    <tr>\n",
       "      <th>3</th>\n",
       "      <td>4</td>\n",
       "      <td>0</td>\n",
       "      <td>I'm wired I know I'm George I was made that way ;) #iphone #cute #daventry #home http://instagr.am/p/Li_5_ujS4k/</td>\n",
       "    </tr>\n",
       "    <tr>\n",
       "      <th>4</th>\n",
       "      <td>5</td>\n",
       "      <td>1</td>\n",
       "      <td>What amazing service! Apple won't even talk to me about a question I have unless I pay them $19.95 for their stupid support!</td>\n",
       "    </tr>\n",
       "  </tbody>\n",
       "</table>\n",
       "</div>"
      ],
      "text/plain": [
       "   id  label  \\\n",
       "0   1      0   \n",
       "1   2      0   \n",
       "2   3      0   \n",
       "3   4      0   \n",
       "4   5      1   \n",
       "\n",
       "                                                                                                                                 tweet  \n",
       "0     #fingerprint #Pregnancy Test https://goo.gl/h1MfQV #android #apps #beautiful #cute #health #igers #iphoneonly #iphonesia #iphone  \n",
       "1  Finally a transparant silicon case ^^ Thanks to my uncle :) #yay #Sony #Xperia #S #sonyexperias… http://instagram.com/p/YGEt5JC6JM/  \n",
       "2          We love this! Would you go? #talk #makememories #unplug #relax #iphone #smartphone #wifi #connect... http://fb.me/6N3LsUpCu  \n",
       "3                     I'm wired I know I'm George I was made that way ;) #iphone #cute #daventry #home http://instagr.am/p/Li_5_ujS4k/  \n",
       "4         What amazing service! Apple won't even talk to me about a question I have unless I pay them $19.95 for their stupid support!  "
      ]
     },
     "execution_count": 6,
     "metadata": {},
     "output_type": "execute_result"
    }
   ],
   "source": [
    "# drop the id column\n",
    "# data.drop(['id'], axis=1, inplace=True)\n",
    "data.head()"
   ]
  },
  {
   "cell_type": "code",
   "execution_count": 7,
   "id": "5fef08e2",
   "metadata": {},
   "outputs": [
    {
     "data": {
      "text/plain": [
       "0    0.744192\n",
       "1    0.255808\n",
       "Name: label, dtype: float64"
      ]
     },
     "execution_count": 7,
     "metadata": {},
     "output_type": "execute_result"
    }
   ],
   "source": [
    "# Check for the class balance\n",
    "data['label'].value_counts(normalize=True)"
   ]
  },
  {
   "cell_type": "code",
   "execution_count": 8,
   "id": "da964ccc",
   "metadata": {},
   "outputs": [
    {
     "data": {
      "text/plain": [
       "<AxesSubplot:>"
      ]
     },
     "execution_count": 8,
     "metadata": {},
     "output_type": "execute_result"
    },
    {
     "data": {
      "image/png": "[encoded data removed]",
      "text/plain": [
       "<Figure size 640x480 with 1 Axes>"
      ]
     },
     "metadata": {},
     "output_type": "display_data"
    }
   ],
   "source": [
    "# plot the label counts \n",
    "data['label'].value_counts().plot(kind='bar')"
   ]
  },
  {
   "cell_type": "markdown",
   "id": "2ebe7934",
   "metadata": {},
   "source": [
    "# 2. Data Cleaning"
   ]
  },
  {
   "cell_type": "code",
   "execution_count": 9,
   "id": "864cb495",
   "metadata": {},
   "outputs": [
    {
     "data": {
      "text/plain": [
       "\"It's time for new wallpapers #phone #wallpapers #wall #screen #galaxy #samsung #app … https://www.instagram.com/p/BcsKTNNn51c/\""
      ]
     },
     "execution_count": 9,
     "metadata": {},
     "output_type": "execute_result"
    }
   ],
   "source": [
    "data['tweet'][24]"
   ]
  },
  {
   "cell_type": "code",
   "execution_count": 10,
   "id": "29638830",
   "metadata": {},
   "outputs": [],
   "source": [
    "import re"
   ]
  },
  {
   "cell_type": "code",
   "execution_count": 11,
   "id": "e21a6b13",
   "metadata": {},
   "outputs": [
    {
     "data": {
      "text/plain": [
       "'It is time for new wallpapers #phone #wallpapers #wall #screen #galaxy #samsung #app … https://www.instagram.com/p/BcsKTNNn51c/'"
      ]
     },
     "execution_count": 11,
     "metadata": {},
     "output_type": "execute_result"
    }
   ],
   "source": [
    "# Substitute 's with \" is\" \n",
    "re.sub(r\"'s\\b\", \" is\", data['tweet'][24])"
   ]
  },
  {
   "cell_type": "code",
   "execution_count": 12,
   "id": "cd7dcd23",
   "metadata": {},
   "outputs": [
    {
     "data": {
      "text/plain": [
       "'Ha! Not heavy machinery but it does what I need it to. @Apple really dropped the ball with that design. #drinkyourhaterade'"
      ]
     },
     "execution_count": 12,
     "metadata": {},
     "output_type": "execute_result"
    }
   ],
   "source": [
    "# Removing the user mentions\n",
    "data['tweet'][11]"
   ]
  },
  {
   "cell_type": "code",
   "execution_count": 13,
   "id": "6376ce28",
   "metadata": {},
   "outputs": [
    {
     "data": {
      "text/plain": [
       "'Ha! Not heavy machinery but it does what I need it to.  really dropped the ball with that design. #drinkyourhaterade'"
      ]
     },
     "execution_count": 13,
     "metadata": {},
     "output_type": "execute_result"
    }
   ],
   "source": [
    "# We'll retain on the alphabets & digits\n",
    "re.sub(\"@[A-Za-z0-9]+\", \"\", data['tweet'][11])"
   ]
  },
  {
   "cell_type": "code",
   "execution_count": 14,
   "id": "dfef97f7",
   "metadata": {},
   "outputs": [
    {
     "data": {
      "text/plain": [
       "'#fingerprint #Pregnancy Test https://goo.gl/h1MfQV #android #apps #beautiful #cute #health #igers #iphoneonly #iphonesia #iphone'"
      ]
     },
     "execution_count": 14,
     "metadata": {},
     "output_type": "execute_result"
    }
   ],
   "source": [
    "# remive the hashtags\n",
    "data['tweet'][0]"
   ]
  },
  {
   "cell_type": "code",
   "execution_count": 15,
   "id": "414a68ed",
   "metadata": {},
   "outputs": [
    {
     "data": {
      "text/plain": [
       "'fingerprint Pregnancy Test https://goo.gl/h1MfQV android apps beautiful cute health igers iphoneonly iphonesia iphone'"
      ]
     },
     "execution_count": 15,
     "metadata": {},
     "output_type": "execute_result"
    }
   ],
   "source": [
    "re.sub(\"#\", \"\", data['tweet'][0])"
   ]
  },
  {
   "cell_type": "code",
   "execution_count": 16,
   "id": "d228f1a8",
   "metadata": {},
   "outputs": [
    {
     "data": {
      "text/plain": [
       "'#fingerprint #Pregnancy Test  #android #apps #beautiful #cute #health #igers #iphoneonly #iphonesia #iphone'"
      ]
     },
     "execution_count": 16,
     "metadata": {},
     "output_type": "execute_result"
    }
   ],
   "source": [
    "# Removing the hyperlinks\n",
    "re.sub(r\"http\\S+\", \"\", data['tweet'][0])"
   ]
  },
  {
   "cell_type": "code",
   "execution_count": 17,
   "id": "6db434b8",
   "metadata": {},
   "outputs": [
    {
     "data": {
      "text/plain": [
       "'1.05 billion for 3 patents where there is prior art = 300 millions each = patent trolls are partying now thanks to Apple #apple'"
      ]
     },
     "execution_count": 17,
     "metadata": {},
     "output_type": "execute_result"
    }
   ],
   "source": [
    "# Retain on the alphabets (get rid of punctuations, special char, digits)\n",
    "data['tweet'][25]"
   ]
  },
  {
   "cell_type": "code",
   "execution_count": 18,
   "id": "39aba7ae",
   "metadata": {},
   "outputs": [
    {
     "data": {
      "text/plain": [
       "' fingerprint  Pregnancy Test https   goo gl h MfQV  android  apps  beautiful  cute  health  igers  iphoneonly  iphonesia  iphone'"
      ]
     },
     "execution_count": 18,
     "metadata": {},
     "output_type": "execute_result"
    }
   ],
   "source": [
    "re.sub(r\"[^a-zA-Z]\", \" \", data['tweet'][0])"
   ]
  },
  {
   "cell_type": "code",
   "execution_count": 35,
   "id": "64848c44",
   "metadata": {},
   "outputs": [],
   "source": [
    "# Stop words Removal\n",
    "import nltk\n",
    "from nltk.corpus import stopwords"
   ]
  },
  {
   "cell_type": "code",
   "execution_count": 36,
   "id": "e791f4e7",
   "metadata": {},
   "outputs": [
    {
     "name": "stdout",
     "output_type": "stream",
     "text": [
      "{'weren', 'out', 'itself', 'was', 'up', 'so', 'should', 'not', \"doesn't\", \"don't\", 'as', 'ain', \"didn't\", 'her', \"you'd\", 'just', 'which', 'and', \"mightn't\", 'can', 'didn', 'have', 'by', 'to', 'under', 'mightn', \"wasn't\", \"that'll\", 'some', \"mustn't\", 'of', 'from', 'yourselves', \"should've\", 'i', 'a', 'how', 'am', 'before', 'each', 'down', 'will', 'why', 'aren', 'be', 'on', 'shan', 'been', 'off', 'does', \"you've\", 'do', 'hasn', 'yours', 'ma', 'this', 'too', \"haven't\", 'the', \"needn't\", 'what', 'whom', 'is', 'couldn', \"couldn't\", 'once', 's', 'for', 'or', 'his', 'you', 'haven', \"wouldn't\", 'against', 'when', 'hers', 'mustn', 'where', 'it', \"you're\", 'below', 'hadn', 'ourselves', 'were', 'again', 'she', 'then', 'no', 'won', 'more', 'these', 'my', 'has', 'between', 'theirs', 'don', 'those', 'them', 'while', 'over', \"aren't\", 'had', \"shan't\", 'isn', 'shouldn', \"she's\", 'if', 'into', 'such', 'few', 'yourself', 'being', 'herself', \"hasn't\", \"won't\", 'wasn', 'having', 'here', \"it's\", 'are', 'after', \"isn't\", 'than', 'him', 'that', 'we', 'at', 'doing', 'most', 'but', 'both', 'they', 't', 'further', 'about', 'their', 'with', 'own', 'wouldn', 've', 'its', 'nor', 'only', 'during', 'through', \"shouldn't\", 'd', 'our', 'above', 'an', 'o', 'themselves', 're', 'he', 'because', 'until', 'very', 'himself', 'there', 'any', 'all', 'me', \"you'll\", 'your', \"weren't\", 'did', 'll', 'in', 'needn', 'same', 'm', 'now', 'other', 'doesn', 'y', 'myself', 'ours', 'who', \"hadn't\"}\n"
     ]
    }
   ],
   "source": [
    "nltk_stopwords = set(stopwords.words('english'))\n",
    "print(nltk_stopwords)"
   ]
  },
  {
   "cell_type": "code",
   "execution_count": 37,
   "id": "f4ae7f75",
   "metadata": {},
   "outputs": [
    {
     "data": {
      "text/plain": [
       "179"
      ]
     },
     "execution_count": 37,
     "metadata": {},
     "output_type": "execute_result"
    }
   ],
   "source": [
    "len(nltk_stopwords)"
   ]
  },
  {
   "cell_type": "code",
   "execution_count": 38,
   "id": "3a8095da",
   "metadata": {},
   "outputs": [
    {
     "name": "stdout",
     "output_type": "stream",
     "text": [
      "{'even', 'whence', 'itself', 'was', 'up', 'not', 'enough', 'as', 'her', 'toward', 'formerly', 'whether', 'meanwhile', 'detail', 'side', 'have', 'eight', 'ltd', 'anyone', 'of', 'every', 'seem', 'yourselves', 'how', 'i', 'get', 'each', 'never', 'before', 'though', 'sincere', 'down', 'eg', 'why', 'mine', 'keep', 'on', 'off', 'been', 'wherein', 'either', 'seemed', 'thick', 'amongst', 'see', 'too', 'thereby', 'via', 'done', 'eleven', 'the', 'due', 'what', 'whom', 'is', 'found', 'towards', 'part', 'yet', 'once', 'might', 'everything', 'move', 'etc', 'last', 'un', 'nowhere', 'often', 'third', 'along', 'when', 'nobody', 'us', 'amount', 'below', 'hence', 'noone', 'thereupon', 'co', 'whenever', 'ourselves', 'least', 'again', 'she', 'per', 'becomes', 'sometimes', 'these', 'those', 'around', 'them', 'afterwards', 'bottom', 'beyond', 'full', 'must', 'being', 'here', 'are', 'three', 'after', 'than', 'indeed', 'him', 'somehow', 'mostly', 'we', 'at', 'both', 'they', 'may', 'elsewhere', 'top', 'about', 'whole', 'twelve', 'with', 'cant', 'ever', 'would', 'serious', 'nor', 'during', 'anything', 'already', 'together', 'an', 'almost', 'become', 'themselves', 're', 'he', 'show', 'because', 'onto', 'all', 'amoungst', 'your', 'whither', 'me', 'except', 'another', 'in', 'same', 'something', 'five', 'other', 'cry', 'first', 'myself', 'ours', 'system', 'con', 'among', 'hasnt', 'who', 'out', 'therein', 'many', 'call', 'so', 'should', 'thereafter', 'whereby', 'made', 'also', 'interest', 'former', 'de', 'alone', 'which', 'and', 'can', 'thin', 'by', 'to', 'several', 'under', 'herein', 'two', 'anyhow', 'some', 'sixty', 'becoming', 'from', 'a', 'six', 'am', 'else', 'throughout', 'otherwise', 'put', 'anyway', 'one', 'mill', 'whereafter', 'everyone', 'will', 'be', 'wherever', 'next', 'perhaps', 'do', 'within', 'yours', 'whatever', 'this', 'whose', 'twenty', 'since', 'please', 'nine', 'for', 'nevertheless', 'or', 'his', 'across', 'upon', 'you', 'give', 'fifteen', 'latterly', 'against', 'hers', 'name', 'however', 'fifty', 'where', 'although', 'it', 'take', 'fire', 'whereas', 'hereby', 'forty', 'were', 'then', 'seeming', 'no', 'whoever', 'sometime', 'go', 'back', 'more', 'has', 'my', 'beforehand', 'between', 'behind', 'over', 'while', 'much', 'hundred', 'beside', 'describe', 'thru', 'ie', 'had', 'thus', 'everywhere', 'seems', 'find', 'if', 'always', 'into', 'less', 'such', 'few', 'anywhere', 'besides', 'hereafter', 'yourself', 'herself', 'someone', 'became', 'that', 'none', 'most', 'without', 'but', 'cannot', 'further', 'bill', 'whereupon', 'four', 'their', 'inc', 'own', 'couldnt', 'its', 'only', 'front', 'latter', 'through', 'therefore', 'empty', 'our', 'above', 'hereupon', 'nothing', 'very', 'until', 'thence', 'himself', 'there', 'neither', 'any', 'namely', 'others', 'fill', 'moreover', 'well', 'ten', 'rather', 'now', 'somewhere', 'could', 'still'}\n"
     ]
    }
   ],
   "source": [
    "from sklearn.feature_extraction.text import ENGLISH_STOP_WORDS\n",
    "sklearn_stopwords = set(ENGLISH_STOP_WORDS)\n",
    "print(sklearn_stopwords)"
   ]
  },
  {
   "cell_type": "code",
   "execution_count": 39,
   "id": "cf4e095c",
   "metadata": {},
   "outputs": [
    {
     "data": {
      "text/plain": [
       "318"
      ]
     },
     "execution_count": 39,
     "metadata": {},
     "output_type": "execute_result"
    }
   ],
   "source": [
    "len(sklearn_stopwords)"
   ]
  },
  {
   "cell_type": "code",
   "execution_count": 40,
   "id": "c0b37185",
   "metadata": {},
   "outputs": [
    {
     "name": "stdout",
     "output_type": "stream",
     "text": [
      "{'out', 'itself', 'was', 'up', 'so', 'should', 'not', 'as', 'her', 'which', 'and', 'can', 'have', 'to', 'by', 'under', 'some', 'of', 'from', 'yourselves', 'i', 'a', 'how', 'am', 'before', 'each', 'down', 'will', 'why', 'be', 'on', 'off', 'been', 'do', 'yours', 'this', 'too', 'the', 'what', 'whom', 'is', 'once', 'for', 'or', 'his', 'you', 'against', 'when', 'hers', 'where', 'it', 'below', 'ourselves', 'were', 'again', 'then', 'she', 'no', 'more', 'these', 'my', 'has', 'between', 'those', 'them', 'while', 'over', 'had', 'if', 'into', 'such', 'few', 'yourself', 'being', 'herself', 'here', 'are', 'after', 'than', 'him', 'that', 'we', 'at', 'most', 'but', 'both', 'they', 'further', 'about', 'their', 'with', 'own', 'its', 'nor', 'only', 'during', 'through', 'our', 'above', 'an', 'themselves', 're', 'he', 'because', 'until', 'very', 'himself', 'there', 'any', 'all', 'me', 'your', 'in', 'same', 'now', 'other', 'myself', 'ours', 'who'}\n"
     ]
    }
   ],
   "source": [
    "# Find the common stopwords from NLTK & sklearn\n",
    "print(nltk_stopwords.intersection(sklearn_stopwords))"
   ]
  },
  {
   "cell_type": "code",
   "execution_count": 41,
   "id": "f46b31b6",
   "metadata": {},
   "outputs": [
    {
     "data": {
      "text/plain": [
       "119"
      ]
     },
     "execution_count": 41,
     "metadata": {},
     "output_type": "execute_result"
    }
   ],
   "source": [
    "len(nltk_stopwords.intersection(sklearn_stopwords))"
   ]
  },
  {
   "cell_type": "code",
   "execution_count": 42,
   "id": "4d244574",
   "metadata": {},
   "outputs": [],
   "source": [
    "# Combining the stopwords from sklearn & NLTK\n",
    "combined_stopwords = nltk_stopwords.union(sklearn_stopwords)"
   ]
  },
  {
   "cell_type": "code",
   "execution_count": 43,
   "id": "7c5cab13",
   "metadata": {},
   "outputs": [
    {
     "data": {
      "text/plain": [
       "378"
      ]
     },
     "execution_count": 43,
     "metadata": {},
     "output_type": "execute_result"
    }
   ],
   "source": [
    "len(combined_stopwords)"
   ]
  },
  {
   "cell_type": "code",
   "execution_count": 44,
   "id": "1434274a",
   "metadata": {},
   "outputs": [],
   "source": [
    "# Text Normalization: Stemming or Lemmatization (prefer)\n",
    "from nltk.stem import WordNetLemmatizer\n",
    "lemmatizer = WordNetLemmatizer()"
   ]
  },
  {
   "cell_type": "code",
   "execution_count": 45,
   "id": "adf51cf7",
   "metadata": {},
   "outputs": [
    {
     "data": {
      "text/plain": [
       "['Gain',\n",
       " 'Followers',\n",
       " 'RT',\n",
       " 'This',\n",
       " 'MUST',\n",
       " 'FOLLOW',\n",
       " 'ME',\n",
       " 'I',\n",
       " 'FOLLOW',\n",
       " 'BACK',\n",
       " 'Follow',\n",
       " 'everyone',\n",
       " 'who',\n",
       " 'rts',\n",
       " 'Gain',\n",
       " '#iphone',\n",
       " '#sougofollow',\n",
       " '#ff',\n",
       " 'i7si']"
      ]
     },
     "execution_count": 45,
     "metadata": {},
     "output_type": "execute_result"
    }
   ],
   "source": [
    "data['tweet'][63].split()"
   ]
  },
  {
   "cell_type": "code",
   "execution_count": 46,
   "id": "44aa4683",
   "metadata": {},
   "outputs": [
    {
     "ename": "LookupError",
     "evalue": "\n**********************************************************************\n  Resource \u001b[93mwordnet\u001b[0m not found.\n  Please use the NLTK Downloader to obtain the resource:\n\n  \u001b[31m>>> import nltk\n  >>> nltk.download('wordnet')\n  \u001b[0m\n  For more information see: https://www.nltk.org/data.html\n\n  Attempted to load \u001b[93mcorpora/wordnet\u001b[0m\n\n  Searched in:\n    - 'C:\\\\Users\\\\khush/nltk_data'\n    - 'C:\\\\Users\\\\khush\\\\anaconda3\\\\nltk_data'\n    - 'C:\\\\Users\\\\khush\\\\anaconda3\\\\share\\\\nltk_data'\n    - 'C:\\\\Users\\\\khush\\\\anaconda3\\\\lib\\\\nltk_data'\n    - 'C:\\\\Users\\\\khush\\\\AppData\\\\Roaming\\\\nltk_data'\n    - 'C:\\\\nltk_data'\n    - 'D:\\\\nltk_data'\n    - 'E:\\\\nltk_data'\n**********************************************************************\n",
     "output_type": "error",
     "traceback": [
      "\u001b[1;31m---------------------------------------------------------------------------\u001b[0m",
      "\u001b[1;31mLookupError\u001b[0m                               Traceback (most recent call last)",
      "\u001b[1;32m~\\anaconda3\\lib\\site-packages\\nltk\\corpus\\util.py\u001b[0m in \u001b[0;36m__load\u001b[1;34m(self)\u001b[0m\n\u001b[0;32m     83\u001b[0m                 \u001b[1;32mtry\u001b[0m\u001b[1;33m:\u001b[0m\u001b[1;33m\u001b[0m\u001b[1;33m\u001b[0m\u001b[0m\n\u001b[1;32m---> 84\u001b[1;33m                     \u001b[0mroot\u001b[0m \u001b[1;33m=\u001b[0m \u001b[0mnltk\u001b[0m\u001b[1;33m.\u001b[0m\u001b[0mdata\u001b[0m\u001b[1;33m.\u001b[0m\u001b[0mfind\u001b[0m\u001b[1;33m(\u001b[0m\u001b[1;34mf\"{self.subdir}/{zip_name}\"\u001b[0m\u001b[1;33m)\u001b[0m\u001b[1;33m\u001b[0m\u001b[1;33m\u001b[0m\u001b[0m\n\u001b[0m\u001b[0;32m     85\u001b[0m                 \u001b[1;32mexcept\u001b[0m \u001b[0mLookupError\u001b[0m\u001b[1;33m:\u001b[0m\u001b[1;33m\u001b[0m\u001b[1;33m\u001b[0m\u001b[0m\n",
      "\u001b[1;32m~\\anaconda3\\lib\\site-packages\\nltk\\data.py\u001b[0m in \u001b[0;36mfind\u001b[1;34m(resource_name, paths)\u001b[0m\n\u001b[0;32m    582\u001b[0m     \u001b[0mresource_not_found\u001b[0m \u001b[1;33m=\u001b[0m \u001b[1;34mf\"\\n{sep}\\n{msg}\\n{sep}\\n\"\u001b[0m\u001b[1;33m\u001b[0m\u001b[1;33m\u001b[0m\u001b[0m\n\u001b[1;32m--> 583\u001b[1;33m     \u001b[1;32mraise\u001b[0m \u001b[0mLookupError\u001b[0m\u001b[1;33m(\u001b[0m\u001b[0mresource_not_found\u001b[0m\u001b[1;33m)\u001b[0m\u001b[1;33m\u001b[0m\u001b[1;33m\u001b[0m\u001b[0m\n\u001b[0m\u001b[0;32m    584\u001b[0m \u001b[1;33m\u001b[0m\u001b[0m\n",
      "\u001b[1;31mLookupError\u001b[0m: \n**********************************************************************\n  Resource \u001b[93mwordnet\u001b[0m not found.\n  Please use the NLTK Downloader to obtain the resource:\n\n  \u001b[31m>>> import nltk\n  >>> nltk.download('wordnet')\n  \u001b[0m\n  For more information see: https://www.nltk.org/data.html\n\n  Attempted to load \u001b[93mcorpora/wordnet.zip/wordnet/\u001b[0m\n\n  Searched in:\n    - 'C:\\\\Users\\\\khush/nltk_data'\n    - 'C:\\\\Users\\\\khush\\\\anaconda3\\\\nltk_data'\n    - 'C:\\\\Users\\\\khush\\\\anaconda3\\\\share\\\\nltk_data'\n    - 'C:\\\\Users\\\\khush\\\\anaconda3\\\\lib\\\\nltk_data'\n    - 'C:\\\\Users\\\\khush\\\\AppData\\\\Roaming\\\\nltk_data'\n    - 'C:\\\\nltk_data'\n    - 'D:\\\\nltk_data'\n    - 'E:\\\\nltk_data'\n**********************************************************************\n",
      "\nDuring handling of the above exception, another exception occurred:\n",
      "\u001b[1;31mLookupError\u001b[0m                               Traceback (most recent call last)",
      "\u001b[1;32m~\\AppData\\Local\\Temp\\ipykernel_4188\\3594103473.py\u001b[0m in \u001b[0;36m<module>\u001b[1;34m\u001b[0m\n\u001b[0;32m      1\u001b[0m \u001b[0mnew_sent\u001b[0m \u001b[1;33m=\u001b[0m \u001b[1;34m''\u001b[0m\u001b[1;33m\u001b[0m\u001b[1;33m\u001b[0m\u001b[0m\n\u001b[0;32m      2\u001b[0m \u001b[1;32mfor\u001b[0m \u001b[0mtoken\u001b[0m \u001b[1;32min\u001b[0m \u001b[0mdata\u001b[0m\u001b[1;33m[\u001b[0m\u001b[1;34m'tweet'\u001b[0m\u001b[1;33m]\u001b[0m\u001b[1;33m[\u001b[0m\u001b[1;36m63\u001b[0m\u001b[1;33m]\u001b[0m\u001b[1;33m.\u001b[0m\u001b[0msplit\u001b[0m\u001b[1;33m(\u001b[0m\u001b[1;33m)\u001b[0m\u001b[1;33m:\u001b[0m\u001b[1;33m\u001b[0m\u001b[1;33m\u001b[0m\u001b[0m\n\u001b[1;32m----> 3\u001b[1;33m     \u001b[0mnew_sent\u001b[0m \u001b[1;33m=\u001b[0m \u001b[0mnew_sent\u001b[0m \u001b[1;33m+\u001b[0m \u001b[0mlemmatizer\u001b[0m\u001b[1;33m.\u001b[0m\u001b[0mlemmatize\u001b[0m\u001b[1;33m(\u001b[0m\u001b[0mtoken\u001b[0m\u001b[1;33m.\u001b[0m\u001b[0mlower\u001b[0m\u001b[1;33m(\u001b[0m\u001b[1;33m)\u001b[0m\u001b[1;33m)\u001b[0m \u001b[1;33m+\u001b[0m \u001b[1;34m' '\u001b[0m\u001b[1;33m\u001b[0m\u001b[1;33m\u001b[0m\u001b[0m\n\u001b[0m\u001b[0;32m      4\u001b[0m \u001b[1;33m\u001b[0m\u001b[0m\n\u001b[0;32m      5\u001b[0m \u001b[0mnew_sent\u001b[0m\u001b[1;33m\u001b[0m\u001b[1;33m\u001b[0m\u001b[0m\n",
      "\u001b[1;32m~\\anaconda3\\lib\\site-packages\\nltk\\stem\\wordnet.py\u001b[0m in \u001b[0;36mlemmatize\u001b[1;34m(self, word, pos)\u001b[0m\n\u001b[0;32m     43\u001b[0m         \u001b[1;33m:\u001b[0m\u001b[1;32mreturn\u001b[0m\u001b[1;33m:\u001b[0m \u001b[0mThe\u001b[0m \u001b[0mlemma\u001b[0m \u001b[0mof\u001b[0m\u001b[0;31m \u001b[0m\u001b[0;31m`\u001b[0m\u001b[0mword\u001b[0m\u001b[0;31m`\u001b[0m\u001b[1;33m,\u001b[0m \u001b[1;32mfor\u001b[0m \u001b[0mthe\u001b[0m \u001b[0mgiven\u001b[0m\u001b[0;31m \u001b[0m\u001b[0;31m`\u001b[0m\u001b[0mpos\u001b[0m\u001b[0;31m`\u001b[0m\u001b[1;33m.\u001b[0m\u001b[1;33m\u001b[0m\u001b[1;33m\u001b[0m\u001b[0m\n\u001b[0;32m     44\u001b[0m         \"\"\"\n\u001b[1;32m---> 45\u001b[1;33m         \u001b[0mlemmas\u001b[0m \u001b[1;33m=\u001b[0m \u001b[0mwn\u001b[0m\u001b[1;33m.\u001b[0m\u001b[0m_morphy\u001b[0m\u001b[1;33m(\u001b[0m\u001b[0mword\u001b[0m\u001b[1;33m,\u001b[0m \u001b[0mpos\u001b[0m\u001b[1;33m)\u001b[0m\u001b[1;33m\u001b[0m\u001b[1;33m\u001b[0m\u001b[0m\n\u001b[0m\u001b[0;32m     46\u001b[0m         \u001b[1;32mreturn\u001b[0m \u001b[0mmin\u001b[0m\u001b[1;33m(\u001b[0m\u001b[0mlemmas\u001b[0m\u001b[1;33m,\u001b[0m \u001b[0mkey\u001b[0m\u001b[1;33m=\u001b[0m\u001b[0mlen\u001b[0m\u001b[1;33m)\u001b[0m \u001b[1;32mif\u001b[0m \u001b[0mlemmas\u001b[0m \u001b[1;32melse\u001b[0m \u001b[0mword\u001b[0m\u001b[1;33m\u001b[0m\u001b[1;33m\u001b[0m\u001b[0m\n\u001b[0;32m     47\u001b[0m \u001b[1;33m\u001b[0m\u001b[0m\n",
      "\u001b[1;32m~\\anaconda3\\lib\\site-packages\\nltk\\corpus\\util.py\u001b[0m in \u001b[0;36m__getattr__\u001b[1;34m(self, attr)\u001b[0m\n\u001b[0;32m    119\u001b[0m             \u001b[1;32mraise\u001b[0m \u001b[0mAttributeError\u001b[0m\u001b[1;33m(\u001b[0m\u001b[1;34m\"LazyCorpusLoader object has no attribute '__bases__'\"\u001b[0m\u001b[1;33m)\u001b[0m\u001b[1;33m\u001b[0m\u001b[1;33m\u001b[0m\u001b[0m\n\u001b[0;32m    120\u001b[0m \u001b[1;33m\u001b[0m\u001b[0m\n\u001b[1;32m--> 121\u001b[1;33m         \u001b[0mself\u001b[0m\u001b[1;33m.\u001b[0m\u001b[0m__load\u001b[0m\u001b[1;33m(\u001b[0m\u001b[1;33m)\u001b[0m\u001b[1;33m\u001b[0m\u001b[1;33m\u001b[0m\u001b[0m\n\u001b[0m\u001b[0;32m    122\u001b[0m         \u001b[1;31m# This looks circular, but its not, since __load() changes our\u001b[0m\u001b[1;33m\u001b[0m\u001b[1;33m\u001b[0m\u001b[0m\n\u001b[0;32m    123\u001b[0m         \u001b[1;31m# __class__ to something new:\u001b[0m\u001b[1;33m\u001b[0m\u001b[1;33m\u001b[0m\u001b[0m\n",
      "\u001b[1;32m~\\anaconda3\\lib\\site-packages\\nltk\\corpus\\util.py\u001b[0m in \u001b[0;36m__load\u001b[1;34m(self)\u001b[0m\n\u001b[0;32m     84\u001b[0m                     \u001b[0mroot\u001b[0m \u001b[1;33m=\u001b[0m \u001b[0mnltk\u001b[0m\u001b[1;33m.\u001b[0m\u001b[0mdata\u001b[0m\u001b[1;33m.\u001b[0m\u001b[0mfind\u001b[0m\u001b[1;33m(\u001b[0m\u001b[1;34mf\"{self.subdir}/{zip_name}\"\u001b[0m\u001b[1;33m)\u001b[0m\u001b[1;33m\u001b[0m\u001b[1;33m\u001b[0m\u001b[0m\n\u001b[0;32m     85\u001b[0m                 \u001b[1;32mexcept\u001b[0m \u001b[0mLookupError\u001b[0m\u001b[1;33m:\u001b[0m\u001b[1;33m\u001b[0m\u001b[1;33m\u001b[0m\u001b[0m\n\u001b[1;32m---> 86\u001b[1;33m                     \u001b[1;32mraise\u001b[0m \u001b[0me\u001b[0m\u001b[1;33m\u001b[0m\u001b[1;33m\u001b[0m\u001b[0m\n\u001b[0m\u001b[0;32m     87\u001b[0m \u001b[1;33m\u001b[0m\u001b[0m\n\u001b[0;32m     88\u001b[0m         \u001b[1;31m# Load the corpus.\u001b[0m\u001b[1;33m\u001b[0m\u001b[1;33m\u001b[0m\u001b[0m\n",
      "\u001b[1;32m~\\anaconda3\\lib\\site-packages\\nltk\\corpus\\util.py\u001b[0m in \u001b[0;36m__load\u001b[1;34m(self)\u001b[0m\n\u001b[0;32m     79\u001b[0m         \u001b[1;32melse\u001b[0m\u001b[1;33m:\u001b[0m\u001b[1;33m\u001b[0m\u001b[1;33m\u001b[0m\u001b[0m\n\u001b[0;32m     80\u001b[0m             \u001b[1;32mtry\u001b[0m\u001b[1;33m:\u001b[0m\u001b[1;33m\u001b[0m\u001b[1;33m\u001b[0m\u001b[0m\n\u001b[1;32m---> 81\u001b[1;33m                 \u001b[0mroot\u001b[0m \u001b[1;33m=\u001b[0m \u001b[0mnltk\u001b[0m\u001b[1;33m.\u001b[0m\u001b[0mdata\u001b[0m\u001b[1;33m.\u001b[0m\u001b[0mfind\u001b[0m\u001b[1;33m(\u001b[0m\u001b[1;34mf\"{self.subdir}/{self.__name}\"\u001b[0m\u001b[1;33m)\u001b[0m\u001b[1;33m\u001b[0m\u001b[1;33m\u001b[0m\u001b[0m\n\u001b[0m\u001b[0;32m     82\u001b[0m             \u001b[1;32mexcept\u001b[0m \u001b[0mLookupError\u001b[0m \u001b[1;32mas\u001b[0m \u001b[0me\u001b[0m\u001b[1;33m:\u001b[0m\u001b[1;33m\u001b[0m\u001b[1;33m\u001b[0m\u001b[0m\n\u001b[0;32m     83\u001b[0m                 \u001b[1;32mtry\u001b[0m\u001b[1;33m:\u001b[0m\u001b[1;33m\u001b[0m\u001b[1;33m\u001b[0m\u001b[0m\n",
      "\u001b[1;32m~\\anaconda3\\lib\\site-packages\\nltk\\data.py\u001b[0m in \u001b[0;36mfind\u001b[1;34m(resource_name, paths)\u001b[0m\n\u001b[0;32m    581\u001b[0m     \u001b[0msep\u001b[0m \u001b[1;33m=\u001b[0m \u001b[1;34m\"*\"\u001b[0m \u001b[1;33m*\u001b[0m \u001b[1;36m70\u001b[0m\u001b[1;33m\u001b[0m\u001b[1;33m\u001b[0m\u001b[0m\n\u001b[0;32m    582\u001b[0m     \u001b[0mresource_not_found\u001b[0m \u001b[1;33m=\u001b[0m \u001b[1;34mf\"\\n{sep}\\n{msg}\\n{sep}\\n\"\u001b[0m\u001b[1;33m\u001b[0m\u001b[1;33m\u001b[0m\u001b[0m\n\u001b[1;32m--> 583\u001b[1;33m     \u001b[1;32mraise\u001b[0m \u001b[0mLookupError\u001b[0m\u001b[1;33m(\u001b[0m\u001b[0mresource_not_found\u001b[0m\u001b[1;33m)\u001b[0m\u001b[1;33m\u001b[0m\u001b[1;33m\u001b[0m\u001b[0m\n\u001b[0m\u001b[0;32m    584\u001b[0m \u001b[1;33m\u001b[0m\u001b[0m\n\u001b[0;32m    585\u001b[0m \u001b[1;33m\u001b[0m\u001b[0m\n",
      "\u001b[1;31mLookupError\u001b[0m: \n**********************************************************************\n  Resource \u001b[93mwordnet\u001b[0m not found.\n  Please use the NLTK Downloader to obtain the resource:\n\n  \u001b[31m>>> import nltk\n  >>> nltk.download('wordnet')\n  \u001b[0m\n  For more information see: https://www.nltk.org/data.html\n\n  Attempted to load \u001b[93mcorpora/wordnet\u001b[0m\n\n  Searched in:\n    - 'C:\\\\Users\\\\khush/nltk_data'\n    - 'C:\\\\Users\\\\khush\\\\anaconda3\\\\nltk_data'\n    - 'C:\\\\Users\\\\khush\\\\anaconda3\\\\share\\\\nltk_data'\n    - 'C:\\\\Users\\\\khush\\\\anaconda3\\\\lib\\\\nltk_data'\n    - 'C:\\\\Users\\\\khush\\\\AppData\\\\Roaming\\\\nltk_data'\n    - 'C:\\\\nltk_data'\n    - 'D:\\\\nltk_data'\n    - 'E:\\\\nltk_data'\n**********************************************************************\n"
     ]
    }
   ],
   "source": [
    "new_sent = ''\n",
    "for token in data['tweet'][63].split():\n",
    "    new_sent = new_sent + lemmatizer.lemmatize(token.lower()) + ' '\n",
    "\n",
    "new_sent    "
   ]
  },
  {
   "cell_type": "code",
   "execution_count": 48,
   "id": "cd8d70fc",
   "metadata": {},
   "outputs": [
    {
     "name": "stdout",
     "output_type": "stream",
     "text": [
      "Collecting contractions\n",
      "  Downloading contractions-0.1.73-py2.py3-none-any.whl (8.7 kB)\n",
      "Collecting textsearch>=0.0.21\n",
      "  Downloading textsearch-0.0.24-py2.py3-none-any.whl (7.6 kB)\n",
      "Collecting anyascii\n",
      "  Downloading anyascii-0.3.2-py3-none-any.whl (289 kB)\n",
      "     -------------------------------------- 289.9/289.9 kB 2.2 MB/s eta 0:00:00\n",
      "Collecting pyahocorasick\n",
      "  Downloading pyahocorasick-2.0.0-cp39-cp39-win_amd64.whl (39 kB)\n",
      "Installing collected packages: pyahocorasick, anyascii, textsearch, contractions\n",
      "Successfully installed anyascii-0.3.2 contractions-0.1.73 pyahocorasick-2.0.0 textsearch-0.0.24\n"
     ]
    }
   ],
   "source": [
    " !pip install contractions"
   ]
  },
  {
   "cell_type": "code",
   "execution_count": null,
   "id": "1d7ce8c1",
   "metadata": {},
   "outputs": [],
   "source": []
  },
  {
   "cell_type": "code",
   "execution_count": 49,
   "id": "6ea94262",
   "metadata": {},
   "outputs": [
    {
     "data": {
      "text/plain": [
       "\"It's time for new wallpapers #phone #wallpapers #wall #screen #galaxy #samsung #app … https://www.instagram.com/p/BcsKTNNn51c/\""
      ]
     },
     "execution_count": 49,
     "metadata": {},
     "output_type": "execute_result"
    }
   ],
   "source": [
    "import contractions\n",
    "data['tweet'][24]"
   ]
  },
  {
   "cell_type": "code",
   "execution_count": 50,
   "id": "c8a417a5",
   "metadata": {},
   "outputs": [
    {
     "data": {
      "text/plain": [
       "'It is time for new wallpapers #phone #wallpapers #wall #screen #galaxy #samsung #app … https://www.instagram.com/p/BcsKTNNn51c/'"
      ]
     },
     "execution_count": 50,
     "metadata": {},
     "output_type": "execute_result"
    }
   ],
   "source": [
    "contractions.fix(data['tweet'][24])"
   ]
  },
  {
   "cell_type": "markdown",
   "id": "a00fd547",
   "metadata": {},
   "source": [
    "## Define the Cleaner Function & Apply"
   ]
  },
  {
   "cell_type": "code",
   "execution_count": 51,
   "id": "6bcdc3be",
   "metadata": {},
   "outputs": [],
   "source": [
    "import re"
   ]
  },
  {
   "cell_type": "code",
   "execution_count": 58,
   "id": "cd0a4870",
   "metadata": {},
   "outputs": [
    {
     "name": "stderr",
     "output_type": "stream",
     "text": [
      "[nltk_data] Downloading package wordnet to\n",
      "[nltk_data]     C:\\Users\\khush\\AppData\\Roaming\\nltk_data...\n",
      "[nltk_data]   Package wordnet is already up-to-date!\n",
      "[nltk_data] Downloading package omw-1.4 to\n",
      "[nltk_data]     C:\\Users\\khush\\AppData\\Roaming\\nltk_data...\n"
     ]
    },
    {
     "data": {
      "text/plain": [
       "True"
      ]
     },
     "execution_count": 58,
     "metadata": {},
     "output_type": "execute_result"
    }
   ],
   "source": [
    "nltk.download('wordnet')\n",
    "nltk.download('omw-1.4')"
   ]
  },
  {
   "cell_type": "code",
   "execution_count": 59,
   "id": "8be4ed4b",
   "metadata": {},
   "outputs": [],
   "source": [
    "def tweet_cleaner_without_stopwords(text):\n",
    "    new_text = re.sub(r\"'s\\b\", \" is\", text)\n",
    "    new_text = re.sub(\"#\", \"\", new_text)\n",
    "    new_text = re.sub(\"@[A-Za-z0-9]+\", \"\", new_text)\n",
    "    new_text = re.sub(r\"http\\S+\", \"\", new_text)\n",
    "    new_text = contractions.fix(new_text)    \n",
    "    new_text = re.sub(r\"[^a-zA-Z]\", \" \", new_text)    \n",
    "    new_text = new_text.lower().strip()\n",
    "    \n",
    "    cleaned_text = ''\n",
    "    for token in new_text.split():\n",
    "        cleaned_text = cleaned_text + lemmatizer.lemmatize(token) + ' '\n",
    "    \n",
    "    return cleaned_text"
   ]
  },
  {
   "cell_type": "code",
   "execution_count": 60,
   "id": "5f490cc9",
   "metadata": {},
   "outputs": [],
   "source": [
    "cleaned_tweets = []  # list of cleaned tweets\n",
    "for twt in data['tweet']:\n",
    "    cleaned_tweets.append(tweet_cleaner_without_stopwords(twt))"
   ]
  },
  {
   "cell_type": "code",
   "execution_count": 61,
   "id": "d0ade359",
   "metadata": {},
   "outputs": [
    {
     "data": {
      "text/plain": [
       "['fingerprint pregnancy test android apps beautiful cute health igers iphoneonly iphonesia iphone ',\n",
       " 'finally a transparant silicon case thanks to my uncle yay sony xperia s sonyexperias ',\n",
       " 'we love this would you go talk makememories unplug relax iphone smartphone wifi connect ',\n",
       " 'i am wired i know i am george i wa made that way iphone cute daventry home ',\n",
       " 'what amazing service apple will not even talk to me about a question i have unless i pay them for their stupid support ']"
      ]
     },
     "execution_count": 61,
     "metadata": {},
     "output_type": "execute_result"
    }
   ],
   "source": [
    "cleaned_tweets[:5]    "
   ]
  },
  {
   "cell_type": "code",
   "execution_count": 62,
   "id": "c9a4d13f",
   "metadata": {},
   "outputs": [
    {
     "data": {
      "text/plain": [
       "'it is time for new wallpaper phone wallpaper wall screen galaxy samsung app '"
      ]
     },
     "execution_count": 62,
     "metadata": {},
     "output_type": "execute_result"
    }
   ],
   "source": [
    "cleaned_tweets[24]"
   ]
  },
  {
   "cell_type": "code",
   "execution_count": 63,
   "id": "be51e00a",
   "metadata": {},
   "outputs": [
    {
     "data": {
      "text/plain": [
       "'#Apple Bunch if Crooks Refused to repair/replace my beats wireless. Problem rubber on mic coming off microphones stopped working. Said warranty was void because ear piece looked chewed. Bullshit. I don’t have any animals and I would chew on anything I put in my ear. pic.twitter.com/GfgvquEpuC'"
      ]
     },
     "execution_count": 63,
     "metadata": {},
     "output_type": "execute_result"
    }
   ],
   "source": [
    "data['tweet'][1500]"
   ]
  },
  {
   "cell_type": "code",
   "execution_count": 64,
   "id": "6bc838c8",
   "metadata": {},
   "outputs": [
    {
     "data": {
      "text/plain": [
       "['#Apple',\n",
       " 'Bunch',\n",
       " 'if',\n",
       " 'Crooks',\n",
       " 'Refused',\n",
       " 'to',\n",
       " 'repair/replace',\n",
       " 'my',\n",
       " 'beats',\n",
       " 'wireless.',\n",
       " 'Problem',\n",
       " 'rubber',\n",
       " 'on',\n",
       " 'mic',\n",
       " 'coming',\n",
       " 'off',\n",
       " 'microphones',\n",
       " 'stopped',\n",
       " 'working.',\n",
       " 'Said',\n",
       " 'warranty',\n",
       " 'was',\n",
       " 'void',\n",
       " 'because',\n",
       " 'ear',\n",
       " 'piece',\n",
       " 'looked',\n",
       " 'chewed.',\n",
       " 'Bullshit.',\n",
       " 'I',\n",
       " 'don’t',\n",
       " 'have',\n",
       " 'any',\n",
       " 'animals',\n",
       " 'and',\n",
       " 'I',\n",
       " 'would',\n",
       " 'chew',\n",
       " 'on',\n",
       " 'anything',\n",
       " 'I',\n",
       " 'put',\n",
       " 'in',\n",
       " 'my',\n",
       " 'ear.',\n",
       " 'pic.twitter.com/GfgvquEpuC']"
      ]
     },
     "execution_count": 64,
     "metadata": {},
     "output_type": "execute_result"
    }
   ],
   "source": [
    "data['tweet'][1500].split()"
   ]
  },
  {
   "cell_type": "code",
   "execution_count": 65,
   "id": "6b35606a",
   "metadata": {},
   "outputs": [
    {
     "data": {
      "text/plain": [
       "'apple bunch if crook refused to repair replace my beat wireless problem rubber on mic coming off microphone stopped working said warranty wa void because ear piece looked chewed bullshit i do not have any animal and i would chew on anything i put in my ear pic twitter com gfgvquepuc '"
      ]
     },
     "execution_count": 65,
     "metadata": {},
     "output_type": "execute_result"
    }
   ],
   "source": [
    "cleaned_tweets[1500]"
   ]
  },
  {
   "cell_type": "code",
   "execution_count": 66,
   "id": "035c3fde",
   "metadata": {},
   "outputs": [],
   "source": [
    "# tweet['tweet'].apply(lambda x: tweet_cleaner(x))"
   ]
  },
  {
   "cell_type": "code",
   "execution_count": 67,
   "id": "578f9e75",
   "metadata": {},
   "outputs": [
    {
     "data": {
      "text/html": [
       "<div>\n",
       "<style scoped>\n",
       "    .dataframe tbody tr th:only-of-type {\n",
       "        vertical-align: middle;\n",
       "    }\n",
       "\n",
       "    .dataframe tbody tr th {\n",
       "        vertical-align: top;\n",
       "    }\n",
       "\n",
       "    .dataframe thead th {\n",
       "        text-align: right;\n",
       "    }\n",
       "</style>\n",
       "<table border=\"1\" class=\"dataframe\">\n",
       "  <thead>\n",
       "    <tr style=\"text-align: right;\">\n",
       "      <th></th>\n",
       "      <th>id</th>\n",
       "      <th>label</th>\n",
       "      <th>tweet</th>\n",
       "      <th>cleaned_tweets_w/o_SW</th>\n",
       "    </tr>\n",
       "  </thead>\n",
       "  <tbody>\n",
       "    <tr>\n",
       "      <th>0</th>\n",
       "      <td>1</td>\n",
       "      <td>0</td>\n",
       "      <td>#fingerprint #Pregnancy Test https://goo.gl/h1MfQV #android #apps #beautiful #cute #health #igers #iphoneonly #iphonesia #iphone</td>\n",
       "      <td>fingerprint pregnancy test android apps beautiful cute health igers iphoneonly iphonesia iphone</td>\n",
       "    </tr>\n",
       "    <tr>\n",
       "      <th>1</th>\n",
       "      <td>2</td>\n",
       "      <td>0</td>\n",
       "      <td>Finally a transparant silicon case ^^ Thanks to my uncle :) #yay #Sony #Xperia #S #sonyexperias… http://instagram.com/p/YGEt5JC6JM/</td>\n",
       "      <td>finally a transparant silicon case thanks to my uncle yay sony xperia s sonyexperias</td>\n",
       "    </tr>\n",
       "    <tr>\n",
       "      <th>2</th>\n",
       "      <td>3</td>\n",
       "      <td>0</td>\n",
       "      <td>We love this! Would you go? #talk #makememories #unplug #relax #iphone #smartphone #wifi #connect... http://fb.me/6N3LsUpCu</td>\n",
       "      <td>we love this would you go talk makememories unplug relax iphone smartphone wifi connect</td>\n",
       "    </tr>\n",
       "    <tr>\n",
       "      <th>3</th>\n",
       "      <td>4</td>\n",
       "      <td>0</td>\n",
       "      <td>I'm wired I know I'm George I was made that way ;) #iphone #cute #daventry #home http://instagr.am/p/Li_5_ujS4k/</td>\n",
       "      <td>i am wired i know i am george i wa made that way iphone cute daventry home</td>\n",
       "    </tr>\n",
       "    <tr>\n",
       "      <th>4</th>\n",
       "      <td>5</td>\n",
       "      <td>1</td>\n",
       "      <td>What amazing service! Apple won't even talk to me about a question I have unless I pay them $19.95 for their stupid support!</td>\n",
       "      <td>what amazing service apple will not even talk to me about a question i have unless i pay them for their stupid support</td>\n",
       "    </tr>\n",
       "  </tbody>\n",
       "</table>\n",
       "</div>"
      ],
      "text/plain": [
       "   id  label  \\\n",
       "0   1      0   \n",
       "1   2      0   \n",
       "2   3      0   \n",
       "3   4      0   \n",
       "4   5      1   \n",
       "\n",
       "                                                                                                                                 tweet  \\\n",
       "0     #fingerprint #Pregnancy Test https://goo.gl/h1MfQV #android #apps #beautiful #cute #health #igers #iphoneonly #iphonesia #iphone   \n",
       "1  Finally a transparant silicon case ^^ Thanks to my uncle :) #yay #Sony #Xperia #S #sonyexperias… http://instagram.com/p/YGEt5JC6JM/   \n",
       "2          We love this! Would you go? #talk #makememories #unplug #relax #iphone #smartphone #wifi #connect... http://fb.me/6N3LsUpCu   \n",
       "3                     I'm wired I know I'm George I was made that way ;) #iphone #cute #daventry #home http://instagr.am/p/Li_5_ujS4k/   \n",
       "4         What amazing service! Apple won't even talk to me about a question I have unless I pay them $19.95 for their stupid support!   \n",
       "\n",
       "                                                                                                     cleaned_tweets_w/o_SW  \n",
       "0                         fingerprint pregnancy test android apps beautiful cute health igers iphoneonly iphonesia iphone   \n",
       "1                                    finally a transparant silicon case thanks to my uncle yay sony xperia s sonyexperias   \n",
       "2                                 we love this would you go talk makememories unplug relax iphone smartphone wifi connect   \n",
       "3                                              i am wired i know i am george i wa made that way iphone cute daventry home   \n",
       "4  what amazing service apple will not even talk to me about a question i have unless i pay them for their stupid support   "
      ]
     },
     "execution_count": 67,
     "metadata": {},
     "output_type": "execute_result"
    }
   ],
   "source": [
    "data['cleaned_tweets_w/o_SW'] = cleaned_tweets\n",
    "data.head()"
   ]
  },
  {
   "cell_type": "markdown",
   "id": "3453f45e",
   "metadata": {},
   "source": [
    "# 3. Data Visualization\n",
    "\n",
    "Plot the top 25 most common words in this tweets dataset"
   ]
  },
  {
   "cell_type": "code",
   "execution_count": 68,
   "id": "ad7f388f",
   "metadata": {},
   "outputs": [
    {
     "name": "stdout",
     "output_type": "stream",
     "text": [
      "['#fingerprint', '#Pregnancy', 'Test', 'https://goo.gl/h1MfQV', '#android', '#apps', '#beautiful', '#cute', '#health', '#igers', '#iphoneonly', '#iphonesia', '#iphone', 'Finally', 'a', 'transparant', 'silicon', 'case', '^^', 'Thanks', 'to', 'my', 'uncle', ':)', '#yay', '#Sony', '#Xperia', '#S', '#sonyexperias…', 'http://instagram.com/p/YGEt5JC6JM/', 'We', 'love', 'this!', 'Would', 'you', 'go?', '#talk', '#makememories', '#unplug', '#relax', '#iphone', '#smartphone', '#wifi', '#connect...', 'http://fb.me/6N3LsUpCu', \"I'm\", 'wired', 'I', 'know', \"I'm\"]\n"
     ]
    },
    {
     "data": {
      "text/plain": [
       "34348"
      ]
     },
     "execution_count": 68,
     "metadata": {},
     "output_type": "execute_result"
    }
   ],
   "source": [
    "# Write a code to collect all the words from all the tweets into a single list\n",
    "all_words = []\n",
    "for t in data['tweet']:\n",
    "    all_words.extend(t.split())\n",
    "\n",
    "print(all_words[:50])\n",
    "len(set(all_words)) # this is the number of unique words in the list"
   ]
  },
  {
   "cell_type": "code",
   "execution_count": 69,
   "id": "cb70565b",
   "metadata": {},
   "outputs": [],
   "source": [
    "import matplotlib.pyplot as plt"
   ]
  },
  {
   "cell_type": "code",
   "execution_count": 70,
   "id": "2f5bd612",
   "metadata": {},
   "outputs": [
    {
     "data": {
      "image/png": "[encoded data removed]",
      "text/plain": [
       "<Figure size 1200x500 with 1 Axes>"
      ]
     },
     "metadata": {},
     "output_type": "display_data"
    }
   ],
   "source": [
    "# Frequency Distribution\n",
    "freq_dist = nltk.FreqDist(all_words)\n",
    "\n",
    "plt.figure(figsize=(12,5))\n",
    "plt.title('Top 25 most common words')\n",
    "plt.xticks(fontsize=15)\n",
    "\n",
    "freq_dist.plot(25, cumulative=False)\n",
    "\n",
    "plt.show()\n"
   ]
  },
  {
   "cell_type": "code",
   "execution_count": null,
   "id": "3eca8b64",
   "metadata": {},
   "outputs": [],
   "source": []
  },
  {
   "cell_type": "markdown",
   "id": "81bfdcfd",
   "metadata": {},
   "source": [
    "## Plot for Cleaned Tweets"
   ]
  },
  {
   "cell_type": "code",
   "execution_count": 71,
   "id": "b8c83f18",
   "metadata": {},
   "outputs": [
    {
     "name": "stdout",
     "output_type": "stream",
     "text": [
      "['fingerprint', 'pregnancy', 'test', 'android', 'apps', 'beautiful', 'cute', 'health', 'igers', 'iphoneonly', 'iphonesia', 'iphone', 'finally', 'a', 'transparant', 'silicon', 'case', 'thanks', 'to', 'my', 'uncle', 'yay', 'sony', 'xperia', 's', 'sonyexperias', 'we', 'love', 'this', 'would', 'you', 'go', 'talk', 'makememories', 'unplug', 'relax', 'iphone', 'smartphone', 'wifi', 'connect', 'i', 'am', 'wired', 'i', 'know', 'i', 'am', 'george', 'i', 'wa']\n"
     ]
    }
   ],
   "source": [
    "# Write the code for plotting the cleaned tweets\n",
    "all_words = []\n",
    "for t in data['cleaned_tweets_w/o_SW']:\n",
    "    all_words.extend(t.split())\n",
    "\n",
    "print(all_words[:50])"
   ]
  },
  {
   "cell_type": "code",
   "execution_count": 72,
   "id": "c3317753",
   "metadata": {},
   "outputs": [
    {
     "data": {
      "text/plain": [
       "15981"
      ]
     },
     "execution_count": 72,
     "metadata": {},
     "output_type": "execute_result"
    }
   ],
   "source": [
    "len(set(all_words)) # this is the number of unique words in the list"
   ]
  },
  {
   "cell_type": "code",
   "execution_count": 73,
   "id": "e170ffd8",
   "metadata": {},
   "outputs": [
    {
     "data": {
      "image/png": "[encoded data removed]",
      "text/plain": [
       "<Figure size 1200x500 with 1 Axes>"
      ]
     },
     "metadata": {},
     "output_type": "display_data"
    }
   ],
   "source": [
    "# Frequency Distribution\n",
    "freq_dist = nltk.FreqDist(all_words)\n",
    "\n",
    "plt.figure(figsize=(12,5))\n",
    "plt.title('Top 25 most common words')\n",
    "plt.xticks(fontsize=15)\n",
    "\n",
    "freq_dist.plot(25, cumulative=False)\n",
    "\n",
    "plt.show()\n"
   ]
  },
  {
   "cell_type": "code",
   "execution_count": null,
   "id": "fcfa79f5",
   "metadata": {},
   "outputs": [],
   "source": []
  },
  {
   "cell_type": "code",
   "execution_count": null,
   "id": "fc68a02c",
   "metadata": {},
   "outputs": [],
   "source": []
  },
  {
   "cell_type": "markdown",
   "id": "f961f7f9",
   "metadata": {},
   "source": [
    "## DV After applying Stop words"
   ]
  },
  {
   "cell_type": "code",
   "execution_count": 74,
   "id": "271f2007",
   "metadata": {},
   "outputs": [
    {
     "data": {
      "text/plain": [
       "set"
      ]
     },
     "execution_count": 74,
     "metadata": {},
     "output_type": "execute_result"
    }
   ],
   "source": [
    "type(combined_stopwords)"
   ]
  },
  {
   "cell_type": "code",
   "execution_count": 75,
   "id": "ddf4f2e4",
   "metadata": {},
   "outputs": [],
   "source": [
    "def tweet_cleaner_with_stopwords(text):\n",
    "    new_text = re.sub(r\"'s\\b\", \" is\", text)\n",
    "    new_text = re.sub(\"#\", \"\", new_text)\n",
    "    new_text = re.sub(\"@[A-Za-z0-9]+\", \"\", new_text)\n",
    "    new_text = re.sub(r\"http\\S+\", \"\", new_text)\n",
    "    new_text = contractions.fix(new_text)    \n",
    "    new_text = re.sub(r\"[^a-zA-Z]\", \" \", new_text)    \n",
    "    new_text = new_text.lower().strip()\n",
    "    \n",
    "    new_text = [token for token in new_text.split() if token not in combined_stopwords]\n",
    "    \n",
    "    new_text = [token for token in new_text if len(token)>2]\n",
    "    \n",
    "    cleaned_text = ''\n",
    "    for token in new_text:\n",
    "        cleaned_text = cleaned_text + lemmatizer.lemmatize(token) + ' '\n",
    "    \n",
    "    return cleaned_text"
   ]
  },
  {
   "cell_type": "code",
   "execution_count": 76,
   "id": "447a63d8",
   "metadata": {},
   "outputs": [
    {
     "name": "stdout",
     "output_type": "stream",
     "text": [
      "['fingerprint pregnancy test android apps beautiful cute health igers iphoneonly iphonesia iphone ', 'finally transparant silicon case thanks uncle yay sony xperia sonyexperias ', 'love talk makememories unplug relax iphone smartphone wifi connect ', 'wired know george way iphone cute daventry home ', 'amazing service apple talk question unless pay stupid support ', 'iphone software update fucked phone big time stupid iphones ', 'happy instapic instadaily sony xperia xperiaz ', 'new type charger cable bay amazon etsy new year rob cross toby young evemun mcmafia taylor spectre newyear starting recipe technology samsunggalaxys iphonex pic twitter com pjiwq wtc ', 'bout shopping listening music iphone justme music likeforlike followforfollow ', 'photo fun selfie pool water sony camera picoftheday sun instagood boy cute outdoor ']\n"
     ]
    }
   ],
   "source": [
    "cleaned_tweets = list(data['tweet'].apply(tweet_cleaner_with_stopwords))\n",
    "print(cleaned_tweets[:10])"
   ]
  },
  {
   "cell_type": "code",
   "execution_count": 77,
   "id": "08f114df",
   "metadata": {},
   "outputs": [
    {
     "data": {
      "text/plain": [
       "Index(['id', 'label', 'tweet', 'cleaned_tweets_w/o_SW'], dtype='object')"
      ]
     },
     "execution_count": 77,
     "metadata": {},
     "output_type": "execute_result"
    }
   ],
   "source": [
    "data.columns"
   ]
  },
  {
   "cell_type": "code",
   "execution_count": 78,
   "id": "15ba023d",
   "metadata": {},
   "outputs": [
    {
     "data": {
      "text/html": [
       "<div>\n",
       "<style scoped>\n",
       "    .dataframe tbody tr th:only-of-type {\n",
       "        vertical-align: middle;\n",
       "    }\n",
       "\n",
       "    .dataframe tbody tr th {\n",
       "        vertical-align: top;\n",
       "    }\n",
       "\n",
       "    .dataframe thead th {\n",
       "        text-align: right;\n",
       "    }\n",
       "</style>\n",
       "<table border=\"1\" class=\"dataframe\">\n",
       "  <thead>\n",
       "    <tr style=\"text-align: right;\">\n",
       "      <th></th>\n",
       "      <th>id</th>\n",
       "      <th>label</th>\n",
       "      <th>tweet</th>\n",
       "      <th>cleaned_tweets_w/o_SW</th>\n",
       "      <th>cleaned_tweets_with_SW</th>\n",
       "    </tr>\n",
       "  </thead>\n",
       "  <tbody>\n",
       "    <tr>\n",
       "      <th>0</th>\n",
       "      <td>1</td>\n",
       "      <td>0</td>\n",
       "      <td>#fingerprint #Pregnancy Test https://goo.gl/h1MfQV #android #apps #beautiful #cute #health #igers #iphoneonly #iphonesia #iphone</td>\n",
       "      <td>fingerprint pregnancy test android apps beautiful cute health igers iphoneonly iphonesia iphone</td>\n",
       "      <td>fingerprint pregnancy test android apps beautiful cute health igers iphoneonly iphonesia iphone</td>\n",
       "    </tr>\n",
       "    <tr>\n",
       "      <th>1</th>\n",
       "      <td>2</td>\n",
       "      <td>0</td>\n",
       "      <td>Finally a transparant silicon case ^^ Thanks to my uncle :) #yay #Sony #Xperia #S #sonyexperias… http://instagram.com/p/YGEt5JC6JM/</td>\n",
       "      <td>finally a transparant silicon case thanks to my uncle yay sony xperia s sonyexperias</td>\n",
       "      <td>finally transparant silicon case thanks uncle yay sony xperia sonyexperias</td>\n",
       "    </tr>\n",
       "    <tr>\n",
       "      <th>2</th>\n",
       "      <td>3</td>\n",
       "      <td>0</td>\n",
       "      <td>We love this! Would you go? #talk #makememories #unplug #relax #iphone #smartphone #wifi #connect... http://fb.me/6N3LsUpCu</td>\n",
       "      <td>we love this would you go talk makememories unplug relax iphone smartphone wifi connect</td>\n",
       "      <td>love talk makememories unplug relax iphone smartphone wifi connect</td>\n",
       "    </tr>\n",
       "    <tr>\n",
       "      <th>3</th>\n",
       "      <td>4</td>\n",
       "      <td>0</td>\n",
       "      <td>I'm wired I know I'm George I was made that way ;) #iphone #cute #daventry #home http://instagr.am/p/Li_5_ujS4k/</td>\n",
       "      <td>i am wired i know i am george i wa made that way iphone cute daventry home</td>\n",
       "      <td>wired know george way iphone cute daventry home</td>\n",
       "    </tr>\n",
       "    <tr>\n",
       "      <th>4</th>\n",
       "      <td>5</td>\n",
       "      <td>1</td>\n",
       "      <td>What amazing service! Apple won't even talk to me about a question I have unless I pay them $19.95 for their stupid support!</td>\n",
       "      <td>what amazing service apple will not even talk to me about a question i have unless i pay them for their stupid support</td>\n",
       "      <td>amazing service apple talk question unless pay stupid support</td>\n",
       "    </tr>\n",
       "  </tbody>\n",
       "</table>\n",
       "</div>"
      ],
      "text/plain": [
       "   id  label  \\\n",
       "0   1      0   \n",
       "1   2      0   \n",
       "2   3      0   \n",
       "3   4      0   \n",
       "4   5      1   \n",
       "\n",
       "                                                                                                                                 tweet  \\\n",
       "0     #fingerprint #Pregnancy Test https://goo.gl/h1MfQV #android #apps #beautiful #cute #health #igers #iphoneonly #iphonesia #iphone   \n",
       "1  Finally a transparant silicon case ^^ Thanks to my uncle :) #yay #Sony #Xperia #S #sonyexperias… http://instagram.com/p/YGEt5JC6JM/   \n",
       "2          We love this! Would you go? #talk #makememories #unplug #relax #iphone #smartphone #wifi #connect... http://fb.me/6N3LsUpCu   \n",
       "3                     I'm wired I know I'm George I was made that way ;) #iphone #cute #daventry #home http://instagr.am/p/Li_5_ujS4k/   \n",
       "4         What amazing service! Apple won't even talk to me about a question I have unless I pay them $19.95 for their stupid support!   \n",
       "\n",
       "                                                                                                     cleaned_tweets_w/o_SW  \\\n",
       "0                         fingerprint pregnancy test android apps beautiful cute health igers iphoneonly iphonesia iphone    \n",
       "1                                    finally a transparant silicon case thanks to my uncle yay sony xperia s sonyexperias    \n",
       "2                                 we love this would you go talk makememories unplug relax iphone smartphone wifi connect    \n",
       "3                                              i am wired i know i am george i wa made that way iphone cute daventry home    \n",
       "4  what amazing service apple will not even talk to me about a question i have unless i pay them for their stupid support    \n",
       "\n",
       "                                                                             cleaned_tweets_with_SW  \n",
       "0  fingerprint pregnancy test android apps beautiful cute health igers iphoneonly iphonesia iphone   \n",
       "1                       finally transparant silicon case thanks uncle yay sony xperia sonyexperias   \n",
       "2                               love talk makememories unplug relax iphone smartphone wifi connect   \n",
       "3                                                  wired know george way iphone cute daventry home   \n",
       "4                                    amazing service apple talk question unless pay stupid support   "
      ]
     },
     "execution_count": 78,
     "metadata": {},
     "output_type": "execute_result"
    }
   ],
   "source": [
    "data['cleaned_tweets_with_SW'] = cleaned_tweets\n",
    "data.head()"
   ]
  },
  {
   "cell_type": "code",
   "execution_count": 79,
   "id": "4a9cd5ff",
   "metadata": {},
   "outputs": [
    {
     "name": "stdout",
     "output_type": "stream",
     "text": [
      "['fingerprint', 'pregnancy', 'test', 'android', 'apps', 'beautiful', 'cute', 'health', 'igers', 'iphoneonly', 'iphonesia', 'iphone', 'finally', 'transparant', 'silicon', 'case', 'thanks', 'uncle', 'yay', 'sony', 'xperia', 'sonyexperias', 'love', 'talk', 'makememories', 'unplug', 'relax', 'iphone', 'smartphone', 'wifi', 'connect', 'wired', 'know', 'george', 'way', 'iphone', 'cute', 'daventry', 'home', 'amazing', 'service', 'apple', 'talk', 'question', 'unless', 'pay', 'stupid', 'support', 'iphone', 'software']\n"
     ]
    },
    {
     "data": {
      "image/png": "[encoded data removed]",
      "text/plain": [
       "<Figure size 1200x500 with 1 Axes>"
      ]
     },
     "metadata": {},
     "output_type": "display_data"
    }
   ],
   "source": [
    "all_words = []\n",
    "for t in data['cleaned_tweets_with_SW']:\n",
    "    all_words.extend(t.split())\n",
    "\n",
    "print(all_words[:50])\n",
    "\n",
    "# Frequency Distribution\n",
    "freq_dist = nltk.FreqDist(all_words)\n",
    "\n",
    "plt.figure(figsize=(12,5))\n",
    "plt.title('Top 25 most common words')\n",
    "plt.xticks(fontsize=15)\n",
    "\n",
    "freq_dist.plot(25, cumulative=False)\n",
    "\n",
    "plt.show()"
   ]
  },
  {
   "cell_type": "code",
   "execution_count": 80,
   "id": "3c403194",
   "metadata": {},
   "outputs": [],
   "source": [
    "domain_stopwords = ['phone', 'mobile', 'twitter', 'rt', 'com', 'follow']\n",
    "final_stopwords = domain_stopwords + list(combined_stopwords)"
   ]
  },
  {
   "cell_type": "code",
   "execution_count": 81,
   "id": "37b2ed4b",
   "metadata": {},
   "outputs": [],
   "source": [
    "# HW: re-do the cleaner function to include final_stopwords\n",
    "# and re-plot and see what more come up!"
   ]
  },
  {
   "cell_type": "code",
   "execution_count": 82,
   "id": "5cdc409a",
   "metadata": {},
   "outputs": [
    {
     "data": {
      "text/html": [
       "<div>\n",
       "<style scoped>\n",
       "    .dataframe tbody tr th:only-of-type {\n",
       "        vertical-align: middle;\n",
       "    }\n",
       "\n",
       "    .dataframe tbody tr th {\n",
       "        vertical-align: top;\n",
       "    }\n",
       "\n",
       "    .dataframe thead th {\n",
       "        text-align: right;\n",
       "    }\n",
       "</style>\n",
       "<table border=\"1\" class=\"dataframe\">\n",
       "  <thead>\n",
       "    <tr style=\"text-align: right;\">\n",
       "      <th></th>\n",
       "      <th>id</th>\n",
       "      <th>label</th>\n",
       "      <th>tweet</th>\n",
       "      <th>cleaned_tweets_w/o_SW</th>\n",
       "      <th>cleaned_tweets_with_SW</th>\n",
       "    </tr>\n",
       "  </thead>\n",
       "  <tbody>\n",
       "    <tr>\n",
       "      <th>0</th>\n",
       "      <td>1</td>\n",
       "      <td>0</td>\n",
       "      <td>#fingerprint #Pregnancy Test https://goo.gl/h1MfQV #android #apps #beautiful #cute #health #igers #iphoneonly #iphonesia #iphone</td>\n",
       "      <td>fingerprint pregnancy test android apps beautiful cute health igers iphoneonly iphonesia iphone</td>\n",
       "      <td>fingerprint pregnancy test android apps beautiful cute health igers iphoneonly iphonesia iphone</td>\n",
       "    </tr>\n",
       "    <tr>\n",
       "      <th>1</th>\n",
       "      <td>2</td>\n",
       "      <td>0</td>\n",
       "      <td>Finally a transparant silicon case ^^ Thanks to my uncle :) #yay #Sony #Xperia #S #sonyexperias… http://instagram.com/p/YGEt5JC6JM/</td>\n",
       "      <td>finally a transparant silicon case thanks to my uncle yay sony xperia s sonyexperias</td>\n",
       "      <td>finally transparant silicon case thanks uncle yay sony xperia sonyexperias</td>\n",
       "    </tr>\n",
       "    <tr>\n",
       "      <th>2</th>\n",
       "      <td>3</td>\n",
       "      <td>0</td>\n",
       "      <td>We love this! Would you go? #talk #makememories #unplug #relax #iphone #smartphone #wifi #connect... http://fb.me/6N3LsUpCu</td>\n",
       "      <td>we love this would you go talk makememories unplug relax iphone smartphone wifi connect</td>\n",
       "      <td>love talk makememories unplug relax iphone smartphone wifi connect</td>\n",
       "    </tr>\n",
       "    <tr>\n",
       "      <th>3</th>\n",
       "      <td>4</td>\n",
       "      <td>0</td>\n",
       "      <td>I'm wired I know I'm George I was made that way ;) #iphone #cute #daventry #home http://instagr.am/p/Li_5_ujS4k/</td>\n",
       "      <td>i am wired i know i am george i wa made that way iphone cute daventry home</td>\n",
       "      <td>wired know george way iphone cute daventry home</td>\n",
       "    </tr>\n",
       "    <tr>\n",
       "      <th>4</th>\n",
       "      <td>5</td>\n",
       "      <td>1</td>\n",
       "      <td>What amazing service! Apple won't even talk to me about a question I have unless I pay them $19.95 for their stupid support!</td>\n",
       "      <td>what amazing service apple will not even talk to me about a question i have unless i pay them for their stupid support</td>\n",
       "      <td>amazing service apple talk question unless pay stupid support</td>\n",
       "    </tr>\n",
       "  </tbody>\n",
       "</table>\n",
       "</div>"
      ],
      "text/plain": [
       "   id  label  \\\n",
       "0   1      0   \n",
       "1   2      0   \n",
       "2   3      0   \n",
       "3   4      0   \n",
       "4   5      1   \n",
       "\n",
       "                                                                                                                                 tweet  \\\n",
       "0     #fingerprint #Pregnancy Test https://goo.gl/h1MfQV #android #apps #beautiful #cute #health #igers #iphoneonly #iphonesia #iphone   \n",
       "1  Finally a transparant silicon case ^^ Thanks to my uncle :) #yay #Sony #Xperia #S #sonyexperias… http://instagram.com/p/YGEt5JC6JM/   \n",
       "2          We love this! Would you go? #talk #makememories #unplug #relax #iphone #smartphone #wifi #connect... http://fb.me/6N3LsUpCu   \n",
       "3                     I'm wired I know I'm George I was made that way ;) #iphone #cute #daventry #home http://instagr.am/p/Li_5_ujS4k/   \n",
       "4         What amazing service! Apple won't even talk to me about a question I have unless I pay them $19.95 for their stupid support!   \n",
       "\n",
       "                                                                                                     cleaned_tweets_w/o_SW  \\\n",
       "0                         fingerprint pregnancy test android apps beautiful cute health igers iphoneonly iphonesia iphone    \n",
       "1                                    finally a transparant silicon case thanks to my uncle yay sony xperia s sonyexperias    \n",
       "2                                 we love this would you go talk makememories unplug relax iphone smartphone wifi connect    \n",
       "3                                              i am wired i know i am george i wa made that way iphone cute daventry home    \n",
       "4  what amazing service apple will not even talk to me about a question i have unless i pay them for their stupid support    \n",
       "\n",
       "                                                                             cleaned_tweets_with_SW  \n",
       "0  fingerprint pregnancy test android apps beautiful cute health igers iphoneonly iphonesia iphone   \n",
       "1                       finally transparant silicon case thanks uncle yay sony xperia sonyexperias   \n",
       "2                               love talk makememories unplug relax iphone smartphone wifi connect   \n",
       "3                                                  wired know george way iphone cute daventry home   \n",
       "4                                    amazing service apple talk question unless pay stupid support   "
      ]
     },
     "execution_count": 82,
     "metadata": {},
     "output_type": "execute_result"
    }
   ],
   "source": [
    "data.head()"
   ]
  },
  {
   "cell_type": "code",
   "execution_count": null,
   "id": "c84a7724",
   "metadata": {},
   "outputs": [],
   "source": []
  },
  {
   "cell_type": "markdown",
   "id": "9e67d67d",
   "metadata": {},
   "source": [
    "# 4. Bag of Words Model (Feature Extraction)\n",
    "\n",
    "- Countvectorizer\n",
    "- TF-IDF Vectorizer"
   ]
  },
  {
   "cell_type": "code",
   "execution_count": 83,
   "id": "648429e5",
   "metadata": {},
   "outputs": [
    {
     "data": {
      "text/plain": [
       "(7920, 5)"
      ]
     },
     "execution_count": 83,
     "metadata": {},
     "output_type": "execute_result"
    }
   ],
   "source": [
    "data.shape"
   ]
  },
  {
   "cell_type": "code",
   "execution_count": 84,
   "id": "5ca6d51a",
   "metadata": {},
   "outputs": [],
   "source": [
    "from sklearn.feature_extraction.text import CountVectorizer\n",
    "\n",
    "CV = CountVectorizer()\n",
    "CV_features = CV.fit_transform(data['cleaned_tweets_w/o_SW'])\n"
   ]
  },
  {
   "cell_type": "code",
   "execution_count": 85,
   "id": "00eed834",
   "metadata": {},
   "outputs": [
    {
     "data": {
      "text/plain": [
       "(7920, 15955)"
      ]
     },
     "execution_count": 85,
     "metadata": {},
     "output_type": "execute_result"
    }
   ],
   "source": [
    "CV_features.shape"
   ]
  },
  {
   "cell_type": "code",
   "execution_count": 86,
   "id": "6dda76be",
   "metadata": {},
   "outputs": [
    {
     "data": {
      "text/plain": [
       "<1x15955 sparse matrix of type '<class 'numpy.int64'>'\n",
       "\twith 12 stored elements in Compressed Sparse Row format>"
      ]
     },
     "execution_count": 86,
     "metadata": {},
     "output_type": "execute_result"
    }
   ],
   "source": [
    "CV_features[0]"
   ]
  },
  {
   "cell_type": "code",
   "execution_count": 87,
   "id": "d1c52ba6",
   "metadata": {},
   "outputs": [],
   "source": [
    "# df = data.copy()\n",
    "# df.columns = ['label', 'cleaned_tweets_incl_SW', 'cleaned_tweets_SW_removed', 'cleaned_tweets_SW_removed_len_gt2']\n",
    "# df.to_pickle('cleaned_tweets.pkl')\n",
    "# df.to_csv('cleaned_tweets', index=False)"
   ]
  },
  {
   "cell_type": "code",
   "execution_count": 88,
   "id": "8d779cdb",
   "metadata": {},
   "outputs": [
    {
     "data": {
      "text/plain": [
       "scipy.sparse._csr.csr_matrix"
      ]
     },
     "execution_count": 88,
     "metadata": {},
     "output_type": "execute_result"
    }
   ],
   "source": [
    "type(CV_features[0])  # each row is a compressed spare row "
   ]
  },
  {
   "cell_type": "code",
   "execution_count": 89,
   "id": "96fd0554",
   "metadata": {},
   "outputs": [
    {
     "data": {
      "text/plain": [
       "matrix([[0, 0, 0, ..., 0, 0, 0]], dtype=int64)"
      ]
     },
     "execution_count": 89,
     "metadata": {},
     "output_type": "execute_result"
    }
   ],
   "source": [
    "CV_features[0].todense()  # decompressing the CSR data"
   ]
  },
  {
   "cell_type": "code",
   "execution_count": 90,
   "id": "740fd79c",
   "metadata": {},
   "outputs": [
    {
     "data": {
      "text/html": [
       "<div>\n",
       "<style scoped>\n",
       "    .dataframe tbody tr th:only-of-type {\n",
       "        vertical-align: middle;\n",
       "    }\n",
       "\n",
       "    .dataframe tbody tr th {\n",
       "        vertical-align: top;\n",
       "    }\n",
       "\n",
       "    .dataframe thead th {\n",
       "        text-align: right;\n",
       "    }\n",
       "</style>\n",
       "<table border=\"1\" class=\"dataframe\">\n",
       "  <thead>\n",
       "    <tr style=\"text-align: right;\">\n",
       "      <th></th>\n",
       "      <th>0</th>\n",
       "      <th>1</th>\n",
       "      <th>2</th>\n",
       "      <th>3</th>\n",
       "      <th>4</th>\n",
       "      <th>5</th>\n",
       "      <th>6</th>\n",
       "      <th>7</th>\n",
       "      <th>8</th>\n",
       "      <th>9</th>\n",
       "      <th>...</th>\n",
       "      <th>15945</th>\n",
       "      <th>15946</th>\n",
       "      <th>15947</th>\n",
       "      <th>15948</th>\n",
       "      <th>15949</th>\n",
       "      <th>15950</th>\n",
       "      <th>15951</th>\n",
       "      <th>15952</th>\n",
       "      <th>15953</th>\n",
       "      <th>15954</th>\n",
       "    </tr>\n",
       "  </thead>\n",
       "  <tbody>\n",
       "    <tr>\n",
       "      <th>0</th>\n",
       "      <td>0</td>\n",
       "      <td>0</td>\n",
       "      <td>0</td>\n",
       "      <td>0</td>\n",
       "      <td>0</td>\n",
       "      <td>0</td>\n",
       "      <td>0</td>\n",
       "      <td>0</td>\n",
       "      <td>0</td>\n",
       "      <td>0</td>\n",
       "      <td>...</td>\n",
       "      <td>0</td>\n",
       "      <td>0</td>\n",
       "      <td>0</td>\n",
       "      <td>0</td>\n",
       "      <td>0</td>\n",
       "      <td>0</td>\n",
       "      <td>0</td>\n",
       "      <td>0</td>\n",
       "      <td>0</td>\n",
       "      <td>0</td>\n",
       "    </tr>\n",
       "    <tr>\n",
       "      <th>1</th>\n",
       "      <td>0</td>\n",
       "      <td>0</td>\n",
       "      <td>0</td>\n",
       "      <td>0</td>\n",
       "      <td>0</td>\n",
       "      <td>0</td>\n",
       "      <td>0</td>\n",
       "      <td>0</td>\n",
       "      <td>0</td>\n",
       "      <td>0</td>\n",
       "      <td>...</td>\n",
       "      <td>0</td>\n",
       "      <td>0</td>\n",
       "      <td>0</td>\n",
       "      <td>0</td>\n",
       "      <td>0</td>\n",
       "      <td>0</td>\n",
       "      <td>0</td>\n",
       "      <td>0</td>\n",
       "      <td>0</td>\n",
       "      <td>0</td>\n",
       "    </tr>\n",
       "    <tr>\n",
       "      <th>2</th>\n",
       "      <td>0</td>\n",
       "      <td>0</td>\n",
       "      <td>0</td>\n",
       "      <td>0</td>\n",
       "      <td>0</td>\n",
       "      <td>0</td>\n",
       "      <td>0</td>\n",
       "      <td>0</td>\n",
       "      <td>0</td>\n",
       "      <td>0</td>\n",
       "      <td>...</td>\n",
       "      <td>0</td>\n",
       "      <td>0</td>\n",
       "      <td>0</td>\n",
       "      <td>0</td>\n",
       "      <td>0</td>\n",
       "      <td>0</td>\n",
       "      <td>0</td>\n",
       "      <td>0</td>\n",
       "      <td>0</td>\n",
       "      <td>0</td>\n",
       "    </tr>\n",
       "    <tr>\n",
       "      <th>3</th>\n",
       "      <td>0</td>\n",
       "      <td>0</td>\n",
       "      <td>0</td>\n",
       "      <td>0</td>\n",
       "      <td>0</td>\n",
       "      <td>0</td>\n",
       "      <td>0</td>\n",
       "      <td>0</td>\n",
       "      <td>0</td>\n",
       "      <td>0</td>\n",
       "      <td>...</td>\n",
       "      <td>0</td>\n",
       "      <td>0</td>\n",
       "      <td>0</td>\n",
       "      <td>0</td>\n",
       "      <td>0</td>\n",
       "      <td>0</td>\n",
       "      <td>0</td>\n",
       "      <td>0</td>\n",
       "      <td>0</td>\n",
       "      <td>0</td>\n",
       "    </tr>\n",
       "    <tr>\n",
       "      <th>4</th>\n",
       "      <td>0</td>\n",
       "      <td>0</td>\n",
       "      <td>0</td>\n",
       "      <td>0</td>\n",
       "      <td>0</td>\n",
       "      <td>0</td>\n",
       "      <td>0</td>\n",
       "      <td>0</td>\n",
       "      <td>0</td>\n",
       "      <td>0</td>\n",
       "      <td>...</td>\n",
       "      <td>0</td>\n",
       "      <td>0</td>\n",
       "      <td>0</td>\n",
       "      <td>0</td>\n",
       "      <td>0</td>\n",
       "      <td>0</td>\n",
       "      <td>0</td>\n",
       "      <td>0</td>\n",
       "      <td>0</td>\n",
       "      <td>0</td>\n",
       "    </tr>\n",
       "    <tr>\n",
       "      <th>...</th>\n",
       "      <td>...</td>\n",
       "      <td>...</td>\n",
       "      <td>...</td>\n",
       "      <td>...</td>\n",
       "      <td>...</td>\n",
       "      <td>...</td>\n",
       "      <td>...</td>\n",
       "      <td>...</td>\n",
       "      <td>...</td>\n",
       "      <td>...</td>\n",
       "      <td>...</td>\n",
       "      <td>...</td>\n",
       "      <td>...</td>\n",
       "      <td>...</td>\n",
       "      <td>...</td>\n",
       "      <td>...</td>\n",
       "      <td>...</td>\n",
       "      <td>...</td>\n",
       "      <td>...</td>\n",
       "      <td>...</td>\n",
       "      <td>...</td>\n",
       "    </tr>\n",
       "    <tr>\n",
       "      <th>7915</th>\n",
       "      <td>0</td>\n",
       "      <td>0</td>\n",
       "      <td>0</td>\n",
       "      <td>0</td>\n",
       "      <td>0</td>\n",
       "      <td>0</td>\n",
       "      <td>0</td>\n",
       "      <td>0</td>\n",
       "      <td>0</td>\n",
       "      <td>0</td>\n",
       "      <td>...</td>\n",
       "      <td>0</td>\n",
       "      <td>0</td>\n",
       "      <td>0</td>\n",
       "      <td>0</td>\n",
       "      <td>0</td>\n",
       "      <td>0</td>\n",
       "      <td>0</td>\n",
       "      <td>0</td>\n",
       "      <td>0</td>\n",
       "      <td>0</td>\n",
       "    </tr>\n",
       "    <tr>\n",
       "      <th>7916</th>\n",
       "      <td>0</td>\n",
       "      <td>0</td>\n",
       "      <td>0</td>\n",
       "      <td>0</td>\n",
       "      <td>0</td>\n",
       "      <td>0</td>\n",
       "      <td>0</td>\n",
       "      <td>0</td>\n",
       "      <td>0</td>\n",
       "      <td>0</td>\n",
       "      <td>...</td>\n",
       "      <td>0</td>\n",
       "      <td>0</td>\n",
       "      <td>0</td>\n",
       "      <td>0</td>\n",
       "      <td>0</td>\n",
       "      <td>0</td>\n",
       "      <td>0</td>\n",
       "      <td>0</td>\n",
       "      <td>0</td>\n",
       "      <td>0</td>\n",
       "    </tr>\n",
       "    <tr>\n",
       "      <th>7917</th>\n",
       "      <td>0</td>\n",
       "      <td>0</td>\n",
       "      <td>0</td>\n",
       "      <td>0</td>\n",
       "      <td>0</td>\n",
       "      <td>0</td>\n",
       "      <td>0</td>\n",
       "      <td>0</td>\n",
       "      <td>0</td>\n",
       "      <td>0</td>\n",
       "      <td>...</td>\n",
       "      <td>0</td>\n",
       "      <td>0</td>\n",
       "      <td>0</td>\n",
       "      <td>0</td>\n",
       "      <td>0</td>\n",
       "      <td>0</td>\n",
       "      <td>0</td>\n",
       "      <td>0</td>\n",
       "      <td>0</td>\n",
       "      <td>0</td>\n",
       "    </tr>\n",
       "    <tr>\n",
       "      <th>7918</th>\n",
       "      <td>0</td>\n",
       "      <td>0</td>\n",
       "      <td>0</td>\n",
       "      <td>0</td>\n",
       "      <td>0</td>\n",
       "      <td>0</td>\n",
       "      <td>0</td>\n",
       "      <td>0</td>\n",
       "      <td>0</td>\n",
       "      <td>0</td>\n",
       "      <td>...</td>\n",
       "      <td>0</td>\n",
       "      <td>0</td>\n",
       "      <td>0</td>\n",
       "      <td>0</td>\n",
       "      <td>0</td>\n",
       "      <td>0</td>\n",
       "      <td>0</td>\n",
       "      <td>0</td>\n",
       "      <td>0</td>\n",
       "      <td>0</td>\n",
       "    </tr>\n",
       "    <tr>\n",
       "      <th>7919</th>\n",
       "      <td>0</td>\n",
       "      <td>0</td>\n",
       "      <td>0</td>\n",
       "      <td>0</td>\n",
       "      <td>0</td>\n",
       "      <td>0</td>\n",
       "      <td>0</td>\n",
       "      <td>0</td>\n",
       "      <td>0</td>\n",
       "      <td>0</td>\n",
       "      <td>...</td>\n",
       "      <td>0</td>\n",
       "      <td>0</td>\n",
       "      <td>0</td>\n",
       "      <td>0</td>\n",
       "      <td>0</td>\n",
       "      <td>0</td>\n",
       "      <td>0</td>\n",
       "      <td>0</td>\n",
       "      <td>0</td>\n",
       "      <td>0</td>\n",
       "    </tr>\n",
       "  </tbody>\n",
       "</table>\n",
       "<p>7920 rows × 15955 columns</p>\n",
       "</div>"
      ],
      "text/plain": [
       "      0      1      2      3      4      5      6      7      8      9      \\\n",
       "0         0      0      0      0      0      0      0      0      0      0   \n",
       "1         0      0      0      0      0      0      0      0      0      0   \n",
       "2         0      0      0      0      0      0      0      0      0      0   \n",
       "3         0      0      0      0      0      0      0      0      0      0   \n",
       "4         0      0      0      0      0      0      0      0      0      0   \n",
       "...     ...    ...    ...    ...    ...    ...    ...    ...    ...    ...   \n",
       "7915      0      0      0      0      0      0      0      0      0      0   \n",
       "7916      0      0      0      0      0      0      0      0      0      0   \n",
       "7917      0      0      0      0      0      0      0      0      0      0   \n",
       "7918      0      0      0      0      0      0      0      0      0      0   \n",
       "7919      0      0      0      0      0      0      0      0      0      0   \n",
       "\n",
       "      ...  15945  15946  15947  15948  15949  15950  15951  15952  15953  \\\n",
       "0     ...      0      0      0      0      0      0      0      0      0   \n",
       "1     ...      0      0      0      0      0      0      0      0      0   \n",
       "2     ...      0      0      0      0      0      0      0      0      0   \n",
       "3     ...      0      0      0      0      0      0      0      0      0   \n",
       "4     ...      0      0      0      0      0      0      0      0      0   \n",
       "...   ...    ...    ...    ...    ...    ...    ...    ...    ...    ...   \n",
       "7915  ...      0      0      0      0      0      0      0      0      0   \n",
       "7916  ...      0      0      0      0      0      0      0      0      0   \n",
       "7917  ...      0      0      0      0      0      0      0      0      0   \n",
       "7918  ...      0      0      0      0      0      0      0      0      0   \n",
       "7919  ...      0      0      0      0      0      0      0      0      0   \n",
       "\n",
       "      15954  \n",
       "0         0  \n",
       "1         0  \n",
       "2         0  \n",
       "3         0  \n",
       "4         0  \n",
       "...     ...  \n",
       "7915      0  \n",
       "7916      0  \n",
       "7917      0  \n",
       "7918      0  \n",
       "7919      0  \n",
       "\n",
       "[7920 rows x 15955 columns]"
      ]
     },
     "execution_count": 90,
     "metadata": {},
     "output_type": "execute_result"
    }
   ],
   "source": [
    "import pandas as pd\n",
    "df = pd.DataFrame(CV_features.todense() )\n",
    "df  \n",
    "# Document-Term-Matrix X = [N x p ]\n",
    "# N = no. of documentns\n",
    "# p = no. of unique words in the vocab!!# this is your D"
   ]
  },
  {
   "cell_type": "code",
   "execution_count": 91,
   "id": "def61af3",
   "metadata": {},
   "outputs": [
    {
     "data": {
      "text/plain": [
       "126.3636"
      ]
     },
     "execution_count": 91,
     "metadata": {},
     "output_type": "execute_result"
    }
   ],
   "source": [
    "df.size/1e6  # these many elements/numbers are presnt in the df"
   ]
  },
  {
   "cell_type": "code",
   "execution_count": 92,
   "id": "76f78d34",
   "metadata": {},
   "outputs": [
    {
     "data": {
      "text/plain": [
       "114973"
      ]
     },
     "execution_count": 92,
     "metadata": {},
     "output_type": "execute_result"
    }
   ],
   "source": [
    "import numpy as np\n",
    "np.count_nonzero(df)"
   ]
  },
  {
   "cell_type": "code",
   "execution_count": 93,
   "id": "c2d68b8c",
   "metadata": {},
   "outputs": [
    {
     "data": {
      "text/plain": [
       "0.09098585352110893"
      ]
     },
     "execution_count": 93,
     "metadata": {},
     "output_type": "execute_result"
    }
   ],
   "source": [
    "100*np.count_nonzero(df)/df.size # percent of the non-zero elements i nthe df"
   ]
  },
  {
   "cell_type": "code",
   "execution_count": 94,
   "id": "2607ec8d",
   "metadata": {},
   "outputs": [
    {
     "name": "stdout",
     "output_type": "stream",
     "text": [
      "['aa', 'aaaahhhhhhh', 'aag', 'aah', 'aalborg', 'aand', 'aapl', 'aarhus', 'aaron', 'aarp', 'aarrrggghhhh', 'aashamsakal', 'aaydojbfkq', 'aayp', 'ab', 'abah', 'abareta', 'abay', 'abb', 'abc', 'abdou', 'abe', 'aber', 'abercrombie', 'abi', 'ability', 'abit', 'able', 'ableton', 'abnqum', 'aboard', 'about', 'aboutalook', 'aboutdamntime', 'abouttime', 'abouttonight', 'above', 'abp', 'abscbn', 'absence', 'absolute', 'absolutely', 'absurd', 'abu', 'abudhabi', 'abuja', 'abujacity', 'abujafct', 'abujapeople', 'abujaphones']\n"
     ]
    },
    {
     "name": "stderr",
     "output_type": "stream",
     "text": [
      "C:\\Users\\khush\\anaconda3\\lib\\site-packages\\sklearn\\utils\\deprecation.py:87: FutureWarning: Function get_feature_names is deprecated; get_feature_names is deprecated in 1.0 and will be removed in 1.2. Please use get_feature_names_out instead.\n",
      "  warnings.warn(msg, category=FutureWarning)\n"
     ]
    }
   ],
   "source": [
    "print(CV.get_feature_names()[:50])  # these the vocab words"
   ]
  },
  {
   "cell_type": "code",
   "execution_count": 95,
   "id": "403d67e4",
   "metadata": {},
   "outputs": [],
   "source": [
    "# CV.get_feature_names_out()[:50]  # these the vocab words"
   ]
  },
  {
   "cell_type": "code",
   "execution_count": 96,
   "id": "6d09f6d7",
   "metadata": {},
   "outputs": [
    {
     "data": {
      "text/plain": [
       "15955"
      ]
     },
     "execution_count": 96,
     "metadata": {},
     "output_type": "execute_result"
    }
   ],
   "source": [
    "# len(CV.get_feature_names_out())\n",
    "len(CV.get_feature_names())"
   ]
  },
  {
   "cell_type": "code",
   "execution_count": 97,
   "id": "54d6d866",
   "metadata": {},
   "outputs": [
    {
     "data": {
      "text/plain": [
       "matrix([[0, 0, 0, ..., 0, 0, 0]], dtype=int64)"
      ]
     },
     "execution_count": 97,
     "metadata": {},
     "output_type": "execute_result"
    }
   ],
   "source": [
    "CV_features[10].todense()  # these are numbers corresponding to the 11th tweet"
   ]
  },
  {
   "cell_type": "code",
   "execution_count": 98,
   "id": "0e765ec8",
   "metadata": {},
   "outputs": [
    {
     "data": {
      "text/plain": [
       "[array(['apple', 'color', 'crash', 'do', 'every', 'five', 'fuckin', 'hey',\n",
       "        'inch', 'ipod', 'it', 'make', 'minite', 'new', 'not', 'or',\n",
       "        'thinner', 'when', 'you'], dtype='<U41')]"
      ]
     },
     "execution_count": 98,
     "metadata": {},
     "output_type": "execute_result"
    }
   ],
   "source": [
    "CV.inverse_transform(np.asarray(CV_features[10].todense()))  # actual words in the 10th tweet"
   ]
  },
  {
   "cell_type": "markdown",
   "id": "e6dd7b9a",
   "metadata": {},
   "source": [
    "# 5. Model building"
   ]
  },
  {
   "cell_type": "code",
   "execution_count": 99,
   "id": "4c72611d",
   "metadata": {},
   "outputs": [],
   "source": [
    "from sklearn.model_selection import train_test_split\n",
    "\n",
    "X_train, X_test, y_train, y_test = train_test_split(CV_features, data['label'], test_size=0.25, stratify=data['label'], random_state=42)"
   ]
  },
  {
   "cell_type": "code",
   "execution_count": 100,
   "id": "2a3b3020",
   "metadata": {},
   "outputs": [
    {
     "name": "stdout",
     "output_type": "stream",
     "text": [
      "0.9779461279461279\n",
      "0.8813131313131313\n"
     ]
    }
   ],
   "source": [
    "from sklearn.linear_model import LogisticRegression\n",
    "LR = LogisticRegression(solver='liblinear')\n",
    "LR.fit(X_train, y_train)\n",
    "\n",
    "print(LR.score(X_train, y_train))  # train score)\n",
    "print(LR.score(X_test, y_test))   # test score)  "
   ]
  },
  {
   "cell_type": "code",
   "execution_count": 101,
   "id": "82c2b527",
   "metadata": {},
   "outputs": [
    {
     "name": "stdout",
     "output_type": "stream",
     "text": [
      "0.9038720538720538\n",
      "0.8813131313131313\n"
     ]
    }
   ],
   "source": [
    "## L1-REGULARIZATION\n",
    "LR1 = LogisticRegression(class_weight='balanced', solver='liblinear', penalty='l1', C=0.4)\n",
    "LR1.fit(X_train, y_train)\n",
    "\n",
    "print(LR1.score(X_train, y_train))  # train score)\n",
    "print(LR1.score(X_test, y_test))   # test score)      "
   ]
  },
  {
   "cell_type": "code",
   "execution_count": 102,
   "id": "7b364a8e",
   "metadata": {},
   "outputs": [],
   "source": [
    "## leT'S Cross-Validate the Logistic Regression Model ?????\n",
    "from sklearn.model_selection import cross_val_score, cross_validate\n",
    "from sklearn.model_selection import StratifiedKFold"
   ]
  },
  {
   "cell_type": "code",
   "execution_count": 103,
   "id": "fcaf89c2",
   "metadata": {},
   "outputs": [],
   "source": [
    "X = CV_features\n",
    "y = data['label']"
   ]
  },
  {
   "cell_type": "code",
   "execution_count": 104,
   "id": "7c55927c",
   "metadata": {},
   "outputs": [
    {
     "name": "stdout",
     "output_type": "stream",
     "text": [
      "[0.88320707 0.86931818 0.87752525 0.89709596 0.88699495]\n",
      "88.28 0.93\n"
     ]
    }
   ],
   "source": [
    "## crOSS VALIDATE THE LR1 model\n",
    "\n",
    "LR1 = LogisticRegression(class_weight='balanced', solver='liblinear', penalty='l1', C=0.4)\n",
    "kfold = StratifiedKFold(n_splits=5, shuffle=True, random_state=42)\n",
    "results = cross_val_score(LR1, X, y, cv=kfold, scoring='accuracy')\n",
    "print(results)\n",
    "print(np.round((results.mean())*100, 2), np.round((results.std())*100, 2)) "
   ]
  },
  {
   "cell_type": "code",
   "execution_count": 105,
   "id": "97d2ef36",
   "metadata": {},
   "outputs": [],
   "source": [
    "# your's accuracy = 88.23 +/- 0.93 %"
   ]
  },
  {
   "cell_type": "code",
   "execution_count": 106,
   "id": "3b5cbe8e",
   "metadata": {},
   "outputs": [],
   "source": [
    "kfold = StratifiedKFold(n_splits=5, shuffle=True, random_state=42)\n",
    "results = cross_validate(LR1, X, y, cv=kfold, scoring='accuracy', return_train_score=True)"
   ]
  },
  {
   "cell_type": "code",
   "execution_count": 107,
   "id": "f4195164",
   "metadata": {},
   "outputs": [
    {
     "data": {
      "text/plain": [
       "{'fit_time': array([0.02471685, 0.01993465, 0.01611829, 0.0158906 , 0.01655817]),\n",
       " 'score_time': array([0., 0., 0., 0., 0.]),\n",
       " 'test_score': array([0.88320707, 0.86931818, 0.87752525, 0.89709596, 0.88699495]),\n",
       " 'train_score': array([0.90388258, 0.90893308, 0.9040404 , 0.90372475, 0.90435606])}"
      ]
     },
     "execution_count": 107,
     "metadata": {},
     "output_type": "execute_result"
    }
   ],
   "source": [
    "results"
   ]
  },
  {
   "cell_type": "code",
   "execution_count": 108,
   "id": "dbcf5a18",
   "metadata": {},
   "outputs": [
    {
     "name": "stdout",
     "output_type": "stream",
     "text": [
      "[0.90388258 0.90893308 0.9040404  0.90372475 0.90435606]\n",
      "90.5 0.2\n"
     ]
    }
   ],
   "source": [
    "print(results['train_score'])\n",
    "print(np.round((results['train_score'].mean())*100, 2), np.round((results['train_score'].std())*100, 2)) "
   ]
  },
  {
   "cell_type": "code",
   "execution_count": 109,
   "id": "9762fdf9",
   "metadata": {},
   "outputs": [
    {
     "name": "stdout",
     "output_type": "stream",
     "text": [
      "[0.88320707 0.86931818 0.87752525 0.89709596 0.88699495]\n",
      "88.28 0.93\n"
     ]
    }
   ],
   "source": [
    "print(results['test_score'])\n",
    "print(np.round((results['test_score'].mean())*100, 2), np.round((results['test_score'].std())*100, 2)) "
   ]
  },
  {
   "cell_type": "markdown",
   "id": "1d1407d8",
   "metadata": {},
   "source": [
    "## Hyper parameter tuning of the LR1 model"
   ]
  },
  {
   "cell_type": "code",
   "execution_count": 110,
   "id": "0db78851",
   "metadata": {},
   "outputs": [
    {
     "name": "stdout",
     "output_type": "stream",
     "text": [
      "Fitting 5 folds for each of 20 candidates, totalling 100 fits\n"
     ]
    }
   ],
   "source": [
    "## Hyper parameter tuning of the LR1 model\n",
    "from sklearn.model_selection import GridSearchCV\n",
    "\n",
    "LR1 = LogisticRegression(class_weight='balanced', solver='liblinear', penalty='l1')\n",
    "\n",
    "C_values = np.arange(0.00001, 1, 0.05) # 20 values\n",
    "\n",
    "grid = GridSearchCV(estimator=LR1, param_grid={'C': C_values}, cv=kfold, scoring='accuracy', \\\n",
    "                    return_train_score=True, verbose=2, n_jobs=-1)\n",
    "grid_results = grid.fit(X,y)"
   ]
  },
  {
   "cell_type": "code",
   "execution_count": 111,
   "id": "443d5137",
   "metadata": {},
   "outputs": [
    {
     "data": {
      "text/plain": [
       "GridSearchCV(cv=StratifiedKFold(n_splits=5, random_state=42, shuffle=True),\n",
       "             estimator=LogisticRegression(class_weight='balanced', penalty='l1',\n",
       "                                          solver='liblinear'),\n",
       "             n_jobs=-1,\n",
       "             param_grid={'C': array([1.0000e-05, 5.0010e-02, 1.0001e-01, 1.5001e-01, 2.0001e-01,\n",
       "       2.5001e-01, 3.0001e-01, 3.5001e-01, 4.0001e-01, 4.5001e-01,\n",
       "       5.0001e-01, 5.5001e-01, 6.0001e-01, 6.5001e-01, 7.0001e-01,\n",
       "       7.5001e-01, 8.0001e-01, 8.5001e-01, 9.0001e-01, 9.5001e-01])},\n",
       "             return_train_score=True, scoring='accuracy', verbose=2)"
      ]
     },
     "execution_count": 111,
     "metadata": {},
     "output_type": "execute_result"
    }
   ],
   "source": [
    "grid_results"
   ]
  },
  {
   "cell_type": "code",
   "execution_count": 112,
   "id": "774eaa39",
   "metadata": {},
   "outputs": [
    {
     "data": {
      "text/plain": [
       "({'C': 0.95001}, 0.8906565656565656, 19)"
      ]
     },
     "execution_count": 112,
     "metadata": {},
     "output_type": "execute_result"
    }
   ],
   "source": [
    "grid_results.best_params_, grid_results.best_score_, grid_results.best_index_"
   ]
  },
  {
   "cell_type": "code",
   "execution_count": 113,
   "id": "f9061881",
   "metadata": {},
   "outputs": [
    {
     "data": {
      "text/plain": [
       "dict_keys(['mean_fit_time', 'std_fit_time', 'mean_score_time', 'std_score_time', 'param_C', 'params', 'split0_test_score', 'split1_test_score', 'split2_test_score', 'split3_test_score', 'split4_test_score', 'mean_test_score', 'std_test_score', 'rank_test_score', 'split0_train_score', 'split1_train_score', 'split2_train_score', 'split3_train_score', 'split4_train_score', 'mean_train_score', 'std_train_score'])"
      ]
     },
     "execution_count": 113,
     "metadata": {},
     "output_type": "execute_result"
    }
   ],
   "source": [
    "grid_results.cv_results_.keys()"
   ]
  },
  {
   "cell_type": "code",
   "execution_count": 114,
   "id": "e986baef",
   "metadata": {},
   "outputs": [
    {
     "data": {
      "text/plain": [
       "89.06565656565655"
      ]
     },
     "execution_count": 114,
     "metadata": {},
     "output_type": "execute_result"
    }
   ],
   "source": [
    "grid_results.cv_results_['mean_test_score'][grid_results.best_index_]*100"
   ]
  },
  {
   "cell_type": "code",
   "execution_count": 115,
   "id": "f6302ce0",
   "metadata": {},
   "outputs": [
    {
     "data": {
      "text/plain": [
       "93.28282828282829"
      ]
     },
     "execution_count": 115,
     "metadata": {},
     "output_type": "execute_result"
    }
   ],
   "source": [
    "grid_results.cv_results_['mean_train_score'][grid_results.best_index_]*100\n",
    "\n",
    "# means your \"best-fitted\" model from GridsearchCV is (could be) still OVERFITTED!!!!!!!!!"
   ]
  },
  {
   "cell_type": "code",
   "execution_count": 116,
   "id": "8b424b9b",
   "metadata": {},
   "outputs": [
    {
     "data": {
      "text/plain": [
       "0.6480114858765835"
      ]
     },
     "execution_count": 116,
     "metadata": {},
     "output_type": "execute_result"
    }
   ],
   "source": [
    "grid_results.cv_results_['std_test_score'][grid_results.best_index_]*100"
   ]
  },
  {
   "cell_type": "code",
   "execution_count": 117,
   "id": "ef6fdcfa",
   "metadata": {},
   "outputs": [
    {
     "data": {
      "text/plain": [
       "array([0.74419192, 0.84494949, 0.86338384, 0.87171717, 0.87537879,\n",
       "       0.8790404 , 0.88017677, 0.88156566, 0.88282828, 0.88497475,\n",
       "       0.88560606, 0.88661616, 0.88699495, 0.88876263, 0.88926768,\n",
       "       0.88876263, 0.8895202 , 0.8895202 , 0.88989899, 0.89065657])"
      ]
     },
     "execution_count": 117,
     "metadata": {},
     "output_type": "execute_result"
    }
   ],
   "source": [
    "grid_results.cv_results_['mean_test_score']"
   ]
  },
  {
   "cell_type": "code",
   "execution_count": 118,
   "id": "b40bc4d2",
   "metadata": {},
   "outputs": [
    {
     "data": {
      "text/plain": [
       "array([0.74419192, 0.85      , 0.86998106, 0.8803346 , 0.88718434,\n",
       "       0.89232955, 0.89649621, 0.90094697, 0.90498737, 0.90811237,\n",
       "       0.91003788, 0.91344697, 0.91568813, 0.91856061, 0.92133838,\n",
       "       0.92332702, 0.92604167, 0.92856692, 0.93055556, 0.93282828])"
      ]
     },
     "execution_count": 118,
     "metadata": {},
     "output_type": "execute_result"
    }
   ],
   "source": [
    "grid_results.cv_results_['mean_train_score']"
   ]
  },
  {
   "cell_type": "code",
   "execution_count": 119,
   "id": "e611e951",
   "metadata": {
    "scrolled": true
   },
   "outputs": [
    {
     "data": {
      "text/plain": [
       "[<matplotlib.lines.Line2D at 0x20a79d8cee0>]"
      ]
     },
     "execution_count": 119,
     "metadata": {},
     "output_type": "execute_result"
    },
    {
     "data": {
      "image/png": "[encoded data removed]",
      "text/plain": [
       "<Figure size 640x480 with 1 Axes>"
      ]
     },
     "metadata": {},
     "output_type": "display_data"
    }
   ],
   "source": [
    "plt.plot(grid_results.cv_results_['mean_train_score'] - grid_results.cv_results_['mean_test_score'])"
   ]
  },
  {
   "cell_type": "code",
   "execution_count": 120,
   "id": "c0b0f88b",
   "metadata": {},
   "outputs": [
    {
     "data": {
      "text/plain": [
       "{'C': array([1.0000e-05, 5.0010e-02, 1.0001e-01, 1.5001e-01, 2.0001e-01,\n",
       "        2.5001e-01, 3.0001e-01, 3.5001e-01, 4.0001e-01, 4.5001e-01,\n",
       "        5.0001e-01, 5.5001e-01, 6.0001e-01, 6.5001e-01, 7.0001e-01,\n",
       "        7.5001e-01, 8.0001e-01, 8.5001e-01, 9.0001e-01, 9.5001e-01])}"
      ]
     },
     "execution_count": 120,
     "metadata": {},
     "output_type": "execute_result"
    }
   ],
   "source": [
    "grid_results.param_grid"
   ]
  },
  {
   "cell_type": "code",
   "execution_count": 121,
   "id": "d70a0c25",
   "metadata": {},
   "outputs": [
    {
     "data": {
      "text/plain": [
       "0.15001000000000003"
      ]
     },
     "execution_count": 121,
     "metadata": {},
     "output_type": "execute_result"
    }
   ],
   "source": [
    "grid_results.param_grid['C'][3]"
   ]
  },
  {
   "cell_type": "code",
   "execution_count": 122,
   "id": "4b1898b1",
   "metadata": {},
   "outputs": [
    {
     "data": {
      "text/plain": [
       "array([-1.11022302e-16,  5.05050505e-03,  6.59722222e-03,  8.61742424e-03,\n",
       "        1.18055556e-02,  1.32891414e-02,  1.63194444e-02,  1.93813131e-02,\n",
       "        2.21590909e-02,  2.31376263e-02,  2.44318182e-02,  2.68308081e-02,\n",
       "        2.86931818e-02,  2.97979798e-02,  3.20707071e-02,  3.45643939e-02,\n",
       "        3.65214646e-02,  3.90467172e-02,  4.06565657e-02,  4.21717172e-02])"
      ]
     },
     "execution_count": 122,
     "metadata": {},
     "output_type": "execute_result"
    }
   ],
   "source": [
    "grid_results.cv_results_['mean_train_score'] - grid_results.cv_results_['mean_test_score']"
   ]
  },
  {
   "cell_type": "code",
   "execution_count": 123,
   "id": "683ca4f1",
   "metadata": {},
   "outputs": [
    {
     "name": "stdout",
     "output_type": "stream",
     "text": [
      "88.28 0.93\n"
     ]
    }
   ],
   "source": [
    "# Create a pipeline & cross-validate\n",
    "from sklearn.pipeline import make_pipeline, Pipeline\n",
    "\n",
    "X = data['cleaned_tweets_w/o_SW']\n",
    "y = data['label']\n",
    "\n",
    "CV = CountVectorizer()\n",
    "LR1 = LogisticRegression(class_weight='balanced', solver='liblinear', penalty='l1', C=0.4)\n",
    "\n",
    "CV_pipe = Pipeline([('CV', CV) , ('LR', LR1)] )\n",
    "\n",
    "results = cross_val_score(CV_pipe, X, y, cv=kfold, scoring='accuracy')\n",
    "print(np.round((results.mean())*100, 2), np.round((results.std())*100, 2)) "
   ]
  },
  {
   "cell_type": "code",
   "execution_count": 124,
   "id": "ba6c19bb",
   "metadata": {},
   "outputs": [
    {
     "data": {
      "text/plain": [
       "{'CV': CountVectorizer(),\n",
       " 'LR': LogisticRegression(C=0.4, class_weight='balanced', penalty='l1',\n",
       "                    solver='liblinear')}"
      ]
     },
     "execution_count": 124,
     "metadata": {},
     "output_type": "execute_result"
    }
   ],
   "source": [
    "CV_pipe.named_steps"
   ]
  },
  {
   "cell_type": "code",
   "execution_count": 125,
   "id": "6820a163",
   "metadata": {},
   "outputs": [
    {
     "data": {
      "text/plain": [
       "Pipeline(steps=[('CV', CountVectorizer()),\n",
       "                ('LR',\n",
       "                 LogisticRegression(C=0.4, class_weight='balanced',\n",
       "                                    penalty='l1', solver='liblinear'))])"
      ]
     },
     "execution_count": 125,
     "metadata": {},
     "output_type": "execute_result"
    }
   ],
   "source": [
    "CV_pipe.fit(X,y)"
   ]
  },
  {
   "cell_type": "code",
   "execution_count": 126,
   "id": "17a39f4e",
   "metadata": {},
   "outputs": [
    {
     "data": {
      "text/plain": [
       "15955"
      ]
     },
     "execution_count": 126,
     "metadata": {},
     "output_type": "execute_result"
    }
   ],
   "source": [
    "len(CV_pipe['CV'].vocabulary_)  # CV with stopwords applied already & word_len > 2"
   ]
  },
  {
   "cell_type": "code",
   "execution_count": 127,
   "id": "b498e1e8",
   "metadata": {},
   "outputs": [],
   "source": [
    "# print(CV_pipe['CV'].vocabulary_)"
   ]
  },
  {
   "cell_type": "markdown",
   "id": "3cb2eae1",
   "metadata": {},
   "source": [
    "# 6. LR Model without vs with stop_words ??"
   ]
  },
  {
   "cell_type": "code",
   "execution_count": 128,
   "id": "12a440e2",
   "metadata": {},
   "outputs": [
    {
     "name": "stdout",
     "output_type": "stream",
     "text": [
      "86.87 1.07\n"
     ]
    },
    {
     "data": {
      "text/plain": [
       "15673"
      ]
     },
     "execution_count": 128,
     "metadata": {},
     "output_type": "execute_result"
    }
   ],
   "source": [
    "# Create a pipeline & cross-validate\n",
    "from sklearn.pipeline import make_pipeline, Pipeline\n",
    "\n",
    "X = data['cleaned_tweets_w/o_SW']\n",
    "y = data['label']\n",
    "\n",
    "CV = CountVectorizer(stop_words=final_stopwords)\n",
    "LR1 = LogisticRegression(class_weight='balanced', solver='liblinear', penalty='l1', C=0.4)\n",
    "\n",
    "CV_pipe = Pipeline([('CV', CV) , ('LR', LR1)] )\n",
    "\n",
    "results = cross_val_score(CV_pipe, X, y, cv=kfold, scoring='accuracy')\n",
    "print(np.round((results.mean())*100, 2), np.round((results.std())*100, 2)) \n",
    "\n",
    "CV_pipe.fit(X,y)\n",
    "len(CV_pipe['CV'].vocabulary_) "
   ]
  },
  {
   "cell_type": "code",
   "execution_count": null,
   "id": "783a68f8",
   "metadata": {},
   "outputs": [],
   "source": []
  },
  {
   "cell_type": "code",
   "execution_count": 129,
   "id": "7f3c229f",
   "metadata": {},
   "outputs": [
    {
     "name": "stdout",
     "output_type": "stream",
     "text": [
      "86.77 1.03\n"
     ]
    },
    {
     "data": {
      "text/plain": [
       "1086"
      ]
     },
     "execution_count": 129,
     "metadata": {},
     "output_type": "execute_result"
    }
   ],
   "source": [
    "# Create a pipeline & cross-validate\n",
    "from sklearn.pipeline import make_pipeline, Pipeline\n",
    "\n",
    "X = data['cleaned_tweets_w/o_SW']\n",
    "y = data['label']\n",
    "\n",
    "CV = CountVectorizer(stop_words=final_stopwords, min_df=10, max_features=None)\n",
    "LR1 = LogisticRegression(class_weight='balanced', solver='liblinear', penalty='l1', C=0.4)\n",
    "\n",
    "CV_pipe = Pipeline([('CV', CV) , ('LR', LR1)] )\n",
    "\n",
    "results = cross_val_score(CV_pipe, X, y, cv=kfold, scoring='accuracy')\n",
    "print(np.round((results.mean())*100, 2), np.round((results.std())*100, 2)) \n",
    "\n",
    "CV_pipe.fit(X,y)\n",
    "len(CV_pipe['CV'].vocabulary_) "
   ]
  },
  {
   "cell_type": "code",
   "execution_count": null,
   "id": "a3de4b3b",
   "metadata": {},
   "outputs": [],
   "source": []
  },
  {
   "cell_type": "code",
   "execution_count": 130,
   "id": "d2100b72",
   "metadata": {},
   "outputs": [
    {
     "name": "stdout",
     "output_type": "stream",
     "text": [
      "85.24 1.3\n"
     ]
    },
    {
     "data": {
      "text/plain": [
       "300"
      ]
     },
     "execution_count": 130,
     "metadata": {},
     "output_type": "execute_result"
    }
   ],
   "source": [
    "# Create a pipeline & cross-validate\n",
    "from sklearn.pipeline import make_pipeline, Pipeline\n",
    "\n",
    "X = data['cleaned_tweets_w/o_SW']\n",
    "y = data['label']\n",
    "\n",
    "CV = CountVectorizer(stop_words=final_stopwords, min_df=10, max_features=300)\n",
    "LR1 = LogisticRegression(class_weight='balanced', solver='liblinear', penalty='l1', C=0.4)\n",
    "\n",
    "CV_pipe = Pipeline([('CV', CV) , ('LR', LR1)] )\n",
    "\n",
    "results = cross_val_score(CV_pipe, X, y, cv=kfold, scoring='accuracy')\n",
    "print(np.round((results.mean())*100, 2), np.round((results.std())*100, 2)) \n",
    "\n",
    "CV_pipe.fit(X,y)\n",
    "len(CV_pipe['CV'].vocabulary_) "
   ]
  },
  {
   "cell_type": "code",
   "execution_count": null,
   "id": "ea6ec811",
   "metadata": {},
   "outputs": [],
   "source": []
  },
  {
   "cell_type": "markdown",
   "id": "83a79b75",
   "metadata": {},
   "source": [
    "# 7. TF-IDF Vector BoW Model + Logistic Regression"
   ]
  },
  {
   "cell_type": "code",
   "execution_count": 131,
   "id": "f152b1bc",
   "metadata": {},
   "outputs": [],
   "source": [
    "doc1 = 'I love cooking'\n",
    "doc2 = 'Today I cooked pasta today'"
   ]
  },
  {
   "cell_type": "code",
   "execution_count": null,
   "id": "09630f86",
   "metadata": {},
   "outputs": [],
   "source": []
  },
  {
   "cell_type": "code",
   "execution_count": 132,
   "id": "9656e8e8",
   "metadata": {},
   "outputs": [],
   "source": [
    "# TF_score = how many times a word (from the vocab) is appearing in a given doc / total no. of words in that doc\n",
    "# TF(today | doc2) = 2/5\n",
    "# TF_score will be high for \"very frequent\" words in a given doc\n",
    "\n",
    "# IDF_score = log( (1+Total no. of documents) / (1+No. of documents contianing that \"term\") )\n",
    "# IDF_score penalizes those those words which are EQUALLY frequent in almost all the documents\n",
    "\n",
    "# TF_IDF score = TF_score*IDF_score"
   ]
  },
  {
   "cell_type": "code",
   "execution_count": 133,
   "id": "e026f9e6",
   "metadata": {},
   "outputs": [
    {
     "name": "stdout",
     "output_type": "stream",
     "text": [
      "86.82 0.14\n",
      "85.24 0.84\n"
     ]
    },
    {
     "data": {
      "text/plain": [
       "1000"
      ]
     },
     "execution_count": 133,
     "metadata": {},
     "output_type": "execute_result"
    }
   ],
   "source": [
    "from sklearn.feature_extraction.text import TfidfVectorizer\n",
    "X = data['cleaned_tweets_w/o_SW']\n",
    "y = data['label']\n",
    "\n",
    "# we want to include only those words in the vocab which have min df of 5,\n",
    "# means select only those words which occur ATLEAST in 5 documents!! \n",
    "# AND SELECT the TOP 1000 FEATURES ONLY to build the model\n",
    "TFIDF = TfidfVectorizer(stop_words=final_stopwords,  min_df=5, max_features=1000)\n",
    "\n",
    "LR1 = LogisticRegression(class_weight='balanced', solver='liblinear', penalty='l1', C=0.4)\n",
    "CV_pipe = Pipeline([('TFIDF', TFIDF) , ('LR', LR1)] )\n",
    "results = cross_validate(CV_pipe, X, y, cv=kfold, scoring='accuracy', return_train_score=True)\n",
    "\n",
    "# print(results['train_score'])\n",
    "print(np.round((results['train_score'].mean())*100, 2), np.round((results['train_score'].std())*100, 2)) \n",
    "\n",
    "# print(results['test_score'])\n",
    "print(np.round((results['test_score'].mean())*100, 2), np.round((results['test_score'].std())*100, 2)) \n",
    "\n",
    "TFIDF.fit_transform(X)\n",
    "len(TFIDF.vocabulary_)  # no. of features AFTER applying the stopwords"
   ]
  },
  {
   "cell_type": "code",
   "execution_count": null,
   "id": "83a4cdff",
   "metadata": {},
   "outputs": [],
   "source": []
  },
  {
   "cell_type": "markdown",
   "id": "398eb47b",
   "metadata": {},
   "source": [
    "# 8. Dimesionality Reduction"
   ]
  },
  {
   "cell_type": "code",
   "execution_count": 134,
   "id": "597c7c15",
   "metadata": {},
   "outputs": [],
   "source": [
    "# [7920 x 15955] >>> [7920 x 1000]"
   ]
  },
  {
   "cell_type": "code",
   "execution_count": 135,
   "id": "bca8ddcd",
   "metadata": {},
   "outputs": [
    {
     "name": "stdout",
     "output_type": "stream",
     "text": [
      "87.42 0.25\n",
      "86.57 0.83\n"
     ]
    },
    {
     "data": {
      "text/plain": [
       "15955"
      ]
     },
     "execution_count": 135,
     "metadata": {},
     "output_type": "execute_result"
    }
   ],
   "source": [
    "from sklearn.decomposition import TruncatedSVD\n",
    "\n",
    "X = data['cleaned_tweets_w/o_SW']\n",
    "y = data['label']\n",
    "\n",
    "TFIDF = TfidfVectorizer()  # will originally have 15955 features\n",
    "SVD = TruncatedSVD(n_components=1000)  # reduce it to 1000 PCs\n",
    "\n",
    "LR1 = LogisticRegression(class_weight='balanced', solver='liblinear', penalty='l1', C=0.4)\n",
    "CV_pipe = Pipeline([('TFIDF', TFIDF), ('SVD', SVD), ('LR', LR1)] )\n",
    "results = cross_validate(CV_pipe, X, y, cv=kfold, scoring='accuracy', return_train_score=True)\n",
    "\n",
    "# print(results['train_score'])\n",
    "print(np.round((results['train_score'].mean())*100, 2), np.round((results['train_score'].std())*100, 2)) \n",
    "\n",
    "# print(results['test_score'])\n",
    "print(np.round((results['test_score'].mean())*100, 2), np.round((results['test_score'].std())*100, 2)) \n",
    "\n",
    "TFIDF.fit_transform(X)\n",
    "len(TFIDF.vocabulary_)  "
   ]
  },
  {
   "cell_type": "code",
   "execution_count": null,
   "id": "9f6725d9",
   "metadata": {},
   "outputs": [],
   "source": []
  },
  {
   "cell_type": "code",
   "execution_count": 136,
   "id": "007da074",
   "metadata": {},
   "outputs": [
    {
     "data": {
      "text/plain": [
       "{'TFIDF': TfidfVectorizer(),\n",
       " 'SVD': TruncatedSVD(n_components=1000),\n",
       " 'LR': LogisticRegression(C=0.4, class_weight='balanced', penalty='l1',\n",
       "                    solver='liblinear')}"
      ]
     },
     "execution_count": 136,
     "metadata": {},
     "output_type": "execute_result"
    }
   ],
   "source": [
    "CV_pipe.named_steps"
   ]
  },
  {
   "cell_type": "code",
   "execution_count": null,
   "id": "3eb3c8fb",
   "metadata": {},
   "outputs": [],
   "source": []
  },
  {
   "cell_type": "code",
   "execution_count": null,
   "id": "7b7d5b22",
   "metadata": {},
   "outputs": [],
   "source": []
  },
  {
   "cell_type": "code",
   "execution_count": null,
   "id": "bf2c3221",
   "metadata": {},
   "outputs": [],
   "source": []
  },
  {
   "cell_type": "markdown",
   "id": "251e95fc",
   "metadata": {},
   "source": [
    "# 9. N-Gram Models"
   ]
  },
  {
   "cell_type": "code",
   "execution_count": 137,
   "id": "0f043d71",
   "metadata": {},
   "outputs": [
    {
     "name": "stdout",
     "output_type": "stream",
     "text": [
      "88.89 0.21\n",
      "86.84 0.68\n"
     ]
    },
    {
     "data": {
      "text/plain": [
       "3322"
      ]
     },
     "execution_count": 137,
     "metadata": {},
     "output_type": "execute_result"
    }
   ],
   "source": [
    "# Unigrams + Bigrams\n",
    "X = data['cleaned_tweets_w/o_SW']\n",
    "y = data['label']\n",
    "\n",
    "# we want to include only those words in the vocab which have min df of 5,\n",
    "# means select only those words which occur ATLEAST in 5 documents!! \n",
    "# AND SELECT the TOP 1000 FEATURES ONLY to build the model\n",
    "CV = CountVectorizer(stop_words=final_stopwords,  ngram_range=(1, 2), min_df=5)\n",
    "\n",
    "LR1 = LogisticRegression(class_weight='balanced', solver='liblinear', penalty='l1', C=0.4)\n",
    "CV_pipe = Pipeline([('CV', CV) , ('LR', LR1)] )\n",
    "results = cross_validate(CV_pipe, X, y, cv=kfold, scoring='accuracy', return_train_score=True)\n",
    "\n",
    "# print(results['train_score'])\n",
    "print(np.round((results['train_score'].mean())*100, 2), np.round((results['train_score'].std())*100, 2)) \n",
    "\n",
    "# print(results['test_score'])\n",
    "print(np.round((results['test_score'].mean())*100, 2), np.round((results['test_score'].std())*100, 2)) \n",
    "\n",
    "CV.fit_transform(X)\n",
    "len(CV.vocabulary_)  # no. of features AFTER applying the stopwords"
   ]
  },
  {
   "cell_type": "code",
   "execution_count": 138,
   "id": "3a547e56",
   "metadata": {},
   "outputs": [],
   "source": [
    "# CV.vocabulary_"
   ]
  },
  {
   "cell_type": "code",
   "execution_count": 139,
   "id": "47c796bc",
   "metadata": {},
   "outputs": [
    {
     "data": {
      "text/plain": [
       "{'CV': CountVectorizer(min_df=5, ngram_range=(1, 2),\n",
       "                 stop_words=['phone', 'mobile', 'twitter', 'rt', 'com', 'follow',\n",
       "                             'even', 'whence', 'itself', 'was', 'up', 'not',\n",
       "                             \"doesn't\", 'as', 'enough', 'ain', 'her', 'toward',\n",
       "                             \"you'd\", 'just', 'formerly', 'whether', 'meanwhile',\n",
       "                             'detail', 'side', 'have', 'eight', 'ltd', 'anyone',\n",
       "                             \"that'll\", ...]),\n",
       " 'LR': LogisticRegression(C=0.4, class_weight='balanced', penalty='l1',\n",
       "                    solver='liblinear')}"
      ]
     },
     "execution_count": 139,
     "metadata": {},
     "output_type": "execute_result"
    }
   ],
   "source": [
    "CV_pipe.named_steps"
   ]
  },
  {
   "cell_type": "code",
   "execution_count": 140,
   "id": "d2686aec",
   "metadata": {},
   "outputs": [
    {
     "data": {
      "text/plain": [
       "'1.1.0'"
      ]
     },
     "execution_count": 140,
     "metadata": {},
     "output_type": "execute_result"
    }
   ],
   "source": [
    "import joblib\n",
    "joblib.__version__"
   ]
  },
  {
   "cell_type": "code",
   "execution_count": 143,
   "id": "7b502abf",
   "metadata": {},
   "outputs": [
    {
     "name": "stdout",
     "output_type": "stream",
     "text": [
      "Requirement already satisfied: joblib==1.1.0 in c:\\users\\khush\\anaconda3\\lib\\site-packages (1.1.0)\n",
      "Note: you may need to restart the kernel to use updated packages.\n"
     ]
    }
   ],
   "source": [
    "pip install --upgrade joblib==1.1.0"
   ]
  },
  {
   "cell_type": "code",
   "execution_count": 144,
   "id": "d8e5bd58",
   "metadata": {},
   "outputs": [
    {
     "name": "stdout",
     "output_type": "stream",
     "text": [
      "Collecting mglearn\n",
      "  Downloading mglearn-0.1.9.tar.gz (540 kB)\n",
      "     ------------------------------------- 540.1/540.1 kB 11.3 MB/s eta 0:00:00\n",
      "  Preparing metadata (setup.py): started\n",
      "  Preparing metadata (setup.py): finished with status 'done'\n",
      "Requirement already satisfied: numpy in c:\\users\\khush\\anaconda3\\lib\\site-packages (from mglearn) (1.21.5)\n",
      "Requirement already satisfied: matplotlib in c:\\users\\khush\\anaconda3\\lib\\site-packages (from mglearn) (3.5.2)\n",
      "Requirement already satisfied: scikit-learn in c:\\users\\khush\\anaconda3\\lib\\site-packages (from mglearn) (1.0.2)\n",
      "Requirement already satisfied: pandas in c:\\users\\khush\\anaconda3\\lib\\site-packages (from mglearn) (1.4.4)\n",
      "Requirement already satisfied: pillow in c:\\users\\khush\\anaconda3\\lib\\site-packages (from mglearn) (9.2.0)\n",
      "Requirement already satisfied: cycler in c:\\users\\khush\\anaconda3\\lib\\site-packages (from mglearn) (0.11.0)\n",
      "Requirement already satisfied: imageio in c:\\users\\khush\\anaconda3\\lib\\site-packages (from mglearn) (2.19.3)\n",
      "Requirement already satisfied: joblib in c:\\users\\khush\\anaconda3\\lib\\site-packages (from mglearn) (1.1.0)\n",
      "Requirement already satisfied: packaging>=20.0 in c:\\users\\khush\\anaconda3\\lib\\site-packages (from matplotlib->mglearn) (21.3)\n",
      "Requirement already satisfied: kiwisolver>=1.0.1 in c:\\users\\khush\\anaconda3\\lib\\site-packages (from matplotlib->mglearn) (1.4.2)\n",
      "Requirement already satisfied: fonttools>=4.22.0 in c:\\users\\khush\\anaconda3\\lib\\site-packages (from matplotlib->mglearn) (4.25.0)\n",
      "Requirement already satisfied: python-dateutil>=2.7 in c:\\users\\khush\\anaconda3\\lib\\site-packages (from matplotlib->mglearn) (2.8.2)\n",
      "Requirement already satisfied: pyparsing>=2.2.1 in c:\\users\\khush\\anaconda3\\lib\\site-packages (from matplotlib->mglearn) (3.0.9)\n",
      "Requirement already satisfied: pytz>=2020.1 in c:\\users\\khush\\anaconda3\\lib\\site-packages (from pandas->mglearn) (2022.1)\n",
      "Requirement already satisfied: threadpoolctl>=2.0.0 in c:\\users\\khush\\anaconda3\\lib\\site-packages (from scikit-learn->mglearn) (2.2.0)\n",
      "Requirement already satisfied: scipy>=1.1.0 in c:\\users\\khush\\anaconda3\\lib\\site-packages (from scikit-learn->mglearn) (1.9.1)\n",
      "Requirement already satisfied: six>=1.5 in c:\\users\\khush\\anaconda3\\lib\\site-packages (from python-dateutil>=2.7->matplotlib->mglearn) (1.16.0)\n",
      "Building wheels for collected packages: mglearn\n",
      "  Building wheel for mglearn (setup.py): started\n",
      "  Building wheel for mglearn (setup.py): finished with status 'done'\n",
      "  Created wheel for mglearn: filename=mglearn-0.1.9-py2.py3-none-any.whl size=582621 sha256=a616d51125979ba1a3439bba6a05a69600ed0a8b82e3d4c61fd96ffc6b535d9d\n",
      "  Stored in directory: c:\\users\\khush\\appdata\\local\\pip\\cache\\wheels\\df\\30\\8a\\1e2c8f144c9d411b0688f628d496d2db8f61b6d14bcedaa1df\n",
      "Successfully built mglearn\n",
      "Installing collected packages: mglearn\n",
      "Successfully installed mglearn-0.1.9\n"
     ]
    }
   ],
   "source": [
    " !pip install mglearn\n",
    "import mglearn"
   ]
  },
  {
   "cell_type": "code",
   "execution_count": 145,
   "id": "56595ea9",
   "metadata": {},
   "outputs": [
    {
     "name": "stderr",
     "output_type": "stream",
     "text": [
      "C:\\Users\\khush\\anaconda3\\lib\\site-packages\\sklearn\\utils\\deprecation.py:87: FutureWarning: Function get_feature_names is deprecated; get_feature_names is deprecated in 1.0 and will be removed in 1.2. Please use get_feature_names_out instead.\n",
      "  warnings.warn(msg, category=FutureWarning)\n"
     ]
    },
    {
     "data": {
      "image/png": "[encoded data removed]",
      "text/plain": [
       "<Figure size 1500x500 with 1 Axes>"
      ]
     },
     "metadata": {},
     "output_type": "display_data"
    }
   ],
   "source": [
    "# Most important features when using unigrams, bigrams, and trigrams with tf-idf rescaling\n",
    "\n",
    "# extract feature names and coefficients for Unigram Model\n",
    "# CV = CV_pipe.named_steps['CV']\n",
    "feature_names = np.array(CV.get_feature_names())\n",
    "# LR = CV_pipe.named_steps['LR']\n",
    "\n",
    "\n",
    "LR1.fit(CV.fit_transform(X), y)\n",
    "coef = LR1.coef_\n",
    "mglearn.tools.visualize_coefficients(coef, feature_names, n_top_features=25)"
   ]
  },
  {
   "cell_type": "code",
   "execution_count": 146,
   "id": "8d5d7026",
   "metadata": {},
   "outputs": [
    {
     "data": {
      "text/plain": [
       "(3322, 3322)"
      ]
     },
     "execution_count": 146,
     "metadata": {},
     "output_type": "execute_result"
    }
   ],
   "source": [
    "len(coef.ravel()), len(feature_names) "
   ]
  },
  {
   "cell_type": "code",
   "execution_count": 147,
   "id": "abdc41f8",
   "metadata": {},
   "outputs": [
    {
     "data": {
      "image/png": "[encoded data removed]",
      "text/plain": [
       "<Figure size 1500x500 with 1 Axes>"
      ]
     },
     "metadata": {},
     "output_type": "display_data"
    }
   ],
   "source": [
    "# Visualizing only the trigrams\n",
    "# find 2-gram features\n",
    "mask = np.array([len(feature.split(\" \")) for feature in feature_names]) == 2\n",
    "\n",
    "LR1.fit(CV.fit_transform(X), y)\n",
    "coef = LR1.coef_\n",
    "\n",
    "# visualize only 2-gram features\n",
    "mglearn.tools.visualize_coefficients(coef.ravel()[mask], feature_names[mask], n_top_features=25)"
   ]
  },
  {
   "cell_type": "code",
   "execution_count": null,
   "id": "71fde9e8",
   "metadata": {},
   "outputs": [],
   "source": []
  },
  {
   "cell_type": "code",
   "execution_count": 148,
   "id": "1a9791e2",
   "metadata": {},
   "outputs": [
    {
     "name": "stdout",
     "output_type": "stream",
     "text": [
      "88.88 0.2\n",
      "86.84 0.68\n"
     ]
    },
    {
     "data": {
      "text/plain": [
       "3871"
      ]
     },
     "execution_count": 148,
     "metadata": {},
     "output_type": "execute_result"
    }
   ],
   "source": [
    "# Unigrams + Bigrams + Trigrams\n",
    "X = data['cleaned_tweets_w/o_SW']\n",
    "y = data['label']\n",
    "\n",
    "# we want to include only those words in the vocab which have min df of 5,\n",
    "# means select only those words which occur ATLEAST in 5 documents!! \n",
    "# AND SELECT the TOP 1000 FEATURES ONLY to build the model\n",
    "CV = CountVectorizer(stop_words=final_stopwords,  ngram_range=(1, 3), min_df=5)\n",
    "\n",
    "LR1 = LogisticRegression(class_weight='balanced', solver='liblinear', penalty='l1', C=0.4)\n",
    "CV_pipe = Pipeline([('CV', CV) , ('LR', LR1)] )\n",
    "results = cross_validate(CV_pipe, X, y, cv=kfold, scoring='accuracy', return_train_score=True)\n",
    "\n",
    "# print(results['train_score'])\n",
    "print(np.round((results['train_score'].mean())*100, 2), np.round((results['train_score'].std())*100, 2)) \n",
    "\n",
    "# print(results['test_score'])\n",
    "print(np.round((results['test_score'].mean())*100, 2), np.round((results['test_score'].std())*100, 2)) \n",
    "\n",
    "CV.fit_transform(X)\n",
    "len(CV.vocabulary_)  # no. of features AFTER applying the stopwords"
   ]
  },
  {
   "cell_type": "code",
   "execution_count": 153,
   "id": "68c3645d",
   "metadata": {},
   "outputs": [
    {
     "name": "stderr",
     "output_type": "stream",
     "text": [
      "C:\\Users\\khush\\anaconda3\\lib\\site-packages\\sklearn\\utils\\deprecation.py:87: FutureWarning: Function get_feature_names is deprecated; get_feature_names is deprecated in 1.0 and will be removed in 1.2. Please use get_feature_names_out instead.\n",
      "  warnings.warn(msg, category=FutureWarning)\n"
     ]
    }
   ],
   "source": [
    "# Visualizing only the trigrams\n",
    "# find 3-gram features\n",
    "mask = np.array([len(feature.split(\" \")) for feature in feature_names]) == 3\n",
    "feature_names = np.array(CV.get_feature_names())\n",
    "\n",
    "LR1.fit(CV.fit_transform(X), y)\n",
    "coef = LR1.coef_\n",
    "\n"
   ]
  },
  {
   "cell_type": "code",
   "execution_count": 154,
   "id": "a352bfd4",
   "metadata": {},
   "outputs": [
    {
     "data": {
      "text/plain": [
       "(3871, 3871)"
      ]
     },
     "execution_count": 154,
     "metadata": {},
     "output_type": "execute_result"
    }
   ],
   "source": [
    "len(coef.ravel()), len(feature_names)"
   ]
  },
  {
   "cell_type": "code",
   "execution_count": 155,
   "id": "bfd0d534",
   "metadata": {},
   "outputs": [],
   "source": [
    "# CV.vocabulary_"
   ]
  },
  {
   "cell_type": "code",
   "execution_count": 156,
   "id": "0bd6cbc9",
   "metadata": {},
   "outputs": [],
   "source": [
    "data.to_pickle(\"tweets_cleaned.pkl\")"
   ]
  },
  {
   "cell_type": "code",
   "execution_count": null,
   "id": "666a82ef",
   "metadata": {},
   "outputs": [],
   "source": []
  }
 ],
 "metadata": {
  "kernelspec": {
   "display_name": "Python 3 (ipykernel)",
   "language": "python",
   "name": "python3"
  },
  "language_info": {
   "codemirror_mode": {
    "name": "ipython",
    "version": 3
   },
   "file_extension": ".py",
   "mimetype": "text/x-python",
   "name": "python",
   "nbconvert_exporter": "python",
   "pygments_lexer": "ipython3",
   "version": "3.9.13"
  }
 },
 "nbformat": 4,
 "nbformat_minor": 5
}
