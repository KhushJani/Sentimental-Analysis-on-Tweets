{
 "cells": [
  {
   "cell_type": "markdown",
   "id": "57cc68db",
   "metadata": {},
   "source": [
    "### Load The Tweets Dataset "
   ]
  },
  {
   "cell_type": "code",
   "execution_count": 2,
   "id": "5ee9ee83",
   "metadata": {},
   "outputs": [],
   "source": [
    "import numpy as np\n",
    "import pandas as pd\n",
    "from sklearn.pipeline import make_pipeline, Pipeline\n",
    "from sklearn.linear_model import LogisticRegression\n",
    "from sklearn.model_selection import cross_val_score, cross_validate\n",
    "from sklearn.model_selection import StratifiedKFold\n",
    "from sklearn.preprocessing import StandardScaler\n",
    "from sklearn.feature_extraction.text import CountVectorizer\n",
    "from sklearn.model_selection import train_test_split\n",
    "\n",
    "pd.set_option(\"display.max_colwidth\", 200)"
   ]
  },
  {
   "cell_type": "code",
   "execution_count": 3,
   "id": "fdc05750",
   "metadata": {},
   "outputs": [
    {
     "data": {
      "text/html": [
       "<div>\n",
       "<style scoped>\n",
       "    .dataframe tbody tr th:only-of-type {\n",
       "        vertical-align: middle;\n",
       "    }\n",
       "\n",
       "    .dataframe tbody tr th {\n",
       "        vertical-align: top;\n",
       "    }\n",
       "\n",
       "    .dataframe thead th {\n",
       "        text-align: right;\n",
       "    }\n",
       "</style>\n",
       "<table border=\"1\" class=\"dataframe\">\n",
       "  <thead>\n",
       "    <tr style=\"text-align: right;\">\n",
       "      <th></th>\n",
       "      <th>id</th>\n",
       "      <th>label</th>\n",
       "      <th>tweet</th>\n",
       "      <th>cleaned_tweets_w/o_SW</th>\n",
       "      <th>cleaned_tweets_with_SW</th>\n",
       "    </tr>\n",
       "  </thead>\n",
       "  <tbody>\n",
       "    <tr>\n",
       "      <th>0</th>\n",
       "      <td>1</td>\n",
       "      <td>0</td>\n",
       "      <td>#fingerprint #Pregnancy Test https://goo.gl/h1MfQV #android #apps #beautiful #cute #health #igers #iphoneonly #iphonesia #iphone</td>\n",
       "      <td>fingerprint pregnancy test android apps beautiful cute health igers iphoneonly iphonesia iphone</td>\n",
       "      <td>fingerprint pregnancy test android apps beautiful cute health igers iphoneonly iphonesia iphone</td>\n",
       "    </tr>\n",
       "    <tr>\n",
       "      <th>1</th>\n",
       "      <td>2</td>\n",
       "      <td>0</td>\n",
       "      <td>Finally a transparant silicon case ^^ Thanks to my uncle :) #yay #Sony #Xperia #S #sonyexperias… http://instagram.com/p/YGEt5JC6JM/</td>\n",
       "      <td>finally a transparant silicon case thanks to my uncle yay sony xperia s sonyexperias</td>\n",
       "      <td>finally transparant silicon case thanks uncle yay sony xperia sonyexperias</td>\n",
       "    </tr>\n",
       "    <tr>\n",
       "      <th>2</th>\n",
       "      <td>3</td>\n",
       "      <td>0</td>\n",
       "      <td>We love this! Would you go? #talk #makememories #unplug #relax #iphone #smartphone #wifi #connect... http://fb.me/6N3LsUpCu</td>\n",
       "      <td>we love this would you go talk makememories unplug relax iphone smartphone wifi connect</td>\n",
       "      <td>love talk makememories unplug relax iphone smartphone wifi connect</td>\n",
       "    </tr>\n",
       "    <tr>\n",
       "      <th>3</th>\n",
       "      <td>4</td>\n",
       "      <td>0</td>\n",
       "      <td>I'm wired I know I'm George I was made that way ;) #iphone #cute #daventry #home http://instagr.am/p/Li_5_ujS4k/</td>\n",
       "      <td>i am wired i know i am george i wa made that way iphone cute daventry home</td>\n",
       "      <td>wired know george way iphone cute daventry home</td>\n",
       "    </tr>\n",
       "    <tr>\n",
       "      <th>4</th>\n",
       "      <td>5</td>\n",
       "      <td>1</td>\n",
       "      <td>What amazing service! Apple won't even talk to me about a question I have unless I pay them $19.95 for their stupid support!</td>\n",
       "      <td>what amazing service apple will not even talk to me about a question i have unless i pay them for their stupid support</td>\n",
       "      <td>amazing service apple talk question unless pay stupid support</td>\n",
       "    </tr>\n",
       "  </tbody>\n",
       "</table>\n",
       "</div>"
      ],
      "text/plain": [
       "   id  label  \\\n",
       "0   1      0   \n",
       "1   2      0   \n",
       "2   3      0   \n",
       "3   4      0   \n",
       "4   5      1   \n",
       "\n",
       "                                                                                                                                 tweet  \\\n",
       "0     #fingerprint #Pregnancy Test https://goo.gl/h1MfQV #android #apps #beautiful #cute #health #igers #iphoneonly #iphonesia #iphone   \n",
       "1  Finally a transparant silicon case ^^ Thanks to my uncle :) #yay #Sony #Xperia #S #sonyexperias… http://instagram.com/p/YGEt5JC6JM/   \n",
       "2          We love this! Would you go? #talk #makememories #unplug #relax #iphone #smartphone #wifi #connect... http://fb.me/6N3LsUpCu   \n",
       "3                     I'm wired I know I'm George I was made that way ;) #iphone #cute #daventry #home http://instagr.am/p/Li_5_ujS4k/   \n",
       "4         What amazing service! Apple won't even talk to me about a question I have unless I pay them $19.95 for their stupid support!   \n",
       "\n",
       "                                                                                                     cleaned_tweets_w/o_SW  \\\n",
       "0                         fingerprint pregnancy test android apps beautiful cute health igers iphoneonly iphonesia iphone    \n",
       "1                                    finally a transparant silicon case thanks to my uncle yay sony xperia s sonyexperias    \n",
       "2                                 we love this would you go talk makememories unplug relax iphone smartphone wifi connect    \n",
       "3                                              i am wired i know i am george i wa made that way iphone cute daventry home    \n",
       "4  what amazing service apple will not even talk to me about a question i have unless i pay them for their stupid support    \n",
       "\n",
       "                                                                             cleaned_tweets_with_SW  \n",
       "0  fingerprint pregnancy test android apps beautiful cute health igers iphoneonly iphonesia iphone   \n",
       "1                       finally transparant silicon case thanks uncle yay sony xperia sonyexperias   \n",
       "2                               love talk makememories unplug relax iphone smartphone wifi connect   \n",
       "3                                                  wired know george way iphone cute daventry home   \n",
       "4                                    amazing service apple talk question unless pay stupid support   "
      ]
     },
     "execution_count": 3,
     "metadata": {},
     "output_type": "execute_result"
    }
   ],
   "source": [
    "data = pd.read_pickle(\"tweets_cleaned.pkl\")\n",
    "data.head()"
   ]
  },
  {
   "cell_type": "code",
   "execution_count": 4,
   "id": "87479af6",
   "metadata": {},
   "outputs": [],
   "source": [
    "# 0 refers to positive sentiment, 1 is negative sentiment"
   ]
  },
  {
   "cell_type": "code",
   "execution_count": null,
   "id": "02bc0cd5",
   "metadata": {},
   "outputs": [],
   "source": []
  },
  {
   "cell_type": "markdown",
   "id": "212330f3",
   "metadata": {},
   "source": [
    "# 12. Simple Deep Learning Model with OHE (Binary) Features"
   ]
  },
  {
   "cell_type": "code",
   "execution_count": 12,
   "id": "944d64b7",
   "metadata": {},
   "outputs": [
    {
     "name": "stdout",
     "output_type": "stream",
     "text": [
      "Requirement already satisfied: keras in c:\\users\\khush\\anaconda3\\lib\\site-packages (2.12.0)\n"
     ]
    }
   ],
   "source": [
    "#!pip install keras"
   ]
  },
  {
   "cell_type": "code",
   "execution_count": 13,
   "id": "0118baa9",
   "metadata": {},
   "outputs": [
    {
     "name": "stdout",
     "output_type": "stream",
     "text": [
      "Requirement already satisfied: tensorflow in c:\\users\\khush\\anaconda3\\lib\\site-packages (2.12.0)\n",
      "Requirement already satisfied: tensorflow-intel==2.12.0 in c:\\users\\khush\\anaconda3\\lib\\site-packages (from tensorflow) (2.12.0)\n",
      "Requirement already satisfied: keras<2.13,>=2.12.0 in c:\\users\\khush\\anaconda3\\lib\\site-packages (from tensorflow-intel==2.12.0->tensorflow) (2.12.0)\n",
      "Requirement already satisfied: typing-extensions>=3.6.6 in c:\\users\\khush\\anaconda3\\lib\\site-packages (from tensorflow-intel==2.12.0->tensorflow) (4.3.0)\n",
      "Requirement already satisfied: google-pasta>=0.1.1 in c:\\users\\khush\\anaconda3\\lib\\site-packages (from tensorflow-intel==2.12.0->tensorflow) (0.2.0)\n",
      "Requirement already satisfied: tensorboard<2.13,>=2.12 in c:\\users\\khush\\anaconda3\\lib\\site-packages (from tensorflow-intel==2.12.0->tensorflow) (2.12.3)\n",
      "Requirement already satisfied: astunparse>=1.6.0 in c:\\users\\khush\\anaconda3\\lib\\site-packages (from tensorflow-intel==2.12.0->tensorflow) (1.6.3)\n",
      "Requirement already satisfied: h5py>=2.9.0 in c:\\users\\khush\\anaconda3\\lib\\site-packages (from tensorflow-intel==2.12.0->tensorflow) (3.7.0)\n",
      "Requirement already satisfied: libclang>=13.0.0 in c:\\users\\khush\\anaconda3\\lib\\site-packages (from tensorflow-intel==2.12.0->tensorflow) (16.0.0)\n",
      "Requirement already satisfied: numpy<1.24,>=1.22 in c:\\users\\khush\\anaconda3\\lib\\site-packages (from tensorflow-intel==2.12.0->tensorflow) (1.23.5)\n",
      "Requirement already satisfied: wrapt<1.15,>=1.11.0 in c:\\users\\khush\\anaconda3\\lib\\site-packages (from tensorflow-intel==2.12.0->tensorflow) (1.14.1)\n",
      "Requirement already satisfied: grpcio<2.0,>=1.24.3 in c:\\users\\khush\\anaconda3\\lib\\site-packages (from tensorflow-intel==2.12.0->tensorflow) (1.54.2)\n",
      "Requirement already satisfied: absl-py>=1.0.0 in c:\\users\\khush\\anaconda3\\lib\\site-packages (from tensorflow-intel==2.12.0->tensorflow) (1.4.0)\n",
      "Requirement already satisfied: gast<=0.4.0,>=0.2.1 in c:\\users\\khush\\anaconda3\\lib\\site-packages (from tensorflow-intel==2.12.0->tensorflow) (0.4.0)\n",
      "Requirement already satisfied: six>=1.12.0 in c:\\users\\khush\\anaconda3\\lib\\site-packages (from tensorflow-intel==2.12.0->tensorflow) (1.16.0)\n",
      "Requirement already satisfied: tensorflow-io-gcs-filesystem>=0.23.1 in c:\\users\\khush\\anaconda3\\lib\\site-packages (from tensorflow-intel==2.12.0->tensorflow) (0.31.0)\n",
      "Requirement already satisfied: packaging in c:\\users\\khush\\anaconda3\\lib\\site-packages (from tensorflow-intel==2.12.0->tensorflow) (21.3)\n",
      "Requirement already satisfied: protobuf!=4.21.0,!=4.21.1,!=4.21.2,!=4.21.3,!=4.21.4,!=4.21.5,<5.0.0dev,>=3.20.3 in c:\\users\\khush\\anaconda3\\lib\\site-packages (from tensorflow-intel==2.12.0->tensorflow) (4.23.0)\n",
      "Requirement already satisfied: jax>=0.3.15 in c:\\users\\khush\\anaconda3\\lib\\site-packages (from tensorflow-intel==2.12.0->tensorflow) (0.4.10)\n",
      "Requirement already satisfied: flatbuffers>=2.0 in c:\\users\\khush\\anaconda3\\lib\\site-packages (from tensorflow-intel==2.12.0->tensorflow) (23.5.9)\n",
      "Requirement already satisfied: termcolor>=1.1.0 in c:\\users\\khush\\anaconda3\\lib\\site-packages (from tensorflow-intel==2.12.0->tensorflow) (2.3.0)\n",
      "Requirement already satisfied: tensorflow-estimator<2.13,>=2.12.0 in c:\\users\\khush\\anaconda3\\lib\\site-packages (from tensorflow-intel==2.12.0->tensorflow) (2.12.0)\n",
      "Requirement already satisfied: opt-einsum>=2.3.2 in c:\\users\\khush\\anaconda3\\lib\\site-packages (from tensorflow-intel==2.12.0->tensorflow) (3.3.0)\n",
      "Requirement already satisfied: setuptools in c:\\users\\khush\\anaconda3\\lib\\site-packages (from tensorflow-intel==2.12.0->tensorflow) (63.4.1)\n",
      "Requirement already satisfied: wheel<1.0,>=0.23.0 in c:\\users\\khush\\anaconda3\\lib\\site-packages (from astunparse>=1.6.0->tensorflow-intel==2.12.0->tensorflow) (0.37.1)\n",
      "Requirement already satisfied: scipy>=1.7 in c:\\users\\khush\\anaconda3\\lib\\site-packages (from jax>=0.3.15->tensorflow-intel==2.12.0->tensorflow) (1.9.1)\n",
      "Requirement already satisfied: ml-dtypes>=0.1.0 in c:\\users\\khush\\anaconda3\\lib\\site-packages (from jax>=0.3.15->tensorflow-intel==2.12.0->tensorflow) (0.1.0)\n",
      "Requirement already satisfied: google-auth<3,>=1.6.3 in c:\\users\\khush\\anaconda3\\lib\\site-packages (from tensorboard<2.13,>=2.12->tensorflow-intel==2.12.0->tensorflow) (2.18.0)\n",
      "Requirement already satisfied: requests<3,>=2.21.0 in c:\\users\\khush\\anaconda3\\lib\\site-packages (from tensorboard<2.13,>=2.12->tensorflow-intel==2.12.0->tensorflow) (2.28.1)\n",
      "Requirement already satisfied: google-auth-oauthlib<1.1,>=0.5 in c:\\users\\khush\\anaconda3\\lib\\site-packages (from tensorboard<2.13,>=2.12->tensorflow-intel==2.12.0->tensorflow) (1.0.0)\n",
      "Requirement already satisfied: markdown>=2.6.8 in c:\\users\\khush\\anaconda3\\lib\\site-packages (from tensorboard<2.13,>=2.12->tensorflow-intel==2.12.0->tensorflow) (3.3.4)\n",
      "Requirement already satisfied: werkzeug>=1.0.1 in c:\\users\\khush\\anaconda3\\lib\\site-packages (from tensorboard<2.13,>=2.12->tensorflow-intel==2.12.0->tensorflow) (2.0.3)\n",
      "Requirement already satisfied: tensorboard-data-server<0.8.0,>=0.7.0 in c:\\users\\khush\\anaconda3\\lib\\site-packages (from tensorboard<2.13,>=2.12->tensorflow-intel==2.12.0->tensorflow) (0.7.0)\n",
      "Requirement already satisfied: pyparsing!=3.0.5,>=2.0.2 in c:\\users\\khush\\anaconda3\\lib\\site-packages (from packaging->tensorflow-intel==2.12.0->tensorflow) (3.0.9)\n",
      "Requirement already satisfied: pyasn1-modules>=0.2.1 in c:\\users\\khush\\anaconda3\\lib\\site-packages (from google-auth<3,>=1.6.3->tensorboard<2.13,>=2.12->tensorflow-intel==2.12.0->tensorflow) (0.2.8)\n",
      "Requirement already satisfied: cachetools<6.0,>=2.0.0 in c:\\users\\khush\\anaconda3\\lib\\site-packages (from google-auth<3,>=1.6.3->tensorboard<2.13,>=2.12->tensorflow-intel==2.12.0->tensorflow) (5.3.0)\n",
      "Requirement already satisfied: urllib3<2.0 in c:\\users\\khush\\anaconda3\\lib\\site-packages (from google-auth<3,>=1.6.3->tensorboard<2.13,>=2.12->tensorflow-intel==2.12.0->tensorflow) (1.26.11)\n",
      "Requirement already satisfied: rsa<5,>=3.1.4 in c:\\users\\khush\\anaconda3\\lib\\site-packages (from google-auth<3,>=1.6.3->tensorboard<2.13,>=2.12->tensorflow-intel==2.12.0->tensorflow) (4.9)\n",
      "Requirement already satisfied: requests-oauthlib>=0.7.0 in c:\\users\\khush\\anaconda3\\lib\\site-packages (from google-auth-oauthlib<1.1,>=0.5->tensorboard<2.13,>=2.12->tensorflow-intel==2.12.0->tensorflow) (1.3.1)\n",
      "Requirement already satisfied: certifi>=2017.4.17 in c:\\users\\khush\\anaconda3\\lib\\site-packages (from requests<3,>=2.21.0->tensorboard<2.13,>=2.12->tensorflow-intel==2.12.0->tensorflow) (2022.9.14)\n",
      "Requirement already satisfied: idna<4,>=2.5 in c:\\users\\khush\\anaconda3\\lib\\site-packages (from requests<3,>=2.21.0->tensorboard<2.13,>=2.12->tensorflow-intel==2.12.0->tensorflow) (3.3)\n",
      "Requirement already satisfied: charset-normalizer<3,>=2 in c:\\users\\khush\\anaconda3\\lib\\site-packages (from requests<3,>=2.21.0->tensorboard<2.13,>=2.12->tensorflow-intel==2.12.0->tensorflow) (2.0.4)\n",
      "Requirement already satisfied: pyasn1<0.5.0,>=0.4.6 in c:\\users\\khush\\anaconda3\\lib\\site-packages (from pyasn1-modules>=0.2.1->google-auth<3,>=1.6.3->tensorboard<2.13,>=2.12->tensorflow-intel==2.12.0->tensorflow) (0.4.8)\n",
      "Requirement already satisfied: oauthlib>=3.0.0 in c:\\users\\khush\\anaconda3\\lib\\site-packages (from requests-oauthlib>=0.7.0->google-auth-oauthlib<1.1,>=0.5->tensorboard<2.13,>=2.12->tensorflow-intel==2.12.0->tensorflow) (3.2.2)\n"
     ]
    }
   ],
   "source": [
    "#!pip install tensorflow"
   ]
  },
  {
   "cell_type": "code",
   "execution_count": 5,
   "id": "b1e030bb",
   "metadata": {},
   "outputs": [],
   "source": [
    "from keras.utils.vis_utils import plot_model\n",
    "from keras.models import Sequential\n",
    "from keras.layers import Dense, Dropout\n",
    "from keras.callbacks import ModelCheckpoint\n",
    "import pydot\n",
    "import keras.backend as K"
   ]
  },
  {
   "cell_type": "code",
   "execution_count": 6,
   "id": "e0221894",
   "metadata": {},
   "outputs": [],
   "source": [
    "# This user-defined function return a Deep Learning Model\n",
    "\n",
    "def define_model(n_words):\n",
    "    # define network\n",
    "    model = Sequential()\n",
    "    model.add(Dense(64, input_shape=(n_words,), activation='relu', kernel_regularizer='l2'))\n",
    "#     model.add(Dropout(0.25))\n",
    "    model.add(Dense(32, activation='relu', kernel_regularizer='l2'))\n",
    "#     model.add(Dropout(0.25))\n",
    "    model.add(Dense(1, activation='sigmoid'))\n",
    "    \n",
    "    # compile network\n",
    "    model.compile(loss='binary_crossentropy', optimizer='adam', metrics=['accuracy'], )\n",
    "    \n",
    "    # summarize defined model\n",
    "    model.summary()    \n",
    "    plot_model(model, to_file='model1.png', show_shapes=True)\n",
    "    return model"
   ]
  },
  {
   "cell_type": "code",
   "execution_count": 7,
   "id": "3f7ce972",
   "metadata": {},
   "outputs": [],
   "source": [
    "# evaluate a neural network model\n",
    "def evaluate_model(Xtrain, ytrain, Xtest, ytest):\n",
    "    scores = list()\n",
    "    n_repeats = 5\n",
    "    n_words = Xtest.shape[1]\n",
    "    \n",
    "    for i in range(n_repeats):\n",
    "        # define network\n",
    "        model = define_model(n_words)\n",
    "        \n",
    "        # fit network\n",
    "        model.fit(Xtrain, ytrain, epochs=10, verbose=0)\n",
    "        \n",
    "        # evaluate\n",
    "        _, acc = model.evaluate(Xtest, ytest, verbose=0)\n",
    "        scores.append(acc)\n",
    "        \n",
    "        print('%d accuracy: %s' % ((i+1), acc))\n",
    "    return scores"
   ]
  },
  {
   "cell_type": "code",
   "execution_count": 8,
   "id": "a67ae58b",
   "metadata": {},
   "outputs": [],
   "source": [
    "# fit a tokenizer\n",
    "from keras.preprocessing.text import Tokenizer\n",
    "def create_tokenizer(lines):\n",
    "    tokenizer = Tokenizer() # num_words=1000\n",
    "    tokenizer.fit_on_texts(lines)\n",
    "    return tokenizer"
   ]
  },
  {
   "cell_type": "code",
   "execution_count": 9,
   "id": "39953e44",
   "metadata": {},
   "outputs": [],
   "source": [
    "# create the tokenizer\n",
    "train_docs = data['cleaned_tweets_with_SW']\n",
    "tokenizer = create_tokenizer(train_docs)"
   ]
  },
  {
   "cell_type": "code",
   "execution_count": 10,
   "id": "8acbb187",
   "metadata": {},
   "outputs": [],
   "source": [
    "# encode data\n",
    "X = tokenizer.texts_to_matrix(train_docs, mode='binary')"
   ]
  },
  {
   "cell_type": "code",
   "execution_count": 11,
   "id": "f2ff78de",
   "metadata": {},
   "outputs": [
    {
     "data": {
      "text/plain": [
       "(7920, 15351)"
      ]
     },
     "execution_count": 11,
     "metadata": {},
     "output_type": "execute_result"
    }
   ],
   "source": [
    "X.shape"
   ]
  },
  {
   "cell_type": "code",
   "execution_count": 12,
   "id": "ed2717ba",
   "metadata": {},
   "outputs": [
    {
     "data": {
      "text/plain": [
       "array([0., 1., 0., ..., 0., 0., 0.])"
      ]
     },
     "execution_count": 12,
     "metadata": {},
     "output_type": "execute_result"
    }
   ],
   "source": [
    "X[0]"
   ]
  },
  {
   "cell_type": "code",
   "execution_count": 13,
   "id": "395a3264",
   "metadata": {},
   "outputs": [],
   "source": [
    "y = data['label']"
   ]
  },
  {
   "cell_type": "code",
   "execution_count": 14,
   "id": "9959ad63",
   "metadata": {},
   "outputs": [],
   "source": [
    "Xtrain, Xtest, ytrain, ytest = train_test_split(X, y,  test_size=0.2,random_state=42) "
   ]
  },
  {
   "cell_type": "code",
   "execution_count": 15,
   "id": "ebbb4592",
   "metadata": {},
   "outputs": [
    {
     "data": {
      "text/plain": [
       "((6336, 15351), (1584, 15351))"
      ]
     },
     "execution_count": 15,
     "metadata": {},
     "output_type": "execute_result"
    }
   ],
   "source": [
    "Xtrain.shape, Xtest.shape"
   ]
  },
  {
   "cell_type": "code",
   "execution_count": 16,
   "id": "fd9e1f94",
   "metadata": {},
   "outputs": [
    {
     "name": "stdout",
     "output_type": "stream",
     "text": [
      "Model: \"sequential\"\n",
      "_________________________________________________________________\n",
      " Layer (type)                Output Shape              Param #   \n",
      "=================================================================\n",
      " dense (Dense)               (None, 64)                982528    \n",
      "                                                                 \n",
      " dense_1 (Dense)             (None, 32)                2080      \n",
      "                                                                 \n",
      " dense_2 (Dense)             (None, 1)                 33        \n",
      "                                                                 \n",
      "=================================================================\n",
      "Total params: 984,641\n",
      "Trainable params: 984,641\n",
      "Non-trainable params: 0\n",
      "_________________________________________________________________\n",
      "You must install pydot (`pip install pydot`) and install graphviz (see instructions at https://graphviz.gitlab.io/download/) for plot_model to work.\n"
     ]
    }
   ],
   "source": [
    "# define network\n",
    "K.clear_session() \n",
    "n_words = Xtrain.shape[1]\n",
    "model = define_model(n_words)"
   ]
  },
  {
   "attachments": {
    "59044476-403e-4f02-83b8-344f2e42f769.png": {
     "image/png": "[encoded data removed]"
    }
   },
   "cell_type": "markdown",
   "id": "4255bef1",
   "metadata": {},
   "source": [
    "![model1.png](attachment:59044476-403e-4f02-83b8-344f2e42f769.png)"
   ]
  },
  {
   "cell_type": "code",
   "execution_count": 17,
   "id": "9ffd9c3d",
   "metadata": {},
   "outputs": [
    {
     "name": "stdout",
     "output_type": "stream",
     "text": [
      "Epoch 1/25\n",
      "\n",
      "Epoch 1: val_loss improved from inf to 0.82034, saving model to BestModel.h5\n",
      "32/32 - 1s - loss: 1.2129 - accuracy: 0.7350 - val_loss: 0.8203 - val_accuracy: 0.7508 - 1s/epoch - 34ms/step\n",
      "Epoch 2/25\n",
      "\n",
      "Epoch 2: val_loss improved from 0.82034 to 0.62416, saving model to BestModel.h5\n",
      "32/32 - 0s - loss: 0.7088 - accuracy: 0.8064 - val_loss: 0.6242 - val_accuracy: 0.8470 - 488ms/epoch - 15ms/step\n",
      "Epoch 3/25\n",
      "\n",
      "Epoch 3: val_loss improved from 0.62416 to 0.53987, saving model to BestModel.h5\n",
      "32/32 - 0s - loss: 0.5820 - accuracy: 0.8636 - val_loss: 0.5399 - val_accuracy: 0.8691 - 456ms/epoch - 14ms/step\n",
      "Epoch 4/25\n",
      "\n",
      "Epoch 4: val_loss improved from 0.53987 to 0.48410, saving model to BestModel.h5\n",
      "32/32 - 0s - loss: 0.5113 - accuracy: 0.8788 - val_loss: 0.4841 - val_accuracy: 0.8738 - 464ms/epoch - 15ms/step\n",
      "Epoch 5/25\n",
      "\n",
      "Epoch 5: val_loss improved from 0.48410 to 0.44885, saving model to BestModel.h5\n",
      "32/32 - 0s - loss: 0.4628 - accuracy: 0.8895 - val_loss: 0.4489 - val_accuracy: 0.8722 - 450ms/epoch - 14ms/step\n",
      "Epoch 6/25\n",
      "\n",
      "Epoch 6: val_loss improved from 0.44885 to 0.42590, saving model to BestModel.h5\n",
      "32/32 - 0s - loss: 0.4298 - accuracy: 0.8928 - val_loss: 0.4259 - val_accuracy: 0.8707 - 447ms/epoch - 14ms/step\n",
      "Epoch 7/25\n",
      "\n",
      "Epoch 7: val_loss improved from 0.42590 to 0.40813, saving model to BestModel.h5\n",
      "32/32 - 0s - loss: 0.4061 - accuracy: 0.8992 - val_loss: 0.4081 - val_accuracy: 0.8770 - 434ms/epoch - 14ms/step\n",
      "Epoch 8/25\n",
      "\n",
      "Epoch 8: val_loss improved from 0.40813 to 0.39691, saving model to BestModel.h5\n",
      "32/32 - 0s - loss: 0.3881 - accuracy: 0.9027 - val_loss: 0.3969 - val_accuracy: 0.8770 - 458ms/epoch - 14ms/step\n",
      "Epoch 9/25\n",
      "\n",
      "Epoch 9: val_loss improved from 0.39691 to 0.39066, saving model to BestModel.h5\n",
      "32/32 - 0s - loss: 0.3762 - accuracy: 0.9055 - val_loss: 0.3907 - val_accuracy: 0.8770 - 443ms/epoch - 14ms/step\n",
      "Epoch 10/25\n",
      "\n",
      "Epoch 10: val_loss improved from 0.39066 to 0.38540, saving model to BestModel.h5\n",
      "32/32 - 0s - loss: 0.3659 - accuracy: 0.9081 - val_loss: 0.3854 - val_accuracy: 0.8754 - 459ms/epoch - 14ms/step\n",
      "Epoch 11/25\n",
      "\n",
      "Epoch 11: val_loss improved from 0.38540 to 0.38227, saving model to BestModel.h5\n",
      "32/32 - 0s - loss: 0.3589 - accuracy: 0.9097 - val_loss: 0.3823 - val_accuracy: 0.8864 - 452ms/epoch - 14ms/step\n",
      "Epoch 12/25\n",
      "\n",
      "Epoch 12: val_loss improved from 0.38227 to 0.37693, saving model to BestModel.h5\n",
      "32/32 - 0s - loss: 0.3518 - accuracy: 0.9121 - val_loss: 0.3769 - val_accuracy: 0.8880 - 451ms/epoch - 14ms/step\n",
      "Epoch 13/25\n",
      "\n",
      "Epoch 13: val_loss improved from 0.37693 to 0.37594, saving model to BestModel.h5\n",
      "32/32 - 0s - loss: 0.3481 - accuracy: 0.9123 - val_loss: 0.3759 - val_accuracy: 0.8912 - 452ms/epoch - 14ms/step\n",
      "Epoch 14/25\n",
      "\n",
      "Epoch 14: val_loss improved from 0.37594 to 0.37588, saving model to BestModel.h5\n",
      "32/32 - 0s - loss: 0.3391 - accuracy: 0.9218 - val_loss: 0.3759 - val_accuracy: 0.8864 - 444ms/epoch - 14ms/step\n",
      "Epoch 15/25\n",
      "\n",
      "Epoch 15: val_loss improved from 0.37588 to 0.37249, saving model to BestModel.h5\n",
      "32/32 - 0s - loss: 0.3354 - accuracy: 0.9186 - val_loss: 0.3725 - val_accuracy: 0.8833 - 449ms/epoch - 14ms/step\n",
      "Epoch 16/25\n",
      "\n",
      "Epoch 16: val_loss did not improve from 0.37249\n",
      "32/32 - 0s - loss: 0.3307 - accuracy: 0.9251 - val_loss: 0.3754 - val_accuracy: 0.8849 - 434ms/epoch - 14ms/step\n",
      "Epoch 17/25\n",
      "\n",
      "Epoch 17: val_loss did not improve from 0.37249\n",
      "32/32 - 0s - loss: 0.3262 - accuracy: 0.9253 - val_loss: 0.3751 - val_accuracy: 0.8833 - 419ms/epoch - 13ms/step\n",
      "Epoch 18/25\n",
      "\n",
      "Epoch 18: val_loss improved from 0.37249 to 0.37090, saving model to BestModel.h5\n",
      "32/32 - 0s - loss: 0.3206 - accuracy: 0.9283 - val_loss: 0.3709 - val_accuracy: 0.8817 - 450ms/epoch - 14ms/step\n",
      "Epoch 19/25\n",
      "\n",
      "Epoch 19: val_loss did not improve from 0.37090\n",
      "32/32 - 0s - loss: 0.3166 - accuracy: 0.9300 - val_loss: 0.3716 - val_accuracy: 0.8975 - 417ms/epoch - 13ms/step\n",
      "Epoch 20/25\n",
      "\n",
      "Epoch 20: val_loss did not improve from 0.37090\n",
      "32/32 - 0s - loss: 0.3135 - accuracy: 0.9318 - val_loss: 0.3717 - val_accuracy: 0.8880 - 420ms/epoch - 13ms/step\n",
      "Epoch 21/25\n",
      "\n",
      "Epoch 21: val_loss improved from 0.37090 to 0.36894, saving model to BestModel.h5\n",
      "32/32 - 0s - loss: 0.3089 - accuracy: 0.9339 - val_loss: 0.3689 - val_accuracy: 0.8817 - 462ms/epoch - 14ms/step\n",
      "Epoch 22/25\n",
      "\n",
      "Epoch 22: val_loss did not improve from 0.36894\n",
      "32/32 - 0s - loss: 0.3064 - accuracy: 0.9353 - val_loss: 0.3697 - val_accuracy: 0.8849 - 476ms/epoch - 15ms/step\n",
      "Epoch 23/25\n",
      "\n",
      "Epoch 23: val_loss improved from 0.36894 to 0.36878, saving model to BestModel.h5\n",
      "32/32 - 0s - loss: 0.3027 - accuracy: 0.9363 - val_loss: 0.3688 - val_accuracy: 0.8785 - 442ms/epoch - 14ms/step\n",
      "Epoch 24/25\n",
      "\n",
      "Epoch 24: val_loss improved from 0.36878 to 0.36780, saving model to BestModel.h5\n",
      "32/32 - 0s - loss: 0.3002 - accuracy: 0.9405 - val_loss: 0.3678 - val_accuracy: 0.8943 - 438ms/epoch - 14ms/step\n",
      "Epoch 25/25\n",
      "\n",
      "Epoch 25: val_loss did not improve from 0.36780\n",
      "32/32 - 0s - loss: 0.2965 - accuracy: 0.9434 - val_loss: 0.3709 - val_accuracy: 0.8801 - 421ms/epoch - 13ms/step\n"
     ]
    }
   ],
   "source": [
    "# fit network\n",
    "checkpoint = ModelCheckpoint(\"BestModel.h5\",\n",
    "                             monitor=\"val_loss\", \n",
    "                             mode=\"min\",\n",
    "                             save_best_only = True,\n",
    "                             verbose=1)\n",
    "callbacks = [checkpoint]\n",
    "\n",
    "h = model.fit(Xtrain, ytrain, validation_split=0.1, callbacks = callbacks, batch_size=180, epochs=25, verbose=2)"
   ]
  },
  {
   "cell_type": "code",
   "execution_count": 18,
   "id": "f316fa56",
   "metadata": {},
   "outputs": [
    {
     "data": {
      "text/plain": [
       "Text(0, 0.5, 'Loss Fn valaues')"
      ]
     },
     "execution_count": 18,
     "metadata": {},
     "output_type": "execute_result"
    },
    {
     "data": {
      "image/png": "[encoded data removed]",
      "text/plain": [
       "<Figure size 800x500 with 1 Axes>"
      ]
     },
     "metadata": {},
     "output_type": "display_data"
    }
   ],
   "source": [
    "import matplotlib.pyplot as plt\n",
    "\n",
    "plt.figure(figsize=(8,5))\n",
    "plt.plot(list(range(1,26)), h.history['loss'], label='Training loss')\n",
    "plt.plot(list(range(1,26)), h.history['val_loss'], label='Validation loss')\n",
    "plt.legend(fontsize=15)\n",
    "plt.grid()\n",
    "plt.xlabel('Epochs', fontsize=15)\n",
    "plt.ylabel('Loss Fn valaues', fontsize=15)"
   ]
  },
  {
   "cell_type": "code",
   "execution_count": null,
   "id": "4264a331",
   "metadata": {},
   "outputs": [],
   "source": []
  },
  {
   "cell_type": "code",
   "execution_count": 19,
   "id": "4a680ead",
   "metadata": {},
   "outputs": [
    {
     "data": {
      "text/plain": [
       "Text(0, 0.5, 'Accuracy')"
      ]
     },
     "execution_count": 19,
     "metadata": {},
     "output_type": "execute_result"
    },
    {
     "data": {
      "image/png": "[encoded data removed]",
      "text/plain": [
       "<Figure size 800x500 with 1 Axes>"
      ]
     },
     "metadata": {},
     "output_type": "display_data"
    }
   ],
   "source": [
    "import matplotlib.pyplot as plt\n",
    "\n",
    "plt.figure(figsize=(8,5))\n",
    "plt.plot(list(range(1,26)), h.history['accuracy'], label='Training Accuracy')\n",
    "plt.plot(list(range(1,26)), h.history['val_accuracy'], label='Validation Accuracy')\n",
    "plt.legend(fontsize=15)\n",
    "plt.grid()\n",
    "plt.xlabel('Epochs', fontsize=15)\n",
    "plt.ylabel('Accuracy', fontsize=15)"
   ]
  },
  {
   "cell_type": "code",
   "execution_count": null,
   "id": "f599e25e",
   "metadata": {},
   "outputs": [],
   "source": []
  },
  {
   "cell_type": "code",
   "execution_count": 20,
   "id": "161a2e93",
   "metadata": {},
   "outputs": [
    {
     "name": "stdout",
     "output_type": "stream",
     "text": [
      "Test Accuracy: 89.015150\n"
     ]
    }
   ],
   "source": [
    "# evaluate the model ONCe on the test set\n",
    "loss, acc = model.evaluate(Xtest, ytest, verbose=0)\n",
    "print('Test Accuracy: %f' % (acc*100))"
   ]
  },
  {
   "cell_type": "code",
   "execution_count": 21,
   "id": "dc98806b",
   "metadata": {},
   "outputs": [
    {
     "name": "stdout",
     "output_type": "stream",
     "text": [
      "Model: \"sequential_1\"\n",
      "_________________________________________________________________\n",
      " Layer (type)                Output Shape              Param #   \n",
      "=================================================================\n",
      " dense_3 (Dense)             (None, 64)                982528    \n",
      "                                                                 \n",
      " dense_4 (Dense)             (None, 32)                2080      \n",
      "                                                                 \n",
      " dense_5 (Dense)             (None, 1)                 33        \n",
      "                                                                 \n",
      "=================================================================\n",
      "Total params: 984,641\n",
      "Trainable params: 984,641\n",
      "Non-trainable params: 0\n",
      "_________________________________________________________________\n",
      "You must install pydot (`pip install pydot`) and install graphviz (see instructions at https://graphviz.gitlab.io/download/) for plot_model to work.\n",
      "1 accuracy: 0.8888888955116272\n",
      "Model: \"sequential_2\"\n",
      "_________________________________________________________________\n",
      " Layer (type)                Output Shape              Param #   \n",
      "=================================================================\n",
      " dense_6 (Dense)             (None, 64)                982528    \n",
      "                                                                 \n",
      " dense_7 (Dense)             (None, 32)                2080      \n",
      "                                                                 \n",
      " dense_8 (Dense)             (None, 1)                 33        \n",
      "                                                                 \n",
      "=================================================================\n",
      "Total params: 984,641\n",
      "Trainable params: 984,641\n",
      "Non-trainable params: 0\n",
      "_________________________________________________________________\n",
      "You must install pydot (`pip install pydot`) and install graphviz (see instructions at https://graphviz.gitlab.io/download/) for plot_model to work.\n",
      "2 accuracy: 0.8907828330993652\n",
      "Model: \"sequential_3\"\n",
      "_________________________________________________________________\n",
      " Layer (type)                Output Shape              Param #   \n",
      "=================================================================\n",
      " dense_9 (Dense)             (None, 64)                982528    \n",
      "                                                                 \n",
      " dense_10 (Dense)            (None, 32)                2080      \n",
      "                                                                 \n",
      " dense_11 (Dense)            (None, 1)                 33        \n",
      "                                                                 \n",
      "=================================================================\n",
      "Total params: 984,641\n",
      "Trainable params: 984,641\n",
      "Non-trainable params: 0\n",
      "_________________________________________________________________\n",
      "You must install pydot (`pip install pydot`) and install graphviz (see instructions at https://graphviz.gitlab.io/download/) for plot_model to work.\n",
      "3 accuracy: 0.8996211886405945\n",
      "Model: \"sequential_4\"\n",
      "_________________________________________________________________\n",
      " Layer (type)                Output Shape              Param #   \n",
      "=================================================================\n",
      " dense_12 (Dense)            (None, 64)                982528    \n",
      "                                                                 \n",
      " dense_13 (Dense)            (None, 32)                2080      \n",
      "                                                                 \n",
      " dense_14 (Dense)            (None, 1)                 33        \n",
      "                                                                 \n",
      "=================================================================\n",
      "Total params: 984,641\n",
      "Trainable params: 984,641\n",
      "Non-trainable params: 0\n",
      "_________________________________________________________________\n",
      "You must install pydot (`pip install pydot`) and install graphviz (see instructions at https://graphviz.gitlab.io/download/) for plot_model to work.\n",
      "4 accuracy: 0.876893937587738\n",
      "Model: \"sequential_5\"\n",
      "_________________________________________________________________\n",
      " Layer (type)                Output Shape              Param #   \n",
      "=================================================================\n",
      " dense_15 (Dense)            (None, 64)                982528    \n",
      "                                                                 \n",
      " dense_16 (Dense)            (None, 32)                2080      \n",
      "                                                                 \n",
      " dense_17 (Dense)            (None, 1)                 33        \n",
      "                                                                 \n",
      "=================================================================\n",
      "Total params: 984,641\n",
      "Trainable params: 984,641\n",
      "Non-trainable params: 0\n",
      "_________________________________________________________________\n",
      "You must install pydot (`pip install pydot`) and install graphviz (see instructions at https://graphviz.gitlab.io/download/) for plot_model to work.\n",
      "5 accuracy: 0.8933081030845642\n"
     ]
    }
   ],
   "source": [
    "# evaluate (Train & Test repeated 5 times)\n",
    "res = evaluate_model(Xtrain, ytrain, Xtest, ytest)"
   ]
  },
  {
   "cell_type": "code",
   "execution_count": null,
   "id": "689d53ff",
   "metadata": {},
   "outputs": [],
   "source": []
  },
  {
   "cell_type": "markdown",
   "id": "f1e0b15e",
   "metadata": {},
   "source": [
    "# 13. Word Embedding Model using Keras Embedding Layer"
   ]
  },
  {
   "cell_type": "code",
   "execution_count": 24,
   "id": "3a86c00d",
   "metadata": {},
   "outputs": [],
   "source": [
    "from numpy import array\n",
    "from keras.preprocessing.text import Tokenizer\n",
    "from keras_preprocessing.sequence import pad_sequences\n",
    "from keras.utils.vis_utils import plot_model\n",
    "from keras.models import Sequential\n",
    "from keras.layers import Dense\n",
    "from keras.layers import Flatten\n",
    "from keras.layers import Embedding\n",
    "from keras.layers.convolutional import Conv1D\n",
    "from keras.layers.convolutional import MaxPooling1D\n"
   ]
  },
  {
   "cell_type": "code",
   "execution_count": 25,
   "id": "3199f1d8",
   "metadata": {},
   "outputs": [
    {
     "data": {
      "text/html": [
       "<div>\n",
       "<style scoped>\n",
       "    .dataframe tbody tr th:only-of-type {\n",
       "        vertical-align: middle;\n",
       "    }\n",
       "\n",
       "    .dataframe tbody tr th {\n",
       "        vertical-align: top;\n",
       "    }\n",
       "\n",
       "    .dataframe thead th {\n",
       "        text-align: right;\n",
       "    }\n",
       "</style>\n",
       "<table border=\"1\" class=\"dataframe\">\n",
       "  <thead>\n",
       "    <tr style=\"text-align: right;\">\n",
       "      <th></th>\n",
       "      <th>id</th>\n",
       "      <th>label</th>\n",
       "      <th>tweet</th>\n",
       "      <th>cleaned_tweets_w/o_SW</th>\n",
       "      <th>cleaned_tweets_with_SW</th>\n",
       "    </tr>\n",
       "  </thead>\n",
       "  <tbody>\n",
       "    <tr>\n",
       "      <th>0</th>\n",
       "      <td>1</td>\n",
       "      <td>0</td>\n",
       "      <td>#fingerprint #Pregnancy Test https://goo.gl/h1MfQV #android #apps #beautiful #cute #health #igers #iphoneonly #iphonesia #iphone</td>\n",
       "      <td>fingerprint pregnancy test android apps beautiful cute health igers iphoneonly iphonesia iphone</td>\n",
       "      <td>fingerprint pregnancy test android apps beautiful cute health igers iphoneonly iphonesia iphone</td>\n",
       "    </tr>\n",
       "    <tr>\n",
       "      <th>1</th>\n",
       "      <td>2</td>\n",
       "      <td>0</td>\n",
       "      <td>Finally a transparant silicon case ^^ Thanks to my uncle :) #yay #Sony #Xperia #S #sonyexperias… http://instagram.com/p/YGEt5JC6JM/</td>\n",
       "      <td>finally a transparant silicon case thanks to my uncle yay sony xperia s sonyexperias</td>\n",
       "      <td>finally transparant silicon case thanks uncle yay sony xperia sonyexperias</td>\n",
       "    </tr>\n",
       "    <tr>\n",
       "      <th>2</th>\n",
       "      <td>3</td>\n",
       "      <td>0</td>\n",
       "      <td>We love this! Would you go? #talk #makememories #unplug #relax #iphone #smartphone #wifi #connect... http://fb.me/6N3LsUpCu</td>\n",
       "      <td>we love this would you go talk makememories unplug relax iphone smartphone wifi connect</td>\n",
       "      <td>love talk makememories unplug relax iphone smartphone wifi connect</td>\n",
       "    </tr>\n",
       "    <tr>\n",
       "      <th>3</th>\n",
       "      <td>4</td>\n",
       "      <td>0</td>\n",
       "      <td>I'm wired I know I'm George I was made that way ;) #iphone #cute #daventry #home http://instagr.am/p/Li_5_ujS4k/</td>\n",
       "      <td>i am wired i know i am george i wa made that way iphone cute daventry home</td>\n",
       "      <td>wired know george way iphone cute daventry home</td>\n",
       "    </tr>\n",
       "    <tr>\n",
       "      <th>4</th>\n",
       "      <td>5</td>\n",
       "      <td>1</td>\n",
       "      <td>What amazing service! Apple won't even talk to me about a question I have unless I pay them $19.95 for their stupid support!</td>\n",
       "      <td>what amazing service apple will not even talk to me about a question i have unless i pay them for their stupid support</td>\n",
       "      <td>amazing service apple talk question unless pay stupid support</td>\n",
       "    </tr>\n",
       "  </tbody>\n",
       "</table>\n",
       "</div>"
      ],
      "text/plain": [
       "   id  label  \\\n",
       "0   1      0   \n",
       "1   2      0   \n",
       "2   3      0   \n",
       "3   4      0   \n",
       "4   5      1   \n",
       "\n",
       "                                                                                                                                 tweet  \\\n",
       "0     #fingerprint #Pregnancy Test https://goo.gl/h1MfQV #android #apps #beautiful #cute #health #igers #iphoneonly #iphonesia #iphone   \n",
       "1  Finally a transparant silicon case ^^ Thanks to my uncle :) #yay #Sony #Xperia #S #sonyexperias… http://instagram.com/p/YGEt5JC6JM/   \n",
       "2          We love this! Would you go? #talk #makememories #unplug #relax #iphone #smartphone #wifi #connect... http://fb.me/6N3LsUpCu   \n",
       "3                     I'm wired I know I'm George I was made that way ;) #iphone #cute #daventry #home http://instagr.am/p/Li_5_ujS4k/   \n",
       "4         What amazing service! Apple won't even talk to me about a question I have unless I pay them $19.95 for their stupid support!   \n",
       "\n",
       "                                                                                                     cleaned_tweets_w/o_SW  \\\n",
       "0                         fingerprint pregnancy test android apps beautiful cute health igers iphoneonly iphonesia iphone    \n",
       "1                                    finally a transparant silicon case thanks to my uncle yay sony xperia s sonyexperias    \n",
       "2                                 we love this would you go talk makememories unplug relax iphone smartphone wifi connect    \n",
       "3                                              i am wired i know i am george i wa made that way iphone cute daventry home    \n",
       "4  what amazing service apple will not even talk to me about a question i have unless i pay them for their stupid support    \n",
       "\n",
       "                                                                             cleaned_tweets_with_SW  \n",
       "0  fingerprint pregnancy test android apps beautiful cute health igers iphoneonly iphonesia iphone   \n",
       "1                       finally transparant silicon case thanks uncle yay sony xperia sonyexperias   \n",
       "2                               love talk makememories unplug relax iphone smartphone wifi connect   \n",
       "3                                                  wired know george way iphone cute daventry home   \n",
       "4                                    amazing service apple talk question unless pay stupid support   "
      ]
     },
     "execution_count": 25,
     "metadata": {},
     "output_type": "execute_result"
    }
   ],
   "source": [
    "data.head()"
   ]
  },
  {
   "cell_type": "code",
   "execution_count": 26,
   "id": "5f443de3",
   "metadata": {},
   "outputs": [],
   "source": [
    "Xtrain, Xtest, ytrain, ytest = train_test_split(data['cleaned_tweets_w/o_SW'], data['label'],  test_size=0.2, random_state=42) "
   ]
  },
  {
   "cell_type": "code",
   "execution_count": 27,
   "id": "9237c76b",
   "metadata": {},
   "outputs": [
    {
     "data": {
      "text/plain": [
       "(6336,)"
      ]
     },
     "execution_count": 27,
     "metadata": {},
     "output_type": "execute_result"
    }
   ],
   "source": [
    "Xtrain.shape"
   ]
  },
  {
   "cell_type": "code",
   "execution_count": 28,
   "id": "030be56b",
   "metadata": {},
   "outputs": [],
   "source": [
    "# integer encode and pad documents\n",
    "def encode_docs(tokenizer, max_length, docs):\n",
    "    # integer encode\n",
    "    encoded = tokenizer.texts_to_sequences(docs)\n",
    "    \n",
    "    # pad sequences\n",
    "    padded = pad_sequences(encoded, maxlen=max_length, padding='post')\n",
    "    return padded"
   ]
  },
  {
   "cell_type": "code",
   "execution_count": 29,
   "id": "d418e61c",
   "metadata": {},
   "outputs": [
    {
     "name": "stdout",
     "output_type": "stream",
     "text": [
      "Vocabulary size: 15351\n",
      "Maximum length: 37\n"
     ]
    }
   ],
   "source": [
    "# define vocabulary size\n",
    "vocab_size = len(tokenizer.word_index) + 1\n",
    "print('Vocabulary size: %d' % vocab_size)\n",
    "\n",
    "# calculate the maximum sequence length\n",
    "max_length = max([len(s.split()) for s in train_docs])\n",
    "print('Maximum length: %d' % max_length)"
   ]
  },
  {
   "cell_type": "code",
   "execution_count": 30,
   "id": "9d190520",
   "metadata": {},
   "outputs": [
    {
     "data": {
      "text/plain": [
       "array([[  134,   381,  4946, ...,  4958,  4959,     0],\n",
       "       [   44,   348,    76, ...,     0,     0,     0],\n",
       "       [  954,    54,     5, ...,     0,     0,     0],\n",
       "       ...,\n",
       "       [   10,   110,    10, ...,     0,     0,     0],\n",
       "       [   44, 13830,     1, ...,     0,     0,     0],\n",
       "       [   38,    62,    46, ...,     0,     0,     0]])"
      ]
     },
     "execution_count": 30,
     "metadata": {},
     "output_type": "execute_result"
    }
   ],
   "source": [
    "tokenizer = create_tokenizer(Xtrain)\n",
    "padded_docs_train = encode_docs(tokenizer, max_length, Xtrain)\n",
    "padded_docs_train"
   ]
  },
  {
   "cell_type": "code",
   "execution_count": 31,
   "id": "520711f6",
   "metadata": {},
   "outputs": [
    {
     "data": {
      "text/plain": [
       "(6336, 37)"
      ]
     },
     "execution_count": 31,
     "metadata": {},
     "output_type": "execute_result"
    }
   ],
   "source": [
    "padded_docs_train.shape"
   ]
  },
  {
   "cell_type": "code",
   "execution_count": 32,
   "id": "f4f59934",
   "metadata": {},
   "outputs": [
    {
     "data": {
      "text/plain": [
       "(1584, 37)"
      ]
     },
     "execution_count": 32,
     "metadata": {},
     "output_type": "execute_result"
    }
   ],
   "source": [
    "tokenizer = create_tokenizer(Xtest)\n",
    "padded_docs_test = encode_docs(tokenizer, max_length, Xtest)\n",
    "padded_docs_test.shape"
   ]
  },
  {
   "cell_type": "code",
   "execution_count": 33,
   "id": "6441781f",
   "metadata": {},
   "outputs": [],
   "source": [
    "# define the model\n",
    "def define_model(vocab_size, max_length):\n",
    "    model = Sequential()\n",
    "    model.add(Embedding(vocab_size, 300, input_length=max_length))\n",
    "    \n",
    "    model.add(Conv1D(filters=64, kernel_size=3, activation='relu')) # this layer does feature extraction from the text\n",
    "    model.add(MaxPooling1D(pool_size=2)) # this layer concentrates to more imp. features\n",
    "    \n",
    "    model.add(Conv1D(filters=64, kernel_size=8, activation='relu')) # this layer does feature extraction from the text\n",
    "    model.add(MaxPooling1D(pool_size=2)) # this layer concentrates to more imp. features\n",
    "    \n",
    "    model.add(Flatten()) # feature matrix is collapsed into one dimension.\n",
    "    model.add(Dense(64, activation='relu'))  # hidden layer\n",
    "    model.add(Dense(32, activation='relu'))  # hidden layer\n",
    "    \n",
    "    model.add(Dense(1, activation='sigmoid')) # output layer\n",
    "    \n",
    "    # compile network\n",
    "    model.compile(loss='binary_crossentropy', optimizer='adam', metrics=['accuracy'])\n",
    "    \n",
    "    # summarize defined model\n",
    "#     model.summary()\n",
    "    plot_model(model, to_file='model2.png', show_shapes=True)\n",
    "    \n",
    "    return model"
   ]
  },
  {
   "cell_type": "markdown",
   "id": "bed3047c",
   "metadata": {},
   "source": [
    "#model.add(Embedding(input_dim=vocab_size, output_dim=embedding_size, input_length=max_length))"
   ]
  },
  {
   "cell_type": "markdown",
   "id": "4ad7bcda",
   "metadata": {},
   "source": [
    "#### The Embedding layer takes in three arguments:\n",
    "\n",
    "- `input_dim`: the size of the vocabulary in the text data\n",
    "- `output_dim`: the size of the dense embedding vector\n",
    "- `input_length`: the maximum length of input sequences.\n",
    "\n",
    "\n",
    "The Conv1D layer takes in a few arguments:\n",
    "\n",
    "- `filters`: the number of filters to learn\n",
    "- `kernel_size`: the size of the kernel window\n",
    "- `activation`: the activation function to use\n",
    "\n",
    "\n",
    "The MaxPooling1D layer takes in one argument: `pool_size`: the size of the pooling window\n"
   ]
  },
  {
   "cell_type": "code",
   "execution_count": 34,
   "id": "fbe5d873",
   "metadata": {},
   "outputs": [
    {
     "name": "stdout",
     "output_type": "stream",
     "text": [
      "You must install pydot (`pip install pydot`) and install graphviz (see instructions at https://graphviz.gitlab.io/download/) for plot_model to work.\n",
      "Model: \"sequential\"\n",
      "_________________________________________________________________\n",
      " Layer (type)                Output Shape              Param #   \n",
      "=================================================================\n",
      " embedding (Embedding)       (None, 37, 300)           4605300   \n",
      "                                                                 \n",
      " conv1d (Conv1D)             (None, 35, 64)            57664     \n",
      "                                                                 \n",
      " max_pooling1d (MaxPooling1D  (None, 17, 64)           0         \n",
      " )                                                               \n",
      "                                                                 \n",
      " conv1d_1 (Conv1D)           (None, 10, 64)            32832     \n",
      "                                                                 \n",
      " max_pooling1d_1 (MaxPooling  (None, 5, 64)            0         \n",
      " 1D)                                                             \n",
      "                                                                 \n",
      " flatten (Flatten)           (None, 320)               0         \n",
      "                                                                 \n",
      " dense (Dense)               (None, 64)                20544     \n",
      "                                                                 \n",
      " dense_1 (Dense)             (None, 32)                2080      \n",
      "                                                                 \n",
      " dense_2 (Dense)             (None, 1)                 33        \n",
      "                                                                 \n",
      "=================================================================\n",
      "Total params: 4,718,453\n",
      "Trainable params: 4,718,453\n",
      "Non-trainable params: 0\n",
      "_________________________________________________________________\n"
     ]
    }
   ],
   "source": [
    "# define model\n",
    "K.clear_session() \n",
    "model = define_model(vocab_size, max_length)\n",
    "model.summary()"
   ]
  },
  {
   "attachments": {
    "1d47057d-bfca-4dce-90da-8ec85394406e.png": {
     "image/png": "[encoded data removed]"
    }
   },
   "cell_type": "markdown",
   "id": "82f49e06",
   "metadata": {},
   "source": [
    "![model2.png](attachment:1d47057d-bfca-4dce-90da-8ec85394406e.png)"
   ]
  },
  {
   "cell_type": "code",
   "execution_count": 35,
   "id": "caf180d9",
   "metadata": {},
   "outputs": [
    {
     "name": "stdout",
     "output_type": "stream",
     "text": [
      "Epoch 1/25\n",
      "198/198 - 7s - loss: 0.3389 - accuracy: 0.8430 - val_loss: 0.6609 - val_accuracy: 0.6957 - 7s/epoch - 35ms/step\n",
      "Epoch 2/25\n",
      "198/198 - 6s - loss: 0.1691 - accuracy: 0.9348 - val_loss: 1.2904 - val_accuracy: 0.6926 - 6s/epoch - 32ms/step\n",
      "Epoch 3/25\n",
      "198/198 - 6s - loss: 0.0878 - accuracy: 0.9686 - val_loss: 1.6394 - val_accuracy: 0.6780 - 6s/epoch - 32ms/step\n",
      "Epoch 4/25\n",
      "198/198 - 6s - loss: 0.0417 - accuracy: 0.9872 - val_loss: 1.9047 - val_accuracy: 0.6705 - 6s/epoch - 32ms/step\n",
      "Epoch 5/25\n",
      "198/198 - 6s - loss: 0.0208 - accuracy: 0.9934 - val_loss: 2.9344 - val_accuracy: 0.6824 - 6s/epoch - 32ms/step\n",
      "Epoch 6/25\n",
      "198/198 - 6s - loss: 0.0092 - accuracy: 0.9968 - val_loss: 3.5912 - val_accuracy: 0.6957 - 6s/epoch - 32ms/step\n",
      "Epoch 7/25\n",
      "198/198 - 6s - loss: 0.0071 - accuracy: 0.9967 - val_loss: 3.0460 - val_accuracy: 0.6275 - 6s/epoch - 32ms/step\n",
      "Epoch 8/25\n",
      "198/198 - 6s - loss: 0.0120 - accuracy: 0.9957 - val_loss: 3.1398 - val_accuracy: 0.6503 - 6s/epoch - 32ms/step\n",
      "Epoch 9/25\n",
      "198/198 - 6s - loss: 0.0164 - accuracy: 0.9943 - val_loss: 2.3742 - val_accuracy: 0.6774 - 6s/epoch - 32ms/step\n",
      "Epoch 10/25\n",
      "198/198 - 6s - loss: 0.0071 - accuracy: 0.9978 - val_loss: 3.2639 - val_accuracy: 0.6660 - 6s/epoch - 32ms/step\n",
      "Epoch 11/25\n",
      "198/198 - 6s - loss: 0.0039 - accuracy: 0.9989 - val_loss: 3.1701 - val_accuracy: 0.6843 - 6s/epoch - 31ms/step\n",
      "Epoch 12/25\n",
      "198/198 - 6s - loss: 0.0019 - accuracy: 0.9995 - val_loss: 3.5831 - val_accuracy: 0.6837 - 6s/epoch - 32ms/step\n",
      "Epoch 13/25\n",
      "198/198 - 6s - loss: 0.0010 - accuracy: 0.9994 - val_loss: 3.9395 - val_accuracy: 0.6837 - 6s/epoch - 32ms/step\n",
      "Epoch 14/25\n",
      "198/198 - 6s - loss: 9.3608e-04 - accuracy: 0.9994 - val_loss: 4.0799 - val_accuracy: 0.6875 - 6s/epoch - 31ms/step\n",
      "Epoch 15/25\n",
      "198/198 - 6s - loss: 8.4952e-04 - accuracy: 0.9995 - val_loss: 4.2087 - val_accuracy: 0.6843 - 6s/epoch - 31ms/step\n",
      "Epoch 16/25\n",
      "198/198 - 6s - loss: 7.8504e-04 - accuracy: 0.9994 - val_loss: 4.3315 - val_accuracy: 0.6856 - 6s/epoch - 32ms/step\n",
      "Epoch 17/25\n",
      "198/198 - 6s - loss: 7.8132e-04 - accuracy: 0.9994 - val_loss: 4.4020 - val_accuracy: 0.6869 - 6s/epoch - 31ms/step\n",
      "Epoch 18/25\n",
      "198/198 - 6s - loss: 7.7225e-04 - accuracy: 0.9994 - val_loss: 4.4331 - val_accuracy: 0.6856 - 6s/epoch - 31ms/step\n",
      "Epoch 19/25\n",
      "198/198 - 6s - loss: 7.2734e-04 - accuracy: 0.9994 - val_loss: 4.5432 - val_accuracy: 0.6856 - 6s/epoch - 31ms/step\n",
      "Epoch 20/25\n",
      "198/198 - 6s - loss: 6.9922e-04 - accuracy: 0.9995 - val_loss: 4.6738 - val_accuracy: 0.6862 - 6s/epoch - 32ms/step\n",
      "Epoch 21/25\n",
      "198/198 - 6s - loss: 6.9490e-04 - accuracy: 0.9995 - val_loss: 4.7920 - val_accuracy: 0.6862 - 6s/epoch - 31ms/step\n",
      "Epoch 22/25\n",
      "198/198 - 6s - loss: 6.8823e-04 - accuracy: 0.9995 - val_loss: 4.8615 - val_accuracy: 0.6862 - 6s/epoch - 32ms/step\n",
      "Epoch 23/25\n",
      "198/198 - 6s - loss: 6.8815e-04 - accuracy: 0.9995 - val_loss: 4.8807 - val_accuracy: 0.6869 - 6s/epoch - 31ms/step\n",
      "Epoch 24/25\n",
      "198/198 - 6s - loss: 6.7797e-04 - accuracy: 0.9994 - val_loss: 4.9815 - val_accuracy: 0.6869 - 6s/epoch - 32ms/step\n",
      "Epoch 25/25\n",
      "198/198 - 6s - loss: 6.7663e-04 - accuracy: 0.9992 - val_loss: 5.0634 - val_accuracy: 0.6869 - 6s/epoch - 32ms/step\n"
     ]
    }
   ],
   "source": [
    "# fit network\n",
    "model.fit(padded_docs_train, ytrain, epochs=25, verbose=2, validation_data=(padded_docs_test, ytest))\n",
    "\n",
    "# save the model\n",
    "model.save('model_DL_WE.h5')"
   ]
  },
  {
   "cell_type": "code",
   "execution_count": 36,
   "id": "737a165e",
   "metadata": {},
   "outputs": [
    {
     "name": "stdout",
     "output_type": "stream",
     "text": [
      "Test Accuracy: 68.686867\n"
     ]
    }
   ],
   "source": [
    "# evaluate the model ONCe on the test set\n",
    "loss, acc = model.evaluate(padded_docs_test, ytest, verbose=0)\n",
    "print('Test Accuracy: %f' % (acc*100))"
   ]
  },
  {
   "cell_type": "code",
   "execution_count": null,
   "id": "0b127da3",
   "metadata": {},
   "outputs": [],
   "source": []
  },
  {
   "cell_type": "code",
   "execution_count": null,
   "id": "d7fe1596",
   "metadata": {},
   "outputs": [],
   "source": []
  },
  {
   "cell_type": "code",
   "execution_count": null,
   "id": "3c890f3c",
   "metadata": {},
   "outputs": [],
   "source": []
  },
  {
   "cell_type": "code",
   "execution_count": null,
   "id": "105654dd",
   "metadata": {},
   "outputs": [],
   "source": []
  },
  {
   "cell_type": "code",
   "execution_count": null,
   "id": "dc29cf18",
   "metadata": {},
   "outputs": [],
   "source": []
  },
  {
   "cell_type": "code",
   "execution_count": null,
   "id": "576936c9",
   "metadata": {},
   "outputs": [],
   "source": []
  },
  {
   "cell_type": "code",
   "execution_count": null,
   "id": "34d0525d",
   "metadata": {},
   "outputs": [],
   "source": []
  }
 ],
 "metadata": {
  "kernelspec": {
   "display_name": "Python 3 (ipykernel)",
   "language": "python",
   "name": "python3"
  },
  "language_info": {
   "codemirror_mode": {
    "name": "ipython",
    "version": 3
   },
   "file_extension": ".py",
   "mimetype": "text/x-python",
   "name": "python",
   "nbconvert_exporter": "python",
   "pygments_lexer": "ipython3",
   "version": "3.9.13"
  }
 },
 "nbformat": 4,
 "nbformat_minor": 5
}
